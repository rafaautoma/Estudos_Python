{
  "nbformat": 4,
  "nbformat_minor": 0,
  "metadata": {
    "colab": {
      "provenance": [],
      "toc_visible": true,
      "include_colab_link": true
    },
    "kernelspec": {
      "name": "python3",
      "display_name": "Python 3"
    },
    "language_info": {
      "name": "python"
    }
  },
  "cells": [
    {
      "cell_type": "markdown",
      "metadata": {
        "id": "view-in-github",
        "colab_type": "text"
      },
      "source": [
        "<a href=\"https://colab.research.google.com/github/rafaautoma/Estudos_Python/blob/main/C%C3%B3pia_de_%5BAWARI_DA_09_03%5D_Pr%C3%A1tica_An%C3%A1lise_de_Dados_com_Pandas.ipynb\" target=\"_parent\"><img src=\"https://colab.research.google.com/assets/colab-badge.svg\" alt=\"Open In Colab\"/></a>"
      ]
    },
    {
      "cell_type": "markdown",
      "source": [
        "![header-notebooks.png](data:image/png;base64,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)\n",
        "\n",
        "Prática da **Aula 9: Python com Pandas**, do curso de **Data Analytics** da **[Awari](https://awari.com.br/)**. Para utilizá-la, vá no menu \"Arquivo\" e, em seguida, na opção \"Salvar uma cópia no Drive\". Isto criará uma cópia deste notebook em uma pasta chamada \"Colab Notebooks\", no seu Google Drive pessoal. Use a cópia para criar novas células de código ou executar as células desta prática.\n",
        "\n",
        "---"
      ],
      "metadata": {
        "id": "zVVTP8YtbD2q"
      }
    },
    {
      "cell_type": "markdown",
      "source": [
        "# **Visão rápida do Google Colab**\n",
        "\n",
        "Este é o ambiente chamado **Google Colaboratory** ou simplesmente **Google Colab**. Nesta prática, vamos entender como ele funciona, ao mesmo tempo em que já praticamos Python e usamos a biblioteca Pandas, para análise de dados tabulares.\n",
        "\n"
      ],
      "metadata": {
        "id": "ZrEQQJlFbUCW"
      }
    },
    {
      "cell_type": "markdown",
      "source": [
        "## **Notebooks**\n",
        "\n",
        "Primeiro, é importante conhecer que todo este documento é um **notebook** (\"caderno de anotações\", em tradução livre). \n",
        "\n",
        "O nome deriva de outra ferramenta, chamada **[Jupyter Notebook](https://jupyter.org/)**, que deu origem a este tipo de ambiente.\n",
        "\n",
        "Basicamente, notebooks são ambientes que permitem aliar **documentação** do que está sendo feito e **programação interativa**, isto é, executar código à medida em que ele é escrito."
      ],
      "metadata": {
        "id": "0bt0_zD8b5fO"
      }
    },
    {
      "cell_type": "markdown",
      "source": [
        "### **Documentação**\n",
        "\n",
        "A documentação do que está sendo feita é possível de **células de texto**, como esta que você está lendo ou como as outras acima desta.\n",
        "\n",
        "Abaixo, temos uma célula de texto vazia. Experiemente dar dois cliques nela e ver o que acontece:"
      ],
      "metadata": {
        "id": "5FIzFkyZdWUe"
      }
    },
    {
      "cell_type": "markdown",
      "source": [
        "*Dê dois cliques nessa célula...*"
      ],
      "metadata": {
        "id": "hZuoZfYSdo4y"
      }
    },
    {
      "cell_type": "markdown",
      "source": [],
      "metadata": {
        "id": "J61GZB3L_XAC"
      }
    },
    {
      "cell_type": "markdown",
      "source": [
        "Se você deu dois cliques sobre a célula, verá que é possível digitar texto nela. Experimente brincar um pouco.\n",
        "\n",
        "Para criar uma nova célula de texto, clique no botão \"+ Texto\", no alto da página ou que aparece quando você passa o mouse sobre a barra inferior desta célula em que estamos."
      ],
      "metadata": {
        "id": "WYlZ79bQdwaD"
      }
    },
    {
      "cell_type": "markdown",
      "source": [
        "#### **Markdown**\n",
        "\n",
        "O formato utilizado para escrever texto nessas células é conhecido como **Markdown**. É uma maneira fácil de redigir e formatar textos com alguns comandos muito simples.\n",
        "\n",
        "Por exemplo, uma palavra colocada entre asteriscos (\\*) simples é formatada em itálico. Outra palavra colocada entre asteriscos duplos (\\**) é formata como negrito.\n",
        "\n",
        "Para aprender todas as formatações possíveis, confira o **[Markdown Guide](https://www.markdownguide.org/basic-syntax/)**. \n",
        "\n",
        "Quando você tiver um tempo, procure estudá-lo. É úti. para você documentar melhor seus projetos de Ciência de Dados em notebooks.\n",
        "\n",
        "Além de permitir escrever textos, o Google Colab oferece outros recursos especiais, que é a inserção de emojis (✅ ⛵ ⛱ 🚘) e de **fórmulas matemáticas** em células de textos, como por exemplo:\n",
        "\n",
        "*\\begin{align}\n",
        "        P(A \\mid B) = \\frac{P(B \\mid A) \\, P(A)}{P(B)}\n",
        "    \\end{align}*\n",
        "\n",
        "(A fórmula acima é chamada de Teorema de Bayes e é muito famosa em estatística. Permite calcular a probabilidade de um evento ocorrer um evento A dado que um evento B já ocorreu.)"
      ],
      "metadata": {
        "id": "S-1KWTcReEhu"
      }
    },
    {
      "cell_type": "markdown",
      "source": [
        "#### **Programação interativa**\n",
        "\n",
        "A programação interativa é possível por meio de **células de código**, como a abaixo. Estas células são especiais. \n",
        "\n",
        "Elas permitem escrever na linguagem de programação Python (que veremos ao longo do curso) e executar as instruções em tempo real.\n",
        "\n",
        "Para ver como funcione, clique sobre a célula a seguir e tecle Ctrl Enter ou clique no botão de \"play\" que há na frente da célula."
      ],
      "metadata": {
        "id": "54jsAJxlc4Gg"
      }
    },
    {
      "cell_type": "code",
      "source": [
        "# Exemplo de célula de código\n",
        "print(\"Olá, Mundo!\")"
      ],
      "metadata": {
        "id": "Qljdyjuab3sc"
      },
      "execution_count": null,
      "outputs": []
    },
    {
      "cell_type": "markdown",
      "source": [
        "Ao executar a célula, ela retornará a mensagem \"Ola, Mundo!\" logo abaixo.\n",
        "\n",
        "Para você perder o medo e se ambientar, faça um cálculo simples na célula abaixo. Digite, por exemplo ```2 + 2``` e dar Ctrl Enter ou clicar no botão de play.\n",
        "\n"
      ],
      "metadata": {
        "id": "_eeedwaNfml8"
      }
    },
    {
      "cell_type": "code",
      "source": [
        "# Digite o código na linha abaixo\n",
        "2+2"
      ],
      "metadata": {
        "id": "bOjFmTIrbMlk",
        "colab": {
          "base_uri": "https://localhost:8080/"
        },
        "outputId": "38741d06-b7a7-4d1a-f43e-b98c7bba14e0"
      },
      "execution_count": null,
      "outputs": [
        {
          "output_type": "execute_result",
          "data": {
            "text/plain": [
              "4"
            ]
          },
          "metadata": {},
          "execution_count": 1
        }
      ]
    },
    {
      "cell_type": "markdown",
      "source": [
        "A célula retornará o resultado da soma, que, no caso de ```2 + 2```, é o número ```4```."
      ],
      "metadata": {
        "id": "xb4-i2UMgK-R"
      }
    },
    {
      "cell_type": "markdown",
      "source": [
        "### **Recursos adicionais**\n",
        "\n",
        "Aqui do lado esquerdo da tela, você verá alguns botões, como um menu hambuguer, uma lupa, um \\{x} e uma pasta.\n",
        "\n",
        "O **menu hamburguer** permite ver o índice deste notebook (a lista de títulos de células de texto).\n",
        "\n",
        "O **menu lupa** permite localizar e substituir termos ao longo do notebook.\n",
        "\n",
        "O **menu \\{x}** é um inspetor de variáveis.\n",
        "\n",
        "O **menu pasta** permite conectar pastas do seu Google Drive e importar arquivos de dados para serem manipulados em um notebook, por exemplo (você verá mais sobre isso em práticas de aulas).\n",
        "\n",
        "Além disso, você pode compartilhar seus notebooks como outros documentos do Google e tem uma série de outras opções para explorar.\n",
        "\n",
        "Sugerimos que você veja os menus e a Ajuda para se inteirar mais. Também procure acompanhar as práticas fornecidas pelo instrutor para se familiarizar com o ambiente. Aos poucos, ele se tornará o local natural onde você aprenderá, praticará e desenvolverá Ciência de Dados de forma profissional."
      ],
      "metadata": {
        "id": "sSTARgcpjU7R"
      }
    },
    {
      "cell_type": "markdown",
      "source": [
        "# **Pandas**"
      ],
      "metadata": {
        "id": "69DCChVTMc2c"
      }
    },
    {
      "cell_type": "markdown",
      "source": [
        "## **O que é Pandas?**\n",
        "\n",
        "A biblioteca [Pandas](https://pandas.pydata.org/) é uma biblioteca Python para análise de dados. Seu nome é derivado do termo “dados de painel” (panel data), um termo econométrico utilizado para se referir a conjuntos de dados estruturados multidimensionais. Ela possui código aberto e uso gratuito (sob uma licença BSD).\n",
        "\n",
        "O Pandas é construído sobre outras duas bibliotecas famosas do Python: Matplotlib (para gráficos e visualização de dados) e NumPy (para operações matemáticas).\n",
        "\n",
        "Essa é a biblioteca perfeita para iniciar suas análises exploratórias de dados, pois ela nos permite ler, manipular, agregar e plotar os dados em poucos passos. É conhecida por sua alta produtividade e alto desempenho. Também é fácil de usar."
      ],
      "metadata": {
        "id": "rBV2zQDwnc__"
      }
    },
    {
      "cell_type": "markdown",
      "source": [
        "### **DataFrame**\n",
        "\n",
        "DataFrame é como se \"planilhas\" são chamadas no Pandas. Um DataFrame é composto por colunas, linhas e índices. Quando nós lemos algum arquivo de dados tabulares, ele se torna um DataFrame para o Pandas.\n",
        "\n",
        "![image.png](data:image/png;base64,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)"
      ],
      "metadata": {
        "id": "R7WNiMpeMLe7"
      }
    },
    {
      "cell_type": "markdown",
      "source": [
        "## **Instalando Pandas**\n",
        "\n",
        "Comando usado para fazer a **instalação** do Pandas no notebook:"
      ],
      "metadata": {
        "id": "pTdjPSmhLbGU"
      }
    },
    {
      "cell_type": "code",
      "source": [
        "pip install pandas"
      ],
      "metadata": {
        "id": "VFgQhPXoLskM",
        "colab": {
          "base_uri": "https://localhost:8080/"
        },
        "outputId": "afe3b999-9a4c-4229-8894-f1ae8d9a95a4"
      },
      "execution_count": null,
      "outputs": [
        {
          "output_type": "stream",
          "name": "stdout",
          "text": [
            "Looking in indexes: https://pypi.org/simple, https://us-python.pkg.dev/colab-wheels/public/simple/\n",
            "Requirement already satisfied: pandas in /usr/local/lib/python3.9/dist-packages (1.4.4)\n",
            "Requirement already satisfied: pytz>=2020.1 in /usr/local/lib/python3.9/dist-packages (from pandas) (2022.7.1)\n",
            "Requirement already satisfied: numpy>=1.18.5 in /usr/local/lib/python3.9/dist-packages (from pandas) (1.22.4)\n",
            "Requirement already satisfied: python-dateutil>=2.8.1 in /usr/local/lib/python3.9/dist-packages (from pandas) (2.8.2)\n",
            "Requirement already satisfied: six>=1.5 in /usr/local/lib/python3.9/dist-packages (from python-dateutil>=2.8.1->pandas) (1.15.0)\n"
          ]
        }
      ]
    },
    {
      "cell_type": "markdown",
      "source": [
        "## **Importando o Pandas**\n",
        "\n",
        "Comando usado para fazer a **importação** do Pandas no notebook:"
      ],
      "metadata": {
        "id": "8YGSXonqNQBT"
      }
    },
    {
      "cell_type": "code",
      "source": [
        "import pandas as pd"
      ],
      "metadata": {
        "id": "x4MXPlS9NWEp"
      },
      "execution_count": null,
      "outputs": []
    },
    {
      "cell_type": "markdown",
      "source": [
        "## **Lendo arquivos de dados**\n",
        "\n",
        "Existem muitas funções nativas para ler seus dados, normalmente iniciando por pd.read_[extensão]"
      ],
      "metadata": {
        "id": "yA7CmsDOOS1r"
      }
    },
    {
      "cell_type": "markdown",
      "source": [
        "### **CSV**"
      ],
      "metadata": {
        "id": "bQ5gPaeyPgUK"
      }
    },
    {
      "cell_type": "code",
      "source": [
        "#df = pd.read_csv('caminho_arquivo.csv', sep='separador')\n",
        "df_csv = pd.read_csv('/content/sample_data/base_rh.csv')"
      ],
      "metadata": {
        "id": "XAxiKDZCOgzD"
      },
      "execution_count": null,
      "outputs": []
    },
    {
      "cell_type": "markdown",
      "source": [
        "### **Excel**"
      ],
      "metadata": {
        "id": "zBCFRZzdPoCt"
      }
    },
    {
      "cell_type": "code",
      "source": [
        "#df = pd.read_excel('caminho_arquivo.xlsx', sheet_name='guia')\n",
        "from google.colab import drive\n",
        "drive.mount('/content/drive')"
      ],
      "metadata": {
        "id": "E0bz5KKSPqVi"
      },
      "execution_count": null,
      "outputs": []
    },
    {
      "cell_type": "code",
      "source": [
        "df_excel = pd.read_excel('/content/drive/My Drive/awari_curso_data_analytics/aula_09_python_para_analise_de_dados_pandas/vendas.xlsx')"
      ],
      "metadata": {
        "id": "4aNpK1VRSxva"
      },
      "execution_count": null,
      "outputs": []
    },
    {
      "cell_type": "markdown",
      "source": [
        "## **Conhecendo seus dados**\n",
        "\n",
        "O .head() demosntra as 5 primeiras linhas do DataFrame\n"
      ],
      "metadata": {
        "id": "1EjD4dssT33K"
      }
    },
    {
      "cell_type": "code",
      "source": [
        "#CSV\n",
        "df_csv.head()"
      ],
      "metadata": {
        "id": "LZ6TkgXIT9mA"
      },
      "execution_count": null,
      "outputs": []
    },
    {
      "cell_type": "code",
      "source": [
        "#Excel\n",
        "df_excel.head()"
      ],
      "metadata": {
        "id": "NDjMyVtbUw7T"
      },
      "execution_count": null,
      "outputs": []
    },
    {
      "cell_type": "markdown",
      "source": [
        "## **T (Transposição)**\n"
      ],
      "metadata": {
        "id": "vpxwY9ebU809"
      }
    },
    {
      "cell_type": "code",
      "source": [
        "#CSV\n",
        "df_csv.T"
      ],
      "metadata": {
        "id": "GDO4ndZdVBVE"
      },
      "execution_count": null,
      "outputs": []
    },
    {
      "cell_type": "markdown",
      "source": [
        "## **Dimensões do DataFrame**\n",
        "Retorna a quantidade de linhas e colunas do DataFrame\n"
      ],
      "metadata": {
        "id": "FdF6fhRaVQvl"
      }
    },
    {
      "cell_type": "code",
      "source": [
        "df_csv.shape"
      ],
      "metadata": {
        "id": "kJ2bFvhyWib5"
      },
      "execution_count": null,
      "outputs": []
    },
    {
      "cell_type": "markdown",
      "source": [
        "## **Informações**\n"
      ],
      "metadata": {
        "id": "ja-pJttgW_Qq"
      }
    },
    {
      "cell_type": "code",
      "source": [
        "df_csv.info()"
      ],
      "metadata": {
        "id": "axIIqBt1XDwq"
      },
      "execution_count": null,
      "outputs": []
    },
    {
      "cell_type": "markdown",
      "source": [
        "## **Estatísticas Descritivas**\n",
        "Retorna medidas de tendência central.\n",
        "\n",
        "*Quantidade, média, desvio padrão, valor mínimo, 25% da coluna, 50% da coluna (média), 75% da coluna e valor máximo.*\n",
        "\n",
        "OBS.: Também pode ser aplicado em uma coluna específica:\n",
        "\n",
        "Exemplo: df_csv[\"mes_nascimento\"].describe()\n",
        "\n"
      ],
      "metadata": {
        "id": "NClZ1b1cXavr"
      }
    },
    {
      "cell_type": "code",
      "source": [
        "df_csv.describe()"
      ],
      "metadata": {
        "id": "6uSwjQRsXgdz"
      },
      "execution_count": null,
      "outputs": []
    },
    {
      "cell_type": "markdown",
      "source": [
        "## **Ordenação**\n",
        "Ordena o DataFrame se baseando em uma determinada coluna.\n",
        "\n",
        "No exemplo abaixo, estamos ordenando o DataFrame pelo campo **\"nome\"** em ordem crescente.\n"
      ],
      "metadata": {
        "id": "VhP-SFFEahKx"
      }
    },
    {
      "cell_type": "code",
      "source": [
        "df_csv.sort_values(\"nome\")"
      ],
      "metadata": {
        "id": "NQVs7YVhauiZ"
      },
      "execution_count": null,
      "outputs": []
    },
    {
      "cell_type": "markdown",
      "source": [
        "## **Trabalhando com Colunas**\n"
      ],
      "metadata": {
        "id": "KxWcJMMHX8EM"
      }
    },
    {
      "cell_type": "markdown",
      "source": [
        "### **Adição de coluna no DataFrame e operação matemática entre as variáveis:**"
      ],
      "metadata": {
        "id": "Z5xQrGdnYDD8"
      }
    },
    {
      "cell_type": "code",
      "source": [
        "#CSV\n",
        "#df['nome_da_coluna'] = valor ou condição que retorna um valor \n",
        "\n",
        "df_csv['novo_nr'] = df_csv['nr'] - 1\n",
        "df_csv.head()"
      ],
      "metadata": {
        "id": "9FuyniAXYGJ6"
      },
      "execution_count": null,
      "outputs": []
    },
    {
      "cell_type": "code",
      "source": [
        "#EXCEL\n",
        "#df['nome_da_coluna'] = valor ou condição que retorna um valor \n",
        "\n",
        "df_excel['Vl.Total'] = df_excel['Qtde'] * df_excel['Vl.Unitario']\n",
        "df_excel.head()"
      ],
      "metadata": {
        "id": "rj-d6sUIof6c"
      },
      "execution_count": null,
      "outputs": []
    },
    {
      "cell_type": "markdown",
      "source": [
        "### **Excluindo uma coluna no DataFrame**\n",
        "Tomar cuidado, pois irá apagar do seu DataFrame. \n",
        "\n",
        "Não apaga do arquivo. Se apagar sem querer, é necessário ler novamente o arquivo inicial."
      ],
      "metadata": {
        "id": "8fJfYu5QgAYY"
      }
    },
    {
      "cell_type": "code",
      "source": [
        "del df_csv['novo_nr']\n",
        "df_csv.head()"
      ],
      "metadata": {
        "id": "p6_jYSSmgH3S"
      },
      "execution_count": null,
      "outputs": []
    },
    {
      "cell_type": "markdown",
      "source": [
        "### **Filtrando o DataFrame**\n",
        "\n",
        "Uma Condição:\n",
        "\n",
        "`df[ df['nm_coluna' == 'XPTO' ] ]`\n",
        "\n",
        "Múltiplas Condições\n",
        "\n",
        "`df[ (condição 1) & (condição 2) ...  ]`"
      ],
      "metadata": {
        "id": "dv_qAxP2gQF0"
      }
    },
    {
      "cell_type": "code",
      "source": [
        "#Exemplo \n",
        "df_csv[(df_csv ['nr'] >= 1) & (df_csv ['nr'] <= 20)]"
      ],
      "metadata": {
        "id": "7rphZiHQg5st"
      },
      "execution_count": null,
      "outputs": []
    },
    {
      "cell_type": "markdown",
      "source": [
        "## **Criação de subsets do DataFrame**\n",
        "\n",
        "Seleção de colunas específicas ou criaçao de novos DataFrames"
      ],
      "metadata": {
        "id": "SMc1RCaThz-L"
      }
    },
    {
      "cell_type": "code",
      "source": [
        "alguns_dados = [\"nr\", \"nome\", \"email\", \"nascimento\"]\n",
        "df_csv[alguns_dados]"
      ],
      "metadata": {
        "id": "139IQnkjh_lt",
        "colab": {
          "base_uri": "https://localhost:8080/",
          "height": 184
        },
        "outputId": "ed6a1a20-74f0-4f88-e62f-b6d8c97878a8"
      },
      "execution_count": null,
      "outputs": [
        {
          "output_type": "error",
          "ename": "NameError",
          "evalue": "ignored",
          "traceback": [
            "\u001b[0;31m---------------------------------------------------------------------------\u001b[0m",
            "\u001b[0;31mNameError\u001b[0m                                 Traceback (most recent call last)",
            "\u001b[0;32m<ipython-input-7-7825f73b0705>\u001b[0m in \u001b[0;36m<module>\u001b[0;34m\u001b[0m\n\u001b[1;32m      1\u001b[0m \u001b[0malguns_dados\u001b[0m \u001b[0;34m=\u001b[0m \u001b[0;34m[\u001b[0m\u001b[0;34m\"nr\"\u001b[0m\u001b[0;34m,\u001b[0m \u001b[0;34m\"nome\"\u001b[0m\u001b[0;34m,\u001b[0m \u001b[0;34m\"email\"\u001b[0m\u001b[0;34m,\u001b[0m \u001b[0;34m\"nascimento\"\u001b[0m\u001b[0;34m]\u001b[0m\u001b[0;34m\u001b[0m\u001b[0;34m\u001b[0m\u001b[0m\n\u001b[0;32m----> 2\u001b[0;31m \u001b[0mdf_csv\u001b[0m\u001b[0;34m[\u001b[0m\u001b[0malguns_dados\u001b[0m\u001b[0;34m]\u001b[0m\u001b[0;34m\u001b[0m\u001b[0;34m\u001b[0m\u001b[0m\n\u001b[0m",
            "\u001b[0;31mNameError\u001b[0m: name 'df_csv' is not defined"
          ]
        }
      ]
    },
    {
      "cell_type": "markdown",
      "source": [
        "### **Seleção de 3 colunas**\n",
        "Filtrar o campo \"nivel_de_carreira\" por \"IC5\""
      ],
      "metadata": {
        "id": "phms94t1idnz"
      }
    },
    {
      "cell_type": "code",
      "source": [
        "df_csv[df_csv[\"nivel_de_carreira\"] == \"IC5\"]"
      ],
      "metadata": {
        "id": "ayi0i3OEirGj"
      },
      "execution_count": null,
      "outputs": []
    },
    {
      "cell_type": "markdown",
      "source": [
        "### **Aplicando mais de uma condição**"
      ],
      "metadata": {
        "id": "nyc7C9mWi09N"
      }
    },
    {
      "cell_type": "code",
      "source": [
        "df_ic5_produto = df_csv[(df_csv[\"nivel_de_carreira\"] == \"IC5\") & (df_csv[\"vp\"] == \"Produtos\")]\n",
        "df_ic5_produto.head() "
      ],
      "metadata": {
        "id": "YBRgLs6xi508"
      },
      "execution_count": null,
      "outputs": []
    },
    {
      "cell_type": "markdown",
      "source": [
        "### **Agregando os Dados**\n",
        "\n",
        "**Estatísticas de resumo:**\n",
        "\n",
        "Podemos através de métodos diversos, aplicados a objetos no Pandas, usar de reduções ou de estatísticas de resumo: extraem um único valor (soma e média, por exemplo) de uma Serie ou DataFrame, tais como:"
      ],
      "metadata": {
        "id": "NQDK0QLajq2T"
      }
    },
    {
      "cell_type": "markdown",
      "source": [
        "#### **Média dos Valores**"
      ],
      "metadata": {
        "id": "9INExYLVkIXs"
      }
    },
    {
      "cell_type": "code",
      "source": [
        "# Média dos valores\n",
        "df_csv[\"nr\"].mean()"
      ],
      "metadata": {
        "id": "LUF95p32j6TT"
      },
      "execution_count": null,
      "outputs": []
    },
    {
      "cell_type": "markdown",
      "source": [
        "#### **Valor Mínimo**"
      ],
      "metadata": {
        "id": "tkxsZGzokRhs"
      }
    },
    {
      "cell_type": "code",
      "source": [
        "# Valor mínimo\n",
        "df_csv[\"nr\"].min()"
      ],
      "metadata": {
        "id": "eFd4iokLkQk0"
      },
      "execution_count": null,
      "outputs": []
    },
    {
      "cell_type": "markdown",
      "source": [
        "#### **Valor Máximo**"
      ],
      "metadata": {
        "id": "F-op0yHGkeXe"
      }
    },
    {
      "cell_type": "code",
      "source": [
        "# Valor máximo\n",
        "df_csv[\"nr\"].max()"
      ],
      "metadata": {
        "id": "TmE1EecCkYcV"
      },
      "execution_count": null,
      "outputs": []
    },
    {
      "cell_type": "markdown",
      "source": [
        "#### **Quartil**"
      ],
      "metadata": {
        "id": "zROQiM1okf41"
      }
    },
    {
      "cell_type": "code",
      "source": [
        "# Retorna valores no quantil* fornecido sobre o eixo solicitado\n",
        "df_csv.quantile(0.25)"
      ],
      "metadata": {
        "id": "UoNgE2u0kYTU"
      },
      "execution_count": null,
      "outputs": []
    },
    {
      "cell_type": "markdown",
      "source": [
        "#### **Moda**"
      ],
      "metadata": {
        "id": "aQwhRYuOkont"
      }
    },
    {
      "cell_type": "code",
      "source": [
        "# Valor moda - representa o valor mais frequente de um conjunto de dados\n",
        "df_csv[\"ano_nascimento\"].mode()"
      ],
      "metadata": {
        "id": "yppK25fNkYFj"
      },
      "execution_count": null,
      "outputs": []
    },
    {
      "cell_type": "markdown",
      "source": [
        "#### **Método .agg**\n",
        "\n",
        "Para uma função ou lista de funções a serem aplicadas em uma série ou mesmo em cada elemento da série separadamente."
      ],
      "metadata": {
        "id": "umjW9FYGk2k9"
      }
    },
    {
      "cell_type": "code",
      "source": [
        "import numpy as np\n",
        "df_csv[\"ano_nascimento\"].agg([np.mean, max, min])"
      ],
      "metadata": {
        "id": "mctZncZqk9bi"
      },
      "execution_count": null,
      "outputs": []
    },
    {
      "cell_type": "markdown",
      "source": [
        "### **Dropping duplicate**\n",
        "\n",
        "Útil para tratativas de dados duplicados. Com ele, podemos gerar um objeto com os valores duplicados removidos."
      ],
      "metadata": {
        "id": "rd3Z8P6FmZi2"
      }
    },
    {
      "cell_type": "code",
      "source": [
        "df_csv_nr = df_csv.drop_duplicates(subset=\"ano_nascimento\")\n",
        "df_csv_nr #não observado valores duplicados"
      ],
      "metadata": {
        "id": "lm2T3kASmfzc"
      },
      "execution_count": null,
      "outputs": []
    },
    {
      "cell_type": "markdown",
      "source": [
        "### **Contagem de Valores**\n",
        "\n",
        "Podemos determinar uma coluna do dataset e realizar a contagem de acordo com as categorias da mesma, no caso abaixo a quantidade de registros por cada **VP**."
      ],
      "metadata": {
        "id": "b4poPQmwm_-b"
      }
    },
    {
      "cell_type": "code",
      "source": [
        "df_csv[\"vp\"].value_counts()"
      ],
      "metadata": {
        "id": "1lUhpicrnJKk"
      },
      "execution_count": null,
      "outputs": []
    },
    {
      "cell_type": "markdown",
      "source": [
        "Aplicando nomalize=True o retorno do objeto terá as frquências relativas dos valores únicos."
      ],
      "metadata": {
        "id": "56TLpGfQnXi7"
      }
    },
    {
      "cell_type": "code",
      "source": [
        "# A porcentagem dos dados por gênero\n",
        "df_csv[[\"sexo\"]].value_counts(normalize=True)"
      ],
      "metadata": {
        "id": "PHnZVcTdnabj"
      },
      "execution_count": null,
      "outputs": []
    },
    {
      "cell_type": "markdown",
      "source": [
        "### **Group By**\n",
        "\n",
        "Utilizado para divisão dos dados em grupos com critérios definidos, sendo a divisão em qualquer eixo do DataFrame, fornecendo assim uma possibilidade de mapeamento dos rótulos."
      ],
      "metadata": {
        "id": "XrcoOvPiniob"
      }
    },
    {
      "cell_type": "markdown",
      "source": [
        "#### **Agrupamento com uma variável**"
      ],
      "metadata": {
        "id": "vO_x-5ASpcEE"
      }
    },
    {
      "cell_type": "code",
      "source": [
        "# Agrupamento por \"Código do Produto\" com a média de \"Valor Unitário\"\n",
        "df_excel.groupby(\"Cod.Produto\")[\"Vl.Unitario\"].mean().sort_values(ascending = False)"
      ],
      "metadata": {
        "id": "on9drsrSnsOj"
      },
      "execution_count": null,
      "outputs": []
    },
    {
      "cell_type": "markdown",
      "source": [
        "#### **Agrupamento com mais de uma variável**"
      ],
      "metadata": {
        "id": "5hNb-WqCpWr1"
      }
    },
    {
      "cell_type": "code",
      "source": [
        "df_excel.groupby(\"Cod.Produto\")[[\"Vl.Unitario\", \"Vl.Total\"]].mean().sort_values(\"Vl.Total\", ascending = False)"
      ],
      "metadata": {
        "id": "cVOOtew0pllZ"
      },
      "execution_count": null,
      "outputs": []
    },
    {
      "cell_type": "markdown",
      "source": [
        "####**Agrupamento com multiplas estatísticas**"
      ],
      "metadata": {
        "id": "rG-hsElHpsuT"
      }
    },
    {
      "cell_type": "code",
      "source": [
        "df_excel.groupby(\"Cod.Produto\")[[\"Qtde\", \"Vl.Total\"]].agg([min, max,sum])"
      ],
      "metadata": {
        "id": "ooEjN9l4pylb"
      },
      "execution_count": null,
      "outputs": []
    },
    {
      "cell_type": "markdown",
      "source": [
        "###**Tabelas Dinâmicas**\n",
        "\n",
        "O objeto gerado é um frame — estrutura de dados tabular bidimensional, mutável em tamanho e potencialmente heterogênea, com eixos rotulados (linhas e colunas)."
      ],
      "metadata": {
        "id": "-tt6LJVSp8MV"
      }
    },
    {
      "cell_type": "code",
      "source": [
        "# Utilizando pivot_table\n",
        "t2 = df_excel.pivot_table(values=\"Qtde\", index=\"Cod.Produto\")\n",
        "t2"
      ],
      "metadata": {
        "id": "LE_rki2rqEZ0"
      },
      "execution_count": null,
      "outputs": []
    },
    {
      "cell_type": "markdown",
      "source": [
        "## **Prática I**\n"
      ],
      "metadata": {
        "id": "04QAr__XrFnX"
      }
    },
    {
      "cell_type": "markdown",
      "source": [
        "###**Exercício 1**\n",
        "\n",
        "Usando o **Pandas** e a **[base_rh.csv](https://drive.google.com/file/d/1SP3gaMgfCvh2xjop6bsnPJMurbmfqLM-/view?usp=sharing)**, escrever um código que retorne o nome, o **nível_de_carreira** e a localidade de todos os profissionais que possuem nível de carreira = 'IC4' e que são da localidade de São Paulo."
      ],
      "metadata": {
        "id": "VzEipfMNrLNk"
      }
    },
    {
      "cell_type": "code",
      "source": [
        "import pandas as pd\n",
        "import gdown\n",
        "\n",
        "# URL de compartilhamento do Google Drive\n",
        "url = 'https://drive.google.com/uc?id=1SP3gaMgfCvh2xjop6bsnPJMurbmfqLM-'\n",
        "\n",
        "# Caminho local do arquivo baixado\n",
        "caminho_arquivo = 'base_rh.csv'\n",
        "\n",
        "# Baixa o arquivo do Google Drive\n",
        "gdown.download(url, caminho_arquivo, quiet=False)\n",
        "\n",
        "# Carrega a base de dados em um DataFrame\n",
        "df = pd.read_csv(caminho_arquivo)\n",
        "\n",
        "# Seleciona as linhas que possuem nível de carreira 'IC4' e localidade 'São Paulo'\n",
        "filtro = (df['nivel_de_carreira'] == 'IC4') & (df['localidade'] == 'São Paulo')\n",
        "resultado = df.loc[filtro, ['nome', 'nivel_de_carreira', 'localidade']]\n",
        "\n",
        "# Exibe o resultado\n",
        "print(resultado)\n"
      ],
      "metadata": {
        "id": "X1lLqhQBrosM",
        "colab": {
          "base_uri": "https://localhost:8080/"
        },
        "outputId": "bf37f0cc-026b-46ee-e86f-1fa77a44684c"
      },
      "execution_count": null,
      "outputs": [
        {
          "output_type": "stream",
          "name": "stderr",
          "text": [
            "Downloading...\n",
            "From: https://drive.google.com/uc?id=1SP3gaMgfCvh2xjop6bsnPJMurbmfqLM-\n",
            "To: /content/base_rh.csv\n",
            "100%|██████████| 227k/227k [00:00<00:00, 49.7MB/s]"
          ]
        },
        {
          "output_type": "stream",
          "name": "stdout",
          "text": [
            "             nome nivel_de_carreira localidade\n",
            "4     0,760166496               IC4  São Paulo\n",
            "18     0,43369142               IC4  São Paulo\n",
            "19     0,59376973               IC4  São Paulo\n",
            "31    0,939765153               IC4  São Paulo\n",
            "32    0,579556656               IC4  São Paulo\n",
            "...           ...               ...        ...\n",
            "1608  0,526297975               IC4  São Paulo\n",
            "1610  0,033032641               IC4  São Paulo\n",
            "1611  0,523089353               IC4  São Paulo\n",
            "1612  0,856434554               IC4  São Paulo\n",
            "1618   0,84035851               IC4  São Paulo\n",
            "\n",
            "[278 rows x 3 columns]\n"
          ]
        },
        {
          "output_type": "stream",
          "name": "stderr",
          "text": [
            "\n"
          ]
        }
      ]
    },
    {
      "cell_type": "markdown",
      "source": [
        "###**Exercício 2**\n",
        "\n",
        "Usando o **Pandas** e a **[base_rh.csv](https://drive.google.com/file/d/1SP3gaMgfCvh2xjop6bsnPJMurbmfqLM-/view?usp=sharing)**, escrever um código que retorne o nome dos funcionários em ordem crescente."
      ],
      "metadata": {
        "id": "sm890nKHsHqO"
      }
    },
    {
      "cell_type": "code",
      "source": [
        "import pandas as pd\n",
        "import gdown\n",
        "\n",
        "# URL de compartilhamento do Google Drive\n",
        "url = 'https://drive.google.com/uc?id=1SP3gaMgfCvh2xjop6bsnPJMurbmfqLM-'\n",
        "\n",
        "# Caminho local do arquivo baixado\n",
        "caminho_arquivo = 'base_rh.csv'\n",
        "\n",
        "# Baixa o arquivo do Google Drive\n",
        "gdown.download(url, caminho_arquivo, quiet=False)\n",
        "\n",
        "# Carrega a base de dados em um DataFrame\n",
        "df = pd.read_csv(caminho_arquivo, sep=',')\n",
        "\n",
        "# Ordena o DataFrame pelo nome em ordem crescente\n",
        "df_ordem = df.sort_values(by=['nome'])\n",
        "\n",
        "# Seleciona apenas a coluna de nomes\n",
        "resultado = df_ordem['nome']\n",
        "\n",
        "# Exibe o resultado\n",
        "print(resultado)\n"
      ],
      "metadata": {
        "id": "eLFHc6yisRw0",
        "colab": {
          "base_uri": "https://localhost:8080/"
        },
        "outputId": "45df294e-c387-4ff7-bd06-93529d333d01"
      },
      "execution_count": null,
      "outputs": [
        {
          "output_type": "stream",
          "name": "stderr",
          "text": [
            "Downloading...\n",
            "From: https://drive.google.com/uc?id=1SP3gaMgfCvh2xjop6bsnPJMurbmfqLM-\n",
            "To: /content/base_rh.csv\n",
            "100%|██████████| 227k/227k [00:00<00:00, 61.9MB/s]"
          ]
        },
        {
          "output_type": "stream",
          "name": "stdout",
          "text": [
            "628      0,00085955\n",
            "1393    0,001218459\n",
            "562     0,001960001\n",
            "1576    0,002176155\n",
            "889     0,002771769\n",
            "           ...     \n",
            "755     0,998373437\n",
            "1086      0,9994761\n",
            "589     0,999938334\n",
            "1621            NaN\n",
            "1622            NaN\n",
            "Name: nome, Length: 1623, dtype: object\n"
          ]
        },
        {
          "output_type": "stream",
          "name": "stderr",
          "text": [
            "\n"
          ]
        }
      ]
    },
    {
      "cell_type": "markdown",
      "source": [
        "####**Exercício 3**\n",
        "\n",
        "Usando o **Pandas** e a **[base_rh.csv](https://drive.google.com/file/d/1SP3gaMgfCvh2xjop6bsnPJMurbmfqLM-/view?usp=sharing)**, escrever um código que retorne o nome de a data de nascimento dos profissionais que nasceram entre 1985 e 1990."
      ],
      "metadata": {
        "id": "28YPWxshsUQ0"
      }
    },
    {
      "cell_type": "code",
      "source": [
        "import pandas as pd\n",
        "import gdown\n",
        "\n",
        "# URL de compartilhamento do Google Drive\n",
        "url = 'https://drive.google.com/uc?id=1SP3gaMgfCvh2xjop6bsnPJMurbmfqLM-'\n",
        "\n",
        "# Caminho local do arquivo baixado\n",
        "caminho_arquivo = 'base_rh.csv'\n",
        "\n",
        "# Baixa o arquivo do Google Drive\n",
        "gdown.download(url, caminho_arquivo, quiet=False)\n",
        "\n",
        "# Carrega a base de dados em um DataFrame\n",
        "df = pd.read_csv(caminho_arquivo, sep=',')\n",
        "\n",
        "# Seleciona apenas as linhas cuja data de nascimento está entre 1985 e 1990\n",
        "df_selecionado = df.loc[(df['ano_nascimento'] >= '1985') & (df['ano_nascimento'] <= '1990')]\n",
        "\n",
        "# Seleciona apenas as colunas de interesse\n",
        "df_final = df_selecionado.loc[:, ['nome', 'ano_nascimento']]\n",
        "\n",
        "# Exibe o resultado\n",
        "print(df_final)"
      ],
      "metadata": {
        "id": "5VIW3kuGsd0r"
      },
      "execution_count": null,
      "outputs": []
    },
    {
      "cell_type": "markdown",
      "source": [
        "###**Exercício 4**\n",
        "\n",
        "Usando o **Pandas** e a **[base_rh.csv](https://drive.google.com/file/d/1SP3gaMgfCvh2xjop6bsnPJMurbmfqLM-/view?usp=sharing)**, escrever um código que mostre quantos funcionários ativos existem por VPs."
      ],
      "metadata": {
        "id": "8NYkMvKAsyxr"
      }
    },
    {
      "cell_type": "code",
      "source": [
        "import pandas as pd\n",
        "import gdown\n",
        "\n",
        "# URL de compartilhamento do Google Drive\n",
        "url = 'https://drive.google.com/uc?id=1SP3gaMgfCvh2xjop6bsnPJMurbmfqLM-'\n",
        "\n",
        "# Caminho local do arquivo baixado\n",
        "caminho_arquivo = 'base_rh.csv'\n",
        "\n",
        "# Baixa o arquivo do Google Drive\n",
        "gdown.download(url, caminho_arquivo, quiet=False)\n",
        "\n",
        "# Carrega a base de dados em um DataFrame\n",
        "df = pd.read_csv(caminho_arquivo, sep=',')\n",
        "\n",
        "# criar um novo DataFrame com apenas os funcionários ativos\n",
        "df_ativos = df[df[\"status\"] == \"ativo\"]\n",
        "\n",
        "# agrupar por VP e contar o número de funcionários em cada grupo\n",
        "contagem_funcionarios_por_vp = df_ativos.groupby(\"vp\")[\"nome\"].count()\n",
        "\n",
        "# exibir o resultado\n",
        "print(contagem_funcionarios_por_vp)"
      ],
      "metadata": {
        "id": "xmnUzVsKs8oT",
        "colab": {
          "base_uri": "https://localhost:8080/"
        },
        "outputId": "c1c4cc88-9c0c-4fd8-d957-e3c70b6ad722"
      },
      "execution_count": 8,
      "outputs": [
        {
          "output_type": "stream",
          "name": "stderr",
          "text": [
            "Downloading...\n",
            "From: https://drive.google.com/uc?id=1SP3gaMgfCvh2xjop6bsnPJMurbmfqLM-\n",
            "To: /content/base_rh.csv\n",
            "100%|██████████| 227k/227k [00:00<00:00, 90.9MB/s]"
          ]
        },
        {
          "output_type": "stream",
          "name": "stdout",
          "text": [
            "Series([], Name: nome, dtype: int64)\n"
          ]
        },
        {
          "output_type": "stream",
          "name": "stderr",
          "text": [
            "\n"
          ]
        }
      ]
    },
    {
      "cell_type": "markdown",
      "source": [
        "###**Exercício 5**\n",
        "\n",
        "Usando o **Pandas** e a **[base_rh.csv](https://drive.google.com/file/d/1SP3gaMgfCvh2xjop6bsnPJMurbmfqLM-/view?usp=sharing)**, escrever um código que mostre o número de funcionários contratados por mês em 2022."
      ],
      "metadata": {
        "id": "irXICh0Ds_XT"
      }
    },
    {
      "cell_type": "code",
      "source": [
        "import pandas as pd\n",
        "import gdown\n",
        "\n",
        "# URL de compartilhamento do Google Drive\n",
        "url = 'https://drive.google.com/uc?id=1SP3gaMgfCvh2xjop6bsnPJMurbmfqLM-'\n",
        "\n",
        "# Caminho local do arquivo baixado\n",
        "caminho_arquivo = 'base_rh.csv'\n",
        "\n",
        "# Baixa o arquivo do Google Drive\n",
        "gdown.download(url, caminho_arquivo, quiet=False)\n",
        "\n",
        "# Carrega a base de dados em um DataFrame\n",
        "df = pd.read_csv(caminho_arquivo, sep=',')\n",
        "\n",
        "# criar um novo DataFrame com apenas os funcionários com o ano de admissao em 2022\n",
        "df_ativos = df[df[\"ano_admissao\"] == \"2022\"]\n",
        "\n",
        "# agrupar por mes de admissao e contar o número de funcionários em cada grupo\n",
        "contagem_admissao_por_mes_2022 = df_ativos.groupby(\"mes_admissao\")[\"nome\"].count()\n",
        "\n",
        "# exibir o resultado\n",
        "print(contagem_admissao_por_mes_2022)"
      ],
      "metadata": {
        "id": "iAn3fIpXtNcU",
        "colab": {
          "base_uri": "https://localhost:8080/"
        },
        "outputId": "d364f8f9-288d-48d4-badd-5ce383d55522"
      },
      "execution_count": 1,
      "outputs": [
        {
          "output_type": "stream",
          "name": "stderr",
          "text": [
            "Downloading...\n",
            "From: https://drive.google.com/uc?id=1SP3gaMgfCvh2xjop6bsnPJMurbmfqLM-\n",
            "To: /content/base_rh.csv\n",
            "100%|██████████| 227k/227k [00:00<00:00, 45.3MB/s]"
          ]
        },
        {
          "output_type": "stream",
          "name": "stdout",
          "text": [
            "Series([], Name: nome, dtype: int64)\n"
          ]
        },
        {
          "output_type": "stream",
          "name": "stderr",
          "text": [
            "\n"
          ]
        }
      ]
    },
    {
      "cell_type": "markdown",
      "source": [
        "###**Exercício 6**\n",
        "\n",
        "Usando o **Pandas** e a **base_rh.csv**, escrever um código que retorne o número de funcionários ativos na empresa."
      ],
      "metadata": {
        "id": "S-SeTIWatXCl"
      }
    },
    {
      "cell_type": "code",
      "source": [
        "import pandas as pd\n",
        "import gdown\n",
        "\n",
        "# URL de compartilhamento do Google Drive\n",
        "url = 'https://drive.google.com/uc?id=1SP3gaMgfCvh2xjop6bsnPJMurbmfqLM-'\n",
        "\n",
        "# Caminho local do arquivo baixado\n",
        "caminho_arquivo = 'base_rh.csv'\n",
        "\n",
        "# Baixa o arquivo do Google Drive\n",
        "gdown.download(url, caminho_arquivo, quiet=False)\n",
        "\n",
        "# Carrega a base de dados em um DataFrame\n",
        "df = pd.read_csv(caminho_arquivo, sep=',')\n",
        "\n",
        "# conta a quantidade de funcionários ativos\n",
        "num_funcionarios_ativos = df['status'].value_counts()['Ativo']\n",
        "\n",
        "# imprime o número de funcionários ativos\n",
        "print(\"Número de funcionários ativos na empresa:\", num_funcionarios_ativos)"
      ],
      "metadata": {
        "id": "gwy0IhZPtcNl",
        "colab": {
          "base_uri": "https://localhost:8080/"
        },
        "outputId": "32a4a629-5c7c-4578-99c6-07c36e7f7156"
      },
      "execution_count": 12,
      "outputs": [
        {
          "output_type": "stream",
          "name": "stderr",
          "text": [
            "Downloading...\n",
            "From: https://drive.google.com/uc?id=1SP3gaMgfCvh2xjop6bsnPJMurbmfqLM-\n",
            "To: /content/base_rh.csv\n",
            "100%|██████████| 227k/227k [00:00<00:00, 66.8MB/s]"
          ]
        },
        {
          "output_type": "stream",
          "name": "stdout",
          "text": [
            "Número de funcionários ativos na empresa: 1076\n"
          ]
        },
        {
          "output_type": "stream",
          "name": "stderr",
          "text": [
            "\n"
          ]
        }
      ]
    },
    {
      "cell_type": "markdown",
      "source": [
        "## **JOIN e MERGE em Pandas**\n",
        "\n",
        "Assim como aprendemos no SQL, ou qualquer linguagem para manipulação de bases de dados, como unir bases de dados de diferentes maneiras, o Pandas permite fazer estas tratativas no Python. Abaixo, vamos aprender como fazer as uniões de tabelas e algumas táticas que podem facilitar sua vida."
      ],
      "metadata": {
        "id": "0b1lII5huT6L"
      }
    },
    {
      "cell_type": "markdown",
      "source": [
        "###**Introdução**\n",
        "\n",
        "Para ajudar no entendimento do que será feito, veja a figura abaixo. Nela, você consegue visualizar o que significa cada um dos joins. Por exemplo, o full join é a união das duas tabelas. Já o left join, é quando você traz informações de algumas colunas de uma segunda tabela para a primeira tabela. Caso o desenho ainda não esclareça, não se preocupe, os exemplos práticos darão mais uma ajudinha.\n",
        "\n",
        "\n",
        "\n",
        "\n",
        "\n",
        "![image.png](data:image/png;base64,iVBORw0KGgoAAAANSUhEUgAAAhoAAAF/CAYAAAAPaGBSAAAgAElEQVR4nOy9d3Rdx3no+5vZ+zTUg94BorB3giAIkqIoUrJIuUi2JMuyFDfFiUvikjjOvTfvJspz7nPi9158k5fiOHFJbC/Llm3Jki3JtmxRpESKoljFJhawACCI3g9wyp55fwwgUhRJASRAAOT81joLwMEu355z9p5vvgoWi8VisVgsFovFYrFYLBaLxWKxWCwWi8VisVgsFovFYrFYLBaLxWKxWCwWi8VisVgsFovFYrFYLBaLxWKxWCwWi+WyiMkWYIoiFi0iye+n2HEYyMykLSWFxJkzJDsOpVrTBXRu387ghTutW0e4r480KYnt3Mk5gNWrmZ1IoKJR2vbupfvC7TdtItDZSY6UBLdv5zhAXR1FiQRh18X/NqEETdu20bpuHW4kQrpSZEtJ0HGQwGAsRvuuXbSP5gJra0kDZvj9tEUitO/aRRzg/vtx6utJ8fspUIoCwNWafq1pGRig8dAh4oAeOYaU5MZiaODMrl3EV6wgC8hyXbxt2zhx8Xk3bSLQ0cEcoDEpiZ7Nm0mMRl6LxWKxTE/cyRZgKnL//cimJvKVkvcLIerb273fDQ7S7TiUep78mBAcTyTUC8AbF+4XifiqXFct9Dw6wHsKIJGQDwiBDIXkC9XViW0jEzpAezsZQjhrtdb5oP7ebO+skVIvUQqfEPS/VTL1a6AVSHEcbgG5RAik1ighGHBd0bBihXd4aIjj+/cTYVghuBRSUqaUfCSREJtDIW8z0FVXR6i+nkLHYaHnyVlaUyklfiHoAc6EQurVdes4kJND3+OP43kepUrJjUKQSCTUd4Fuz3PnSqlu8zwSa9aobxQU0Pv443gj5+3pIV1K+SnPUz8cHGQv0Httn5bFYrkJEfPm4cvNxR8KEX/2WeKAmmyhLJfGKhqXoL4e6fe7eUqpe4TQr/j9gV2Dg9GIlG6x1urDWjMkhOPdf793/MJJVEpVobVeKyWngacAtOb9WjNTCJXh93McaBrZ3u8PpCcS8VVa69nA35t3dZ3W3CaEaAS97UK5tDbn6usjX0rxBSEoBF4Aznges0A/AtLn96sHq6rYd/w40ctdo1JOidb6o0rpgUSC14DuWIwqx5EPAQ8JwfMgngHRo5RaBvoDjiO/EIupT7e18TLQLQTFoN8tJbFQiMeBbtfVs7TWH9JapESjzon6eu9XQM/IeT2PdK35uJRyj1LqKFbRsFgmjHXrcPv63m4d9fvRPT14hw4RA+S6dfhbW1GHDpHgogl73TrcUAjn9Gn08PbMm4c/NxcJJC5jlZSbNuEDuBol4FLnHEasW4cDBCMRCqNRt2BwMNG2cCHNnsfARfKPKCNy3Tpijz6KAmRVFb7iYsRlZJfV1Ti5uchnnyXGFRZrltEjJ1uAaUpISr22sdG9Y5TbD2mtVyQS8vdGt7nu1lq/7LrqXy58ZWSw98KNQLcopZ5wXfUv8bj6KxB/CgjXlR/KyKBqLBe0Zg1h15XrhRBrgH9SSv3l0JD3jJSJrfG4+oYQ+r+DPpRIOH8xMED1vHlvf3hdQAQQUur/JQQV1dXmgWOxWK4vAwPOvY4jD1z88jzxYnKy/GtArFjhWzg4KL+bkiL/prY2UHnxMfr7eXdHh/xOcrL8v6uqCACkpMivDA6KH0Sjznsvdd7qamZ1dMjvdHTI79TVMX+scvf3c3dHh/xOSor86v3344y8v3o1BYODzoORiPM4ON/1PO/PQHwzGBQ/S0mRf7VmDVUj269cGSxLTpZfHhx0fvbMM75l8+bhr6vzz8rMlP9PJCJ+Mjjo3HfxeZcvZ6bryi91dMhv19VROFa5LZfGWjSuCvGS1qR7nrqnro7Xt28/b6W4FFqLbaBdIfQdtbXurlAo8cKVYhOGXSGDL71E15WPS0Jr+oa366mu9k44jmhVitmOQ3gsV5RIsBJYqRQdPp96rKiIsxdYawbXrOFALKa/Bfr/BbkiJUXV68vr+ueAeq1ZLYT8KKj/AA6MRR6LxXLtCEEqkCYEz4B4RikGAKRUUSH0OQDHIeB5okAIPaiUftsCQkqStdYFQgiKixHHjwOQrbUsUIqUS53XdfErpQsAPM8oJ2NBSlKGz/nmc7KmhpJEQj5gLL76Na3lS56nB4QgVQi5RAhdHY/Lv25qUv/HvHk0aK19QpCptS4SQgdjMYRS+EHkArdorfTKlbwSj9M04tL2+fArRSboAiHs/Dhe2IG8KvSLQCno5Z4n3w/qn660tRD6uBCiH3QtqA/39XFg3Tra4vEr7TU27r8fceYMfq1FWGv2KaX733mv8yglFwgh8qXUu7Zt4/TF/y8ooPfMGbZrTZ8QzFaKQnHZUGIREYI3lOKMENwmhDy8apVq3baN1qu5NovFck0MCsGRYNB7bvPmtwakM40SAoRw1mvNKiF0K6jH77pLHXj0UVR1NT7HUcdBxrXmDxMJeW96uvqBurKzJg4kgfyY36/+Eei8Lhdxk2IVjatAa3FaSq9eazkDxH11dbwYDnO06/L2h0GtxQ4hEMB9UnJnJMLTvss4FIZXIdU1Nc7D59/zuuJxDuzZ8xYlIElKp7K21us7dYowyKVSij7g+Xics2O8rAKt8Q/Hl7yNxx/HW7eO7oEB3SwluUKQCVxWVRKCLsdxf6hUvFYIcZtSzpl167zfDA5ebg+LxWK5NCtWkCWEvlVrEQLx4x072L9jh/nfsDXi2MqV6ndaO3eBul8pfssV4r+E0CdAvKoU9wnhbqutTbyyY4eNF5sorKJxlfj97IzFKNda/7HW8g/a29XXHOfyqwPHcU54nhoEfasQ4rNC6CNK6YHLbJ4BrBNCX+DblMf8fvUf8KYiIIQQmULoW0FWCkGl1iwSQj/tOOrFV1+lbSzXIwQpgAPisjdbZyc6EBAdSulcIIkLgjwvRmuiO3bEDtfUyGeAB5TS74pG2T8WmSwWy7UzvMDxR6Mkr1tnXLZ9fSggvmvX9Egvd113vufpctCnwbeL8zH4byIlHVrrrVqLP/U8mes4+grLGnFSa/UbkO8H9ZDj0LVuHXuilw2ft1wLVtG4SrZupa2uTm3RWs5Wig87Dj/XmqTLbZ9IyJgQsX1SOv+slPgWiHWJhNorLxGOqzVnhOCpV19VX38HMbTWKClxtdZJQgiZSIgTicRborTHleGHltZ6dNHYvb3qn9PT5RwhxFKtnU1ae1smSjaLxfJ2tMavNcVSOtWxmOgH8PtFP8SbYMyWz0lBKTUPyBSCV3bsiB671DZS0quU2Ke1TjiOni2EGrxCHFnE5+NIIsGPteYzSsl9oBomSv6bHZt1cg2EwxwF9QOgWSnxGa31gittX1ZGt+d524TgB1qLe6VUq7Uee6DUMBp0ixDqCZ9P/W8hnL8HXpBSf9nvp2ysmR5ac0op1et5uuRy24RCOMBiIUSrz2cKkr0Tb7zBgBDyByZDhvcL4SzEfu8slutJClDreeqReNz7zPDrAaXcMWeD3Ej4fLS6rvoGiL1K6TsiEeomW6YbFfvAvwaefZaoEByTUvwjiNlC6CqtSb7c9o8/jtfVRavnqW+Zapt6jhB6xtWeX2sSnkfP1q20RaOJA0KIzcAMcGqkJOud9hcCJQQRvx9Pa/G6EPQIoaurq8nmou9GdTXpWjtrtSZDa3Z7HvWjFFP5fInXtOZlUK7W+m6gA8S0MNlaLDcA/UKwXWv9DSH0Pwih/0Fr9YNEIvH6ZAs2WjxPdGotolrjnzGD4KW2icfxJxI6G5Baiy4QV4wI27yZRGEhLY7Dv2ECQ+/0PGfpRMh/s2MVjWskEKDXcbxfAgdB5oJJ6bocx48Ta29nvxD6OZAhEDPHQ46ZM+lTyjsBdAqhF8LlFY3VqynUWs/RmrhS4uDAABHw9oI4ALLIdeVD1dXkrVtnXGurV5Pq87lLgY9Iqd+QUu3OzBx9DMhLL9HlOOolEPuAlcNv20I4Fsv1ISoEp1JS2P7qq2x99VW27trF7l27aDb/jvdiArtd0JewhDrusMt00oIlhfDqtVbdQE5WFpdcnClFspRUAf1aixYpxeVi4N7k8cdRgYD3ghDiVRBlQujbr8HKbLkMNkbjGhmuh9FcWyt+rDWfBpH3DrvoU6cYystzn4ZEhdasuDhNdDjrZHFNjfPBC993HO+443BsaOjtB338cbwVK+gRQrwOqmo4KwSARx9Fbt5M2tCQO1+pRCAel/NArwH2uK7a7XkM7NxJd02NfEEIVay12Og40olE1Bs1Ne5QLKbzpVRLhRDZIH4ohD787LNEa2pGP07xOEccR2wBbhNCFwhxvgiPxWKZNDTQOjyJpwuhiuB8YcDqapJAZ4P0CaFPtbZerzLfjk8IJbU2yo3fz4lYTBwHUe44zurqau/Ehe0cNm0i0N1Niefp5SD3KJVo8rzAaEI79ebNtK9cqZ4Emac1i4CDE3VVNytW0bgEqanogQEREYITWtMcj4tYOIzX00M/iKOOI/ou2kUPDnrPBoNygdZ6gdbizdW+EPqEEKJF66G3BGju2BE7tGKFsxlUrtai44IF/jnMymG5EHr5W06i5Y/icf/3HWcoqrU4NfxuZOT/gQD9sZh+QWtZq7UQDAeU//jHuBkZ5GmtPgIiB3QYiEgpvxmNemdHbtiBgcQrSUl0Oo78qNY8DOKsEF4CZIrWuk8I8c3BQfX0/v2m6I9S9EspTmlNXAgdN+953ULIRhBvyUvftYtITY23z3Hk95TiEa3pUWp6RLxbLDcy27fTWVMjjoJeI4ReU1PDrmiUPp8PNxBgXiLBXK2JeZ7cPX++8g4denNXH+i0VavIvfB4QjCYOH9n+4Qg48JtHAedkkLvhaXJH30U+ZvfkNzXh0pPJyka1UUgpePog48/jga6amrEZiFUAcg7XZeddXU0BgLEEgl8HR2UglwNzNCavwSaMdl7o+KVV3i5tpb5IKpAVWKqG1vGiWlTrGWSGBkffdF7lzP7Xzie+qL33mmfi7e/HO903Mueb/VqZnuem+15sntgIHb60KGLm7a99RirVvkWKxUP+P2c3bKFxstcw9WOkXWdWCwTzIoVzu+D/isp+ddgUP3LJQp2AVBX51uhlPoTrXWtEDwJ8imtdQHwCWNh1T/csUP97/PHld8C7hBC7zRW1PMoJXYK4TUoJf4/EEVS8jsh3pLdEpdS/TwapX7XLjOhV1eT7jjObSa9Xt0C+m6gxXH072/fzllAL1pEciAgPyoEn9GamNZ8Q0p5GtQMIfSmYTf0T0Mh9bXNm+mvrQ3M1Dr+aWCDEPKzHR2JnVlZ/tlae38hhB7YsUN94kK5a2qCFVLGPq41XwC903X1xy9VvNAydqxF48pcajK80gQ51u0v9f/RTsCX2+6y+6elcaq1NdGQm4u3c+fli22NHMPvjx+JRhEDAyTGeL6xjpHFYpkApPQOg/wvIeSuaFRdwZUQf11K/k5rWasUi7RWnxKCLiHYZhQH9ZYGj0KIF0D3ay0GL1UhWEo6lBJPCUGhEFwclPm2Pfx+UjxPrwedJQSe1uInjqM2x2K0MvzM2L+fwbo69ZhS7n5Qa4VgIahbgT4Qr2gt/sN1vVc3bzbKi+NEezzP2SaE7pAy0VxcjBeNxjrA+bVS4m0lAAYGhhrT0nxPKOVFQES01hdbri1XibVoWCwWyw3KmjVkaE2ulHTm59N5Ybfpi1m3jmA0SpbnUSAEqVozJCXdrsu5i/su1dVRJMSlXRNC0Onz0TkwQCEQ8vneOs/E42ilaKyooH9Enupqknw+FiYShIQg5rq0pqbS/Otf87aAzupqkrSmUEoyhSAkJVGgIxSi7UKLzbx5+EMhsvx+kmMxzu7axeC6dQQGBshxXdSlelQtWkRyMGjcPJ5H44VxIBaLxWKxWCwWi8VisVgsFovFYrFYLBaLxWKxWCwWi8VisVgsFovFYrFYLBaLxWKxWCwWi8VisVgsFovFYrFYLBaLxWKxWCwWi8UyvbiZS5CnAVXDv5cAYcA/yn07gTagG+iBm7bxjg9IB0qH/67EjONoOQe0Y7rVtg2/bC8Ui8ViuYG40RWNEJALzADyL3iFgRQgc3i7NCAIOKM87iCmjfAQEMUoHCOvs0DD8M+Tw9uoa7+USSUFM24FQN7wz1IgGwhglA0wbZmDYzhuP2YcY8DA8O8tQAdGARkZw1NgW8pbLGMgjUvfjyOKve3hMTqyMWPpu+j9Zsw4WkbBjaRoSCAJMxGWYCbDAqB4+JUL5Pp85KamirSMDOFLTYXUVEFKCqSkJOHzBUZ1op6eASKRGIOD0Nen6evTdHbqnsFBejyPFswEeQ6jcDQP/z7yfvP4Xva4IzEPp1LOj2Ph8Ct35BUKUZSSIsLhsKCgwHyNwmFBUlIIKUc3jp2dESKRKNEodHZqYjFNS4tuHxqiC2M1Ogec4fw4jozhWXhrkyeL5SYhFcjBKBEpwz99F/x+4XYjC6gL6cAo+AnMAiiGudeGgD7MfdWFUfw7uTEVfBdIBrIw84Ufs1hKHn6lXbBtxvDfF3c6b8WMF5hx7L/gNYBRQkaeYyPjfdNyIygamZgvTC5mcpwFLAHmhEIUh8MiJT1dkp4eIhSqICUlg7y8AMXFgpwcQU6OJDsbsrIyCIWSR3XCc+c66OoapKdH09ZmXqdPKzo6OunvbyASaae/H7q7NT09ujGR4BhwFDgI7Md8+UZeF7dQngwczI2Ww3mrzxJgseMwLxQiPxwWgfR0SXJykOTkeWRmhsnJERQWCubMMYagwkJBOJyGz5c6qpM2NHTS2RlhYEDT0KCIROCNNxSdnc0MDjbR399DT4+mu1szOMgJpTgKHAJeB05w3oXVg3lgWiw3ChJjkc3ETHQjk2AhxkVZhHnuFQMh1yXL56PIccwjXUrw+8G9aHocHARvuH+r1lrFYkQSCRq0pg9zLzUATRiFpAFzj/UOv3qGf04n96aLGcc0zDMuDWPRzgPKgJnD/y8EMlyXjGBQ5L25sws+HzgX2Lo9D2Kxt4yjNzREh1J0aE07ZuxGxrIBs2Dq4q3jOMD0GsdrYjoqGgKjwSdhzPa3AOuEYLXrsiQQEPj94POFmTEjieXLJdXVAZYsKaGk5POkp9fhuplXPMHV0tPzMs3N/8XJky9w5Ijitdc8du6M0dPTSywWJRrViViMDqV4CXgZ2ArUc94Fc9kWzhOAxGjyQcwDaylwpxDc7vMxIxAQBAIBUlOTKS8PUl3tUF3to7KymFmzvkpqas2ECdbe/gSnT/+Qo0f3sGuXGcczZwbp7x8gFosRjepoNMpZzBj+BtiFsXIMYhSO6e6qstx8CMw9GcDckykYl+8qYDFQJSVVjkPYcUBKgeOYCVAISEmBrCxBMGge6YGA+Tv1Ip2/qUnT329+TyQ0XV3Q06NJJEAp80okNEqZiVQpjmnNPmAfsBfYg7nPoph7bSq6YFzMGPoxFolyhhdOwGIpmeG6pI6Mo5RmHKWE1FQoKJBvHig1dcRSe/7g0Si0tWkGhhvYe57m7FnN0JAZs+Fxw/P0yN8DSnEcM34jY3mU827jKFNzHMeN6ahoJAPzgI8DazGaaCg5GbeiQrrr17usWCGprv5H8vLuwXUFrguOI3GcIEL4mKjL1jqBUlGUiuN5kEhAb+8b1Nf/Da+++gK//W2Cl1/2VF8fCa1JYFwBO4FnMRNmM9dvkswAaoC7gHczbEJMTcU3f76UGza4rFmznjlz/pCMjNVvjqOUEsdJQoiLLYnjh1IxlIried7wOGra25/n2LF/Z8eOl/ntbz22bvUU5uaMA43AS8CTwz/7sMqGZXrhw7gpbwHuxNybhZhJ0wGczEzhlJYKUVwsyMyUFBQYi2JqKsP35vnnmhDnXxeiFOgL1tFag9aa3l5jgT13TnPqlKK5WdPUpOnq0l40iocx/ccxcWgvYRZJW4DDEzUgV4mLsVK8C6gDFmKsPiPj6ObmClleLkVpqSAjQ5CRAaWlktRUEEK8ZcyEMArIxVw8jkqZPzo6oL1d095ulI/6ekVTk9L9/XiJBB5mMRnDWI32AdsxY7lvvAdiKjGdFI0KYANwG0bRyE9OJrx4seNfvTpD1NRsoLLy02RkCNLSIDV1Fj5f9uRKDHhehKGh0/T2dtHVpWlrO8eBA3/Izp0DbNnixU+d0n0Y82Qz8Fvg55zXdieCRcB6zANtNpCVnS2yFi2SvltuWcbKlfdSULCSjAxBenoGSUmFuG76lY94HUgkOolEmunt7aGjI8LZs29w4MBX+dWv2tm7V8U6O3UPRnFrwihuLwLHMf5Ri2UqEsS4QVYDt2ImyDCQmZxMal6e8JeWSioqBEVFkuRkCAYFgYAx5/v95vcRq8a14HkQj0MsZlbmsRhEo5qeHmhp0TQ2KhobNSdOqMTQED1a04OJU6jHWBRfwrg1J+N+C2DGbh1mfhgJVE9LTRXJpaUiUF4u33SXp6RAKHR+HF3XjKsz2lSAKxCPj7w00SgMDZlx7OqC5mYzjk1Nivp6HY3H6ce4UpqBI5hx/DVm4TR07dJMHaa6ohHEKBhrgVpgUTBIeXGxyNiwwc+cOR+hqmoOFRWZFBVVkZa2cnKlHQWe109r689obIxx9Gg7+/dvYdeu37F3r0p0delTWnMIY+XYijFTjkdkcxBjOlwLVAPzUlNF6cyZIm31aocFC75AeXkF5eWFFBcvIBAovfLRJhmt48Ri7bS0vMDRoxFOnjzJgQMvsX37K/rQIRUdHOSY1pzEmCpfBLZxg924lmmLi7EmrsBYLeYBVY5DeXq6CI9MiHl5gqwsY7bPzBSkpYm3xVtcD+Jx6O83CkdPj6ajw1g9zpxRNDRor71d9ycSNGIyww4Ar2EmzJMTLJqLscLWcH4cKxyHiqIikVxYKEVR0cg4mjFMTxckJ789buV6EI2axIGRcWxp0TQ1Kc6e1TQ16Xh7u+7BLJKOYRS2V4HdTP3kgVExVRWNIMY/WYv5Et2SmysqS0tF8pw5s1m2bD233eanvPxhUlKqkDLpykebosTjnTQ2vsTu3ZvZs6ef11//MXv3Rmht1aeiUV7FmNX2YL5wA4zdHZCKWTGtxJgRbykpEYUzZ2YH5s6dw9Kli6mrcygv/2OCwbLxvLTrytDQaU6e3M727S+zf38rBw78lkOHemlv142JBNuA5zGmyTewbhXL5BDAuEIWYeKhahyHxampIjc3V/iKiowbpKzMKBoZGSbWbCrS3q5pbDQB3E1NxkXQ0qLp7tZtiQQHgB2cVzbewFhnx+ueS8VYLBZgxnK5z8eScFjk5uUJ8vMF5eXGAmSC08fHUjHexONw7pzm7Fkzho2NI8qHJhLRzZ7HbsyC8xBGgavHxHJMS6aaojGipc4C7pCS+4JBZpaXS5YvX8jatdmsWnU7s2d/aZLFHH9isS527foUP/1pF6+9doyTJ5toadFdsRhbgO9hMlaaOJ9SdSUCGH/vQmCT43B/WprImjGjVKxdW8AddyxgxYo7yc6+Z+IuaBJQKkokcoIXX/xbfvGLk+zZc5ozZ84l2tt1ayLBb4BfYBSOJibONWWxXEgAk8VVCdQJwV2uy6q0NEF2tqCsTDB3rmTePEl29lR7HL8zfX2aw4c1R44oTp1StLZqenp0JBLhNMYq+wtMHEczZrF0tSRhnmnzgbVCsMnvZ044LGRenqCiQjJ3rmTWLEFqqrhmV9L1xPOgpwcOH1bs3evR3GxiPHp79VA0yimMO/13GPdKK9PQOjtVPg6BiRDOAx4Sggd9Phamp/uYNSuDL3/Zz5o13yYj47ZJFvP6cODAX/KTn3yHn/xkgNOn+/XgoO5Xih8DP8BouYNcOkNlJGq9HPioELzf7xczs7P9rFwZ5s///HMsWHA/wWD59buYSWJo6BS7dv0rjz/+fZ58sp+2tghDQ5zTmh8AP8GkGQ9yE6WYWa4rEhO4XgY8CLzfdZkbCpk4gWXLJHV1DkVFAt/FpaCmKT09ml27FC+/7HHsmCIWQyUSnNOax4Cfcf6eG0tNCQejZMwDPiIE73ZdypKSjAWork6yfLlDXt5UmcqunaYmzauveuzcqThzRhGPg+dxTmv+HXgC414ZTyvRhDNVPp10jJvkvwPzQyEyVq503I99rIa77vopycng94eRcoraEseZRKKPvr5Gjh37NU888T/4/vfjuqVFDyYSb2q338LUkbiYTOB+4BPArPR0Um67Lc394hdXMn/+N0lNTcd1QwgxBW2J44zWHvF4hO7uIxw+/DO++91/4KmnEqqrSw9irEM/Br6JCV6zyoZlvCkEPgZ8EChzXVJmzpTuHXc4LF0q8fmMa2QqmvWvFq2NS6C312RbbN6s2LPH82IxhjC1JJ4F/h2jcIwGH6Zo4B8D7wEKU1MJzJsnnTvucKmoMOm8Pt+lM0OmKyOBuZ2dmkOHFL/7ncepU0pFo0QwAe5PAd/AjOm0eHZNtqIRwJj37wbeB1QsWiST7r//Xvmud91NefkssrOXTq6Ek4TWcQYH22lpOcjhw1v4z/98jK1bT0XPndNtGPP/Yxilow9jDVqOSfm9FSi+4w4neM89D4m1az/GjBlhkpMXMPkf9/VHqUEikRaamk6zc+df873v7WHHjv5Iby9NGOvQv2MC2Gx2imU8KAJuB+4FFvn95M+dK/1Llzpi9mxTRTc19ca+D5WCwUFNRwc0NSm2bPE4ckTHe3t1Bybe4BngRxg3wOWsG5XARuADwJyUFJGzcKH0LVsmmTlTkpUlCIWuPdtmKpNIwMCACcA9cUKzdavHiRNqaGiINsxi6XHMHNAxuZK+M5OpT+dg8sUflpK7wmHmPvSQz//hD39abNr0MebOXUNKyvQNULxWhHDw+VIJh8soLi6htHQ2mZm9biJxJq2tTRclEm82gkvGKBcf8fm4vbhYlv7e7y32PfjgQ2L9+t+joqIOvz+Pm1HJABDCh98fJjt7BsXFuRQXV5GenvANDjZmtLToUoxp24fpAdEzuYgyNm0AACAASURBVNJapikCE8C+GuMm+WAgQG1ZmchZt851V61yxIIFksJC+WZBrRsZIUzqbVqaqbxsKjALx3VJ6e7WBYkEMzDZhB7nq2SOEMQoGL8H3BMIUL1woQyvXes4tbUOc+ZIcnONFeNGVjLAWGmCQRMYnJ0tyM+XhMPC1Zr07m5drBSlmPifGGYcp2yw6GQoGi7mS/Ze4MPp6WL9ggU5RR/4wEYeeeQW1qz5LHl5S0fdL+NGRwiJz5dFaelCyspSyM6WCOHzt7a2FEejVGpNGbA+O1usWbUqJ/2++x7mIx95L8uWPUBGxrzJFn9KEQrNZMaMOZSVZREOx4XWLcGzZ6MzPY98jHVtEFMq+KbuS2AZEz5M+4N3AQ9Kyfuys8W8RYsc/6pVDmvWOJSVSVJSxA1l3h8NQphU0txcMZwBInEcfIkEuZEIC5QiEzN+QxhloxhTQPCjfj8b8/NFxbJljnPrrS7LlzsUFwtCoRtcu7gMwaCxhuXnj6Q6C3dggKJYjFlak4NRdnsxBdWmHNdb0QhhMko+CPxBTo5YWltbmPzww+/mc5/7nxQXfwi/P+c6izR9yMiYw+zZSygr89i9+0XR2qozEglmAwXz5jnOpz89m0996mdkZy+bEkW2piKOk0Ru7nzmz5/F7NmtNDa6RCK9RbFYfL7nkYbpUdCOVTYs70wIs2jaBHw+FGJNYaHIrqlx2LjRZdkySVLSzadgXIpAYCT1VOLzQSSCG40yK5GgSmtCmFiDO4A/TU0Vy8rLZUpdncOmTS4zZ0qCwRvfgjEakpNN6m5ZmRwuqkZKLKYXDFuJPMzzq58pFih6PRUNFxM5/KdC8OlQSObdf3+q8yd/8gjvfe/f4/NlIoS9I6+MIhYboq2tiV27nqOhwfQkEMKU0F2/Ppfy8geQ0oewd+UV8fsLKC5+N3ffvZq2tl2cPduW0tvrzdeaKs43vruevWcs0ws/JtXyE8BXfD7y58yRvnvu8XH77Q5ZWfb+uxgpzUQ5c6akvFzQ3Q1dXWTHYizGuNHvdl3CtbWOvOcel7VrHZKT7ThejONAWppg6VJJWpqgp0fT26sLEgmWYmKE9mKyUqbM8+t6KhprgT+RkrtTUwl+5Sul4uMff5TZs/8Ax7m4k7HlUsRi53j++cd49NG/Ydu2AdLSBCtWOPj9gkOHFPv2dZGT82NKSzcRCExM47gbCRMHk0Vt7XtJSmqgpeWQ09ysczEZUP3YehuWy/MB4E8xcQSBTZtc3vc+s/q+GeIHrgUhzERZXi7p6dGcOqV9QJIQyLVrHTZudKislDdURs5EkZtraoj4/YK2Nh2KRJiBKXLZgrFuTImaG9fjowxhXCWfDAa5paIiFP7Lv1wn7rrrS5SU3Infn3UdRJj+RKNn+fnPv8M3v/ld9u07S3a25L77XFascCgvl0gJBw/G2b+/h76+fRQVVZGZObVLiU8+AiEcgsEUiotnU16uhOPs8x04oDIwq9VezA07HmXgLdMfgQm+/kPgo45DTWmpSP/gB33U1ppaDn6/VTLeCa2hq0vz8sse+/YpIhFEUpKQsRj090N6uikbnpJiB/KdcF1ISjKl1jMzheju1v6eHnK0ZjZTaLE0kYqGwCgZDwIPp6VRV11dlvlHf/QI73nPB8nPv3VKND2b6mgdp7PzVzz99A/5/vd/zoEDxygpEWza5LB4sUN2tolKDocFiQTs2uXR1NSAEO1kZ2eSk1M52ZcwLUhNzSU/v4DsbCFisb2+48dVjueRi1kRtGIzUm52HEyjrkeAh5KSWLxggUx717tcamqMq2QyemhMNxIJUx/iuec8duzwiMdh4UKHNWskycmC5mZFR4epI5GSYp5rlivjOMYllZUlyMgQIhIh0Nen8+JxCjBZPB1McgrsRCkaEpN6uRH4TGoqNTU1lWkf+ci9PPjgZ0hLW4LjhCbo1DcOWseJRJr55S+/xre//TSHDjVQVCTZsMGlttZ5c/XkusYUmZUlGRiA48cVTU3HkbKPvLw8srNnTPalTAtCoQJyc2dQVNRNS8txWlu94miUMCZt7CyjK/9uufFwML7v9wF/FAoxe8ECmbRhg7Eo3uj1HMaLeBxaWzVbtnj87nceiQQsXCjZsMGhpsYsmpSCM2dM/xSjbEBGxvQqKT4ZCGE60ubnS5KSIBYTTn8/JUNDFA9vcgbz/JqUAl8TpWikYroT/l+hEPOXLStK+vjHH+BDH/o0gUCJDVQcBVon6OtrZvfu5/i7v/sOhw93DQd8OtTUvD1odkTZqKiQNDdrjh9XNDQcQ4hGZs9eSnJyjh33URAI5FBYeAvl5bs5daqd1tZYaTRKLsYMeRKjdEyLanyWcUFiemzcJSVfTkkRFbNnS9/GjS5Llsgbpnz4RJNIGCVjxw6PJ55IEAyaYMb16x3mzZO4LuTkCEpLJb29mtOnzWtgwAS6B4M2e2c0uC6UlEgyMwX9/dDZSU4sRjnGMnuaSSpdPhGKhgMsBr4oJavnzw/6v/zlL/D+93+SQKD4nfa1DBONtrJz59N88Yuf48CBCDNnSu66y6TMXQ7HgdRUE2TV0gKHDilOnz6NlJtZseIhpPRbZWMUuG4SZWUPUVa2lYaGBk6e9IqUYjYmXuMYEJ9kES3XBwGkAQ8IwZ+FQlSsWOGIhx/2MXOmDVYcLVobd8mWLUbJEALuvddl40aX0tK3Ps+SkwUlJSZ18+hRRWOjprMTKiqMa8U+vkZHdrZxpQwOQkODDmtNLSZtf1IsGxNxq9wGfM7vZ+OcOTLw1a/+L9auvZ/k5EKbvjoGfvObn/OVr/xPDh7sZ948yd13u8yePbqHWygkKCw0N6tRNvqorPwZ+fnrCQRsnZLRkpt7G0VFLQwOHuLgQZUEVAG7MamvVtm48UkGPgM8Eg6L8tpax3ngAZesLLu6HgsdHZpnnzXuklBI8IEPuKxa5RAOX3ocg0FBbq7pY3LkiKK52bhRsrMF6elW0xgtaWmCzEwzxidOaB+mTUUE4wbuvJ6yjLeiUQ085Lq8p6QkPfyVr3yUNWseJCNjBkJYG+No2br1P/je9/6Jl146SUaG4EMf8lFZaYrWjIaRfPWRQKqDB+O8/noXc+d2kJNTQiBQNIHS3zi4bipZWVXk5Gi03uu+/rpKB2YC9ZgAUats3JhITMfQzwMP5OaKWStWyMBdd7nk5QlryRglWkN/v+bppz1eecUjGIS1ax1uvdUoGZcbRynNYikcNpknR44o2trMe5mZNhtltDiOCajNyBBIiWhq0kmeRxkmMLSe65iNMp63TDHwUZ+Pu+fMCRc/8shq7rvv84TDM5HS1skYLW+88R1+8INv8dvf7iUpSbBxo8vSpSbgbCyMuFFCIUFnp2b3bsXg4FlKSoooKCjDddMm5gJuMILBXLKzC0hORhw/vsdtb9dFSiEwnRPPMcUq8FnGhRRMi4RHkpKYt2iRE1y/3tR2sKb70aE1RCLwwgseL71kAj+XLXO47TaH/Px3tgg5jknbzMoSOI7g9GlNezu4rnkvKcl+EKPBdY2ykZkpiMWgq4vMaJRUTKzZGa6TsjEeiobAVMl7EPhwebmY84EPzONTn/oMmZm32Z4lo0SpKN3dm/ne9/6WJ5/cy9CQZs0ah9tvd686N9/kWJsbtrkZDh4cxO+PU1xcRH7+3PG/iBuUYDCfcLiSYLBNvPHGSTcSiRcmEgwCDRi/p+XGIQ0TyP75UIjFCxbIpLVrXebNszEZY2FgQHPggOIXv/CIxWDxYsmaNUZZGy0jaZvFxWaxVF9vOpmGQoKCAhNAahW/d8Z1IRw2ykZ7u6anR+fHYqRjCnod5zrEa4zHrRPElBb/Snq6mPve9xY4H//4e6io+JyNyRglWnsMDZ3jxRc/y9e/fpjm5gQrVjjcfrtDauq1BUAFAibt1e+Hkyc1x46dISkpiYULFxIKZYzfRdzgpKRkM3fuBlpatnDyZEdKX188jGkEdZAp3DXRMiYCwBLgU1Ly7pkzZfA977HZJWMlGoX6es3PfubR3KxZtMg8y+bOHft8IKVZKGVkSDo6NPX1iq4uKCgwHU1trMzokBKyssxc0t2N09WlMzyPMKZceRcTbJm9VkVDAKXAvwjBwo0b/cGPfORzrFr1lXEQ7ebB8/ppbNzNZz/7Hxw/3k9dncvttzsUFo6Puu7zQWWlpKFBc/KkpqvrdVJS6lmy5H6rDI4Bn89l1aoaXnnlVU6fbspNJAhhKu8dnWzZLOPCTOABKflUMIh88EEf8+aNPjbKYjh5UvH88x67dyvy803w5+zZ8pqUgsxM4y7p7oZjxxRtbZrFi00tIatsjJ6SEonnQWurDnZ1kYOpD7OZCXahXKuiMQN4APhwVZUIfe5zfyc2bHgEvz9pHES7eTh2bBdf+9on2bq1ndmzBbfe6lBVNf6m2pISU2Pj4EGPgYEeamqOkZFxuw3UHSVCCFw3TGnpK5w928DRo0NhIBPYgrlRbX2N6Usmxv37+6mpIu2BB3wsWSKv2aJ4s9HWpnn5ZcWWLR6hEHziEyYVOBC49nHMyDAFvc6d05w9C0NDUFpq4zXGSmamiXtpaND+SIRCTGv5BiawIOG1TGXJwDop+ZOkJAq++MU68a53fZjcXOv7HwsdHc/x4otf5Rvf2Eciodm0yWX+fDkhXQtDIYHfL+jq0pw4EaWvb4C6utsIBNIRwtZPfmcEQrhkZpai1Fna2o76Gxt1Csbkvosp0sDIclXcC3woHBZzq6ulvPPOK2dGWN5OPA4vvujx4oseILjzTlOePSVlfFwcI4GNQsCRI5pz5zT5+SarIhCwysZo8ftNkoAQyBMnVEApZmDqA51lgtzA13Ib1QAfTkkRGzZscPnkJ/+MGTNW4bqp4yXbDU8i0c22bU/x7W//FwcPKlavdli1ypTinYhVlJSQlmaq9J0+7VFfH6Wyso/CwqU2XmMM+P0FZGSEGRrqEwcPvhEcGKAAeB0TXGXjNaYfi4GPh0KsmTVLJt11lykkZU3yY2PfPsWLL3p0dsKiRZI773TJyBhfZS0UMhaMaNTUCBoaguxsOZydMn7nuZEZKVceCkFHh5bt7TrH80hgKoc2TMQ5r/ajyQXuCwS4v6IinPalL93N0qWfJinJ1mcYC6dPv8hPfvIUTzzxBoWFknvvdSksnNjAs0DAdJgcGIADB4bo6TnA0qWLyM4uwnGsy2u0hMMVOE6cxsbfukeOxNIxwVRvYJQN60KZHozUy/gksKmkRBSsWeNSV+dYd8kYUAq6uzXPPONx7JimpESwfr3DrFnjr6wJMRIcKjhxQnP6tCIYNO3SbTGv0eM4RtlIThbU1ysGB8lVig5MFsq4u1CuRtGQwLuAD+blOYs3bpzL5z//SwKB9HEW7cbG8/p4+um/54knfsbAAGzY4LBsmUPgOmQDG1OmYP9+xd69ikWL+iktnUlqavnEn/wGIjW1jeTk4zz//BkZizFTa/Zg+qFYF8r0IITJMvlSKERlXZ3rrF/vEArZCWssDA3Ba68ptm71AKitdbjlFnfCLAwjNTZ8Pjh9WtPWpklOFpSVSdtBdwz4/UZBa2nRtLeTMjREEBOvcYBxzkK5Gn0zBbgfWDV/fiqf+lSp1f6vgu7uzfzmNyfYudOjoECwfr173VLoXNcEUW3a5OC68J//+SJ79566Pie/gcjI2MDy5V/l3ntdkZwsUoA7gPmTLZdl1OQBfwNULF7s+JYtM82oLKPH86CnR/PUUx7t7ZoVK4z71++f2POGQnDHHSZovqtL8/rrJqPOMjZ8PrjnHpeyMoHjUIcpVJc73ucZq87pAPcB712wQBbfd98GsXHj13Hd8HjLdcPz9a//D557bhtZWR4bNjiUl19fn3AgIEhLE5w8abokFhfvp6LCIz297voJcQMQCgWprJzDr361jZ6eSIlSNGFWBNaqMbXJA24HPpmWJkJ33eWIxYsduyIeI52dmq1bPXbv9qiokNxyi5n8r9ezLBQSNDdrTp3SeB4sWGCy9ezid3QIYeaCSAQ6OqC7WwcwtbFeGM/zjOXrIDHWjPcDM6qrl4k77ngPgUDpeMpzw5NIdHHq1KNs3vwabW0RyssFCxde/8AzxzFpTmvXOvh88MwzDWze3HR9hbgBCATSqay8jfe+N4WCAhEGVgErJ1suyzsyE3gYSF671pFVVbZexliJxaCxUbNtm4dSsGqVQ1WVuK7KWmWlYMECSXIyHD9uXMGJxPU7/42A48Dy5ZI5cwTBIIWYxqhzMRW/x4WxTG8pwGpgyeLFMu2WW5ZTVXXbeMlx0xCJDPDUUz/i2LF28vMFc+fKN5ufXW/8fliyRFJcLKiv12zfvpOGhh9NiizTFSFcQqEc3v/+D1JeXoLrshS4FbDpV1OXfKDGdanJyREsXy7JzrZL4LHS2mrKjLe0aCorJbNnX/9nWUqKWahVVprKodu2eQwOml4rltGTkyOYP9+hslIGgQrgA4zjM2y0iobE+G0e8vnIvvPOBc6qVasIhSrGS46bgni8g7NnX+Kxx5rp6YmzYIFk1qzJy6FznJEvmCQUgtdf38FLL/3XpMkzXXEcH0uXfpJly6rIzRWFmNTvhZMtl+WyLALWhUIibeVKh5ISYa0ZYySRMBVA9+1TBIOCNWscsrMnp0pnWZlk3jxJUhIcPqw4fdqkvVrGxsyZgiVLJMnJIowJkZiFycq6Zkb7tQgBlULw3uxskVJX91EqK28fj/PfVPT2HmDPnkfZt2+Q5GQoLxfk5Ez+Sqq62qG0VHLihOL55weIRpvQ2jYlHT2SYLCMjRvLWbw4HSmpwqwIbCWGqUcSsMJxWJOTI3jf+0w/IcvYMEX/NM3NipISwfLlkzeOoRBUVUkWLZIMDGheftmjq0tbq8YYyc4WzJ4tqagQIcxC6S6gYDyOPdoHYQmwQQhS1651ZGlpKT5f9nic/6aiuTnCc8+dIZFQmJXU1JiHiosFlZWmSNihQ69z9Ogf4Hm9ky3WtGP16i+wePG7CYXM/YIxPU6ND9kywgpgeVaWyFiyRI57QambhQMHFEeOKLKzTc2M1NTJ7TlSXCxYssTUP9m2zaO11QSHWsZGYaFg1SoHTB+zDVxnRaMCuMtxHB544JOUl88elsMyWgYHj3HkyHaefTZBcrJg8WI5JawZYCKPZ80yfs6mpgEee+w4Q0M2omqshELlrF6dz9q1rgCyMb0z0iZZLMtb2QhU5+cLsWaNLcx1NfT1aY4cUTQ1GUVj2bLJr1/hupCfL6itdUgkYM8exdmz1qQxVtLSBFVVgooKKX0+FmHcwNesbIxG0SgCFicnU1FT42PevPeRmlpyree96WhoeI09e35Of79m/nwTfDaVWk+XlkrKywWRiOJXv+qmrW0biUT3ZIs1rZAywIIFtSxfvhogHbgHGxQ6VZDAAmBxWprILSkRFBRYLeNqOHZMc/asJhwWzJlj+jJNtsImBGRkmOwJx4GDBxXnzllFY6w4jmlet2SJJBAQycAaTAbKNTEaRaMKWJSeLkJ33+2SnT0Dx0m51vPedLzxRhPbtr1BICCoq5t6fuGUFKNs5OUJTp6McOjQfzIwcHayxZp25OfXMH/+OmbMkEnAMmA2JmPLMrlITDZQWWGh8FdVyQkvKnWjcvCgadNeXCxZvHjqeAZDIUF5uaS01BTxamxU9PRYZWOsJCUJamok4TA4DjWY4OlrCgp9p2+JA8yRkoVZWels2rSR5OTkaznfTUk02sixY80cPmxMjSNZHlONggIjWywWZfPm5+jsbJ9skaYdgUAxFRWV1NVJB9N6fBWQM8li3exITLfp21yXvBkzJDNnTp0JcrqglKkCevy4qVVRWiqYMWPqjKPjQDgsqK42/aJOntQ0NlpFY6wEAlBZKSkrkyQliRKMJfCaCma907ckHVgUCjG/uLiCBQt+SCAwLrEhNxXNzb/k9OktJBIwZ47pmjcVO0NmZgrKygRKaZ59NkFrawSt45Mt1rSjsDCZ1asLkRKBKd417iV9LWPCD5QDNenpIrOszLpNroZYDA4c0MPWDEF5+dRy/4KJ1Vi8WJKeLmhoUJw6pWz2yVUghBnHDNPUew4mVuOqeafpbglQVlYmueMOW5v3atm1axcHDx4iNRVmz5667aeDQcjLE5SUSI4fVzQ1bWFw8MRkizXtKCi4i7q675OWhpSSlViLxmSThql2GJo1S1JYaJWMqyEa1bz2WoKBAf2mi2Kq4bpQXm4C7dvbNQ0NmlhssqWafggBixa92ftnDrD8Wo73Tt+URUBpYWEKK1daS8bVsn9/nKNH46SlmeCpqapogKm0N2eORAg4cOAxmpt3T7ZI0w4hXDIyktiwwSU5WaQxrLBPtlw3MWHg3UDyrFmCoiKraIwVpaCvz1g0HEdQUjI1agBdCilhzhyjbLS0mAwZy9gwwbWCykpJTo5IB2ZwDc+wd5ry5vj9FBYULGXOnD+62nPc1HR0/JL6+hPE4ybXOxye/AjtK5GSYsqiu67g5ZfPUl/fM9kiTUuSk2HNGodQCAcTEFo82TLdpASAQiFYGg6LQH6+mHKB2NOBgQHNqVOK/n7jNsnJmXpukwuZO1eQl2esGsePW0XjanBdmDFDkJsrXMzza9XVHutyiobE5M6W5eeL9MrKMsLhdVd7jgklFjvHuXPPcfbsc6PeR6ko/f2Hqa//Z44e/Wf6+t5AqeiEyFdf/yQtLSdIThaUlsopXxwoGISSEkF6uinKc+ZML57XN9livUk02kB7+5M0N//7lJLrYpKTM1i58j5CoVSASqBwkkW6WckE5gpBZlWVcLKyrm/TrxuF/n44cUKjFFRVCTIyprayVlhoSggMDMCpU9o2WrtKSkslubkCTH+gNVxlAa0rKRqLgdyqKunOnz91bf0DA6+zZ8832bnzB6Pep6PjBPv2/RevvPLf2L37v9HbexitJ+abePDgQTo62snKmh4mW8eB1FRjfent1TQ376Ovb8+EnKuv7xD19b/l+PG9o96nt/d1Dh/+Gq+++ldEo1PX2hIM5jF37p+TmZmF3085RtGY4mrmDUkesEwImDfPIT196t+DU5H+fk19vbEMlJeb1MepTChkSmr7/ab5W1eXUZIsYyMvz1iv/H4yMaEUIa6i2vHldnAwikZ6aWmIyspx6asyIQwMHGbv3lPs2DG6erNax9m37zl++tN/pbk5G78/n2CwiGg0QX9/67ivkvft82hv12Rnm3Sw6YDrCioqJKGQ4Ny5J2lu/umEnOfMme/wxBMP86Mf/Z+j3qe3t4UjR/azbZtHNHr5cPKhoS4ikWZisckpOiZlgKSkKubMCZCaKvIxhe9sPY3rTw4w33HM/ZecPDXvQaVgcNBkdox2QtQaolHj1ohEID5BCWImrRVOnFCEQlBUJEhJmZrjeCFFRWZxNzioOXlyYq0aiYR5jSXDJZGAoSGmdLCqz2eyETMzRRBj1SgBxuw0u5KisQhILyhYR2npe65e0ilGJHKYM2eOEost5BOf+Bnvfvd2MjOX8tOf/i3f+c77OXv2m+N6vv37Pbq7NSkp0+PmBGPVKC83tT7OndMTVsq3ouIz3H33H3HPPeMfaPzCC3/OT35Sy969fzHuxx4tJkXMGYncLsK4UCzXlwLXpSYjw6S0TtUurf39JqV8507TEOyd0NooFtu2eTz2WIInn0xw+PDELNn7+6GtbcRtIgkGp8dzrLDQZBgNDUF9vSKRmJjnWCIBDQ2aM2c0fWNYp544odiyxWP//qltasnLE5SVSTDWjJrhn2Pict5KCVSFQqRkZS0mLW3F1Us5SbS3P0lj47P09Z0iJ6eAWbP+DSkD7N//JIcOPUt39yB79nyZGTNWce7cYfbufY3+/i6ysjopLt5Obe2/EQhkXfX5Pa+f7u4tdHb2Eg4LsrKmdhDohYwoGklJgpMnFfX1ig0bru2YLS0/pLd3O1lZ76Gv7zVAEQxWEIm0MjDQ+ZZtGxv/kaamX+J56RQVLXrz/czMO9/8XWuPvr5XOXHib0kkjvP/s/fmcXJd5Z33996qW3v1vm9Sq7VvlmTZlmVblo2NwUzIQhICBBgIIQkTJkyYAfLOzDvzJhlCXiAh5E1CHMxiMHiJsbzLWEL7vi/dUrd636uX6tr3e8/7x1G1FktW71Ut1ffz0Qcoqu89de899zznWX5PdfVj1Nb+N4RI0dz8R5w69Q5DQyP4fK+TSvlZteqPcLk2YDLNneCcosCGDSrbtilcukQJMqEqV8Yzd1QBC61WxdzQoGK1krVzMO2dmOiuWNelIFUwCGvXmqirk/o8oRCMjgrKypQZEwUcGxMMDIhxT2e2GmvXU1qqUFYmPRptbQap1OxELnUdPB6BrgucTpW8vIk9ZIYByaQglbr59xMJ6O01KC5WcTrJSH5RcbFCRYUC0sDYCOwEJuUqvtGwzUAxUFpZqViKi92YzfnTHeuccurUNzl//m3i8WZMpjFOnnQxNPRl1q//CoHAAMHgMMmkYGzsNGVlRYyOHiUY9BAOg9fbg80WxjCm589KJsfo7f1nYrERioqUrI9pXo2qQn6+zNUYGJgZdb2urh5OnXqN/PxWAoEe1q9fSmGhl6amFoaGrGzapJNMetmx40cMDDyPydSM2Wzj3Lkm4nHp9t6wYREgJ7bXG2f37qewWpvp7x/BbvewZYvKihVfJBQ6RSAwSiAAPt8Io6PHSSY/ghBz285RUVTq6z+A2+0HuiuRJWI55o4KoFoqHWZ3lcRkSaWgu9vAapXNxMrLFSIR6OyUzcRcLhn6nAmkoWGgaVIx0mrNUmvtOiwWqRTqcin09QliMdlqYablBcxm+X4SYua91tGo4OhRg3vvVbBaM5PIXFQ0bmhYkSqhkzY1bzRsC3InYFu8WFXLy+fHQwUy/yIe72X37p+hqoUsXvxr2O2Cixfb2Lbtx9TUfISionwKC4tJJGw0NHyEoqJlOP5htgAAIABJREFUwHIKCt5AVXtYuHA5tbVbMJunt/NNJqNcunSAeDxCTU32Z2lfj9ksO/m1twuGh73EYp3YbFNfJ30+QXOzB7c7xurVv0th4QoUpYP+/lF6eirQ9TA9PT9i376nqKhoYO3ah7FYoKsrwtGjz6OqCVauDGAyWdF1iERUrNYF1NauJhY7TGvrafbu/QUrVnyJsrKPUlDwE1KpdmprF1Nf/9vYbItQ1bltbqEoKuXlv0Ne3lHM5u7yVCqnpTHHVAK1VissWKCiafNnDgoB4bBMZPT5BKoqd5bFxbKt/cCAQW+vgd2u0NZmEInI39bYKPt7mM2Ml6FONwHW7xcMDYnxBdVqnYlfODe43fIadHQYeL2C/Pzpj7+7W14L6YUSOBwKqipzZWQeiEIqBYGAYHBQEI9Lo8duZ9xYKCm5ck/CYelx8fsFmiZDfAUFCsGg4Nw5g64uA5cLhoZk5eJcC87Z7dLYyM9XLH6/WIY0OCbFjQwNG1Ku17x0qUplZfZWnFxPKhVgYOAFzp/38vDDD9HQ8DhC6CSTB3nuuYMMDTVRUWGnoqKKaLSEdeu+AUBVFZSWjmE272TNmsdZsOB/THss8Tg0NRnEYoKSEpWCgvnzkktTVCR3gYFAOz7fLioqPjOt40kRmFJ+8zf/X8xmK/39/wrsAiCRCHD8+HcwDB933/01HnzwDwBYu3aE/fvfBEbHj6Oq4HDYeOyx/0lxcS01Nd8gEmnj9GkdRTFRV/dVSktPYzZ3smzZelav/p/TGvfUUXC51lNSUozTSYHfn1MInWMqgBpNg6qq+VXWGolAX5/g0iWDYFB6FAsKFJYskQun1ysTQKNRQTwuSCRkouvoqFzYuroMQHo18qfpkA6FIBCAoiL5TphP19HplCGUtjaZb1ZVJabtkWlqMlBVuRlTFCgpkTk2AwOCu+5ScbkUfD7BxYuC4WGDeFzKBpjNCqpqUFysUFAgwziplNyEdXaCxyO/u3y5yrJlKsGg1C4BOXafTxo1mVC2dTqhpkbR/H5RgywZtwATdvvf6JFxIhNBLTU1JoqK5o+hEY+P0NT0DRKJGAcO/JDGxmcufw42m0ogsIuCgrnp2h2Pi8uGBjidCg7H/DM0KisV8vIUIpEOvN490zY08vIUliy5sTJqIgGnT+s0NIy76QA5kdMGTxqzGYqLr7hAbbaFWCxLiEazsy9Lba1Kaalq8fsNB3LO5ar654Z8RaHQapWhhfmCENDXZ3DpkiAvT+GJJ0wEg4I9e3RaW6GiQmXlShOdnYKiIimwV1Ehy9GFgP5+wZYtpmvm0VSR1TDS0Kmry25V4xvhdCqUlCgYhlysYzHIy5v+cfv6DOrq1HHD4vTpK2HZcFjQ3i44c0bnN37DTFmZQiQiOH3a4OJFQXHxtd4Mh0Nh40YVt9vE7t063d0Ct1uwerXKk08qPP10kk2bTCxapOLIUAGo3Q5lZQqNjQCsAtqBwYn+/Y0MDROyDE+1WsvQtBm4K3OEYcgbl5+vsHnzGpYvl2KMQkAqJaiv/4/EYueBpjkZSzAo0HUZF8zGbq23Ii9PZun7fCG6ugZZuXL2zqUosj1xIjF7ZXqZIu3Cbm2lCFgDnAZyrZ5mnzKHg8rSeeZH0nVZ5eHzCZYuVRkakgaE3S7fYx6PmLNdrccj8HoFNpvMBcnWZNqbYbPJ95gQMgQ0UyWuJSXqeEj8+veVzwder2DxYpXiYrlJysuTIZHh4WsvYF6eQlGRVKtVFFiyRGVwUCcUyq7Xg8VyTQiuHnAzTUPDhizDM9fU/OdrMv2zHZutmPXrv8obb3wPVa2ipuY3cTqvVC1YrVUMDfXMyVhiMThxQrrYLJbszXZ/L/Ly5ERNJAxCodndhFssskLjnXcMli71smSJD8NI4PG8Sk9PlLJ53P/U7R6vAFCZQg16jilRCRRbrYppvol0pXUxAgEZOkl7EcJh+SzNpVchFpMeYZNpfm6W3G65wF/xaAimKG55DRaLbKd+o3sRj8twVlmZMq4ErSjyu9d/X34u76kQjOd+ZJu4mN3O1b1t3MjQyYR5T4+Gw7EUi2X+NFPTtDxqaz/KQw+9yKVLzXi9r1BefgJFkQ/FAw/8GYpy4xKn+noVv3+UX/7yl9x1V5J1676MxTJ1b46sjBCUlzNvsrSvx25X0DTp9hsdnV0L22IpYMOGv6Kx8dscPfoavb3tuFw6Pl8jhhGdtKG2ZEkBhw872LXrJOHwN3n88f/KTLxgpkJBAelsdBdQBxzLyEDuLAoAR1ohcj6hKAqKIrDbZfLllY2Kgs02txVsgYAgHAabTaGiQp13GyZNA4dDLuCjozPXyVVVb755NJsVTCaFUOjaUmUh5LowH7FaFYqK5G8WgkpkisWEuZGhoSkKRU4nqsmU/U+V3b6IpUtXEouVoigWbLZFvP/9H2XPnmaGh7sZHj6H2WynpORehDCwWhfQ0LAKt/ta03Ldus0I0Y3H00YgcAIhpv5EGkacVGoMkBM02/ub3Ay3W2ZoDw3J7PfpUFZWyfLl91FevpS0TpzNtpDFi1dSUGDBZHJRWflZHnnEz9mzRwkGL6GqZuz25RQUNOFyJdA0sNurWLBgC1argaZJo9pqrWbBgjXcfbdn/HwrVrwPny9Kc3MTY2P7gf86rfFPh6IiJ263FUjZkQmKCrnQyWyTB9itVmXCugbZgs0mO2cGAvLdUV6uYjaDrsuqBIdDqohej6LIBTWZlMmk8bhcaKfjAYlGpRfAYoHCwvnpmTWbIT9fIRCYm7Cs2y3vX2engccjyM+XnqGhIXFZzXjiF1FRpPckGpX3wmLJTDKuxcLVoZMyJinadaMhWxWFuspKxTwfXGV5eZt4+GHjGsOgru6r/N7vjRIIHCYYPImmFVBV9ccoikYy6eaBBwySydFrjrN48e9SXr6IsbFd2O31aNrUy1uTyWECgcOAuJxtPOVDZZS8POkyi8VkvHg6LFmygepqFzZbLaoqLS+3+x4eeMAYN8oA1q79bZYvf4hEYgjDiJFMOjl16i1KS+twuUrIz1/LPff8OcmkF7tdKno7nWvYuDHFqlWt48cpLf1tHn10KRs3HkKu6Zl7Q7rd+TgcLiCcsTHcgRQDLk0ja2XHrya9oJhM0vtaXa0QDis0N8uEcotF7oZLShhPLNc0+f20IaFpMmdAVWUeh8MhE6kt06jqTudMyRBw9l/HG6FpMg+irc2YEY9C2nhTLltdiiLvg/xc5jJUV0NPj1T/LCpSiEbB4wFdv3INVVWO7er1QX52Zc2QZcoqPp9gcFCeJxMVjGbzNfMoj5kInagqroqK+aEAp2kllJR8+AafF1Nc/CGKiz903edFFBV94IbHcrs34nZvnPaYIpFmBga+jxAG1dXqvJEen02cztU4nauv+UzTiigu/uD4/xbCoKfn33A47iUv7yECgUOcPPk7DA4qVFR8i8LCxzGb898VzjObCygoeISCgkeu+dzlWovLtZYcdyRFgNPhgPmQDGo2X9G80DSpmWG3qzQ3Czo6DISQiYNuN4CM6ZeUSIGodEWWzQaLFqmMjQmGhgzsdhWXa3oGQrohWVWVrNyZb1UnadKeGCHkv+l4ZgoLZeJmen1UFOn9TSTkZ5omDcWtW000NRn09BiUlalUVkpHZjrsYrcrFBZy+Z5KLBZZ3eF2ywG6XAqPPGLi2DGDvj6B05lZ8UdVBV2fGY9GjhxzjhAp4vFe3nlnP0eO/JCxMQtWa4K6Oo0vfvFTLFu2EbN5bkqTc+SYa+x2uO8+E6rKeKjV7VZYt05h9Wq5uqe1G0AuSHffbRoPl6Qxm2H9ehOGcWWXPROkPS3zEU3jsqdH5mmEQtcu7pMlfT/S98lslgbewoXXeiJKSxU2bzaNGzeXLkmPSm2tiskktV2uruRRFBme2LTJNH5sk0l6pbZuffe9nmssFtnrprPTKIvHc4ZGjnmIopjQtDI++MGvc999ARIJOcmcTjN1dXU4HNVMoTtxVlBU9CHc7nbg1XxgaabHkyP7SCesX026Yu1GoY8bff+9Pp+pMc5HzOYr+SXRqOwvMp1Q6vX3Q1GuNegMQxYCNDXJsImqShn3sTFBSYky/tmNrqeq8q5IgqpmR8VP+ncqCiYm+TLOGRo5sgQFk8nBwoWbWHibdQRxudZhtzeAjGvOH2Ga+Y0LsKXj4DnuXOQCKT0HhiEm1cp9quczmWTIKhCQJzMMKbRWVTW9nJn5Ss7QyJFjljGbCzCZXJkexp1GEeCyWK7Eu3PkmAsUReZWLF4Mfr8Mm1itMv9mJlRJ5yO3taEhRApdD6HrQazWGm7mLtP1IIYRQ1GsmM136JOQZRhGHF0PIYSOppWgKDf21KVSYwiho6oOTKYM6fPegni8h2RyCKT0eCzDw7lTyAfsNhvzqnNyjtsDTZPJuvNNw2W2mJ9B7wmSSvnwenfT0fFtDOPmBdSBwHEGB1/A5zs4h6PL8V7EYt2MjLzOwMDPMIwbiAZcZmTkl3g8LxEOn5/D0U2Ovr7vMjKyDSAEdGZ4OHcK4vK/WXeV58iR4725rQ2NUOgUBw8+w7e/vZdk8uYF1I2N/8q2bX/L4cN753B0Od6LwcFD7Nz5v3nuuR8QjUZu+r0dO17nzTe/TmvrC3M4uimTJCemMVdEgUQ8znicPEeOHJnhhoaGEFJvf6Ya0MwUjY3PcvDgVxgb+9WEvm8YMaJRP15vBPEe25p43EcoNPqeC9pksFgqKCjYAsh2zlJf/84lGr3EiRP/wJ4935zw3+h6lEhkmEDA9573LhwOEQqNkkgEZmKoc8Gd/TDMHQOAPx4XBObNo3FzTp0y6OiQ3UdvRCIhu7YeOqTPmMx2jpnB4xE0N0sdjJsRDAr279cZHha3XVNJuHGORsww6OztFTXRaPbkcPj9+zh27GUGBo7jcPSRSnkpKnoCk8lNMjlMNNpKMuklL+9ezOZCFOXdQw+FThGP92K11uJyrbvlOWOxLqLRVlTVitO5GrN5YsFeq7WGwsInUJQfEAzOnL7+XBOLSVXAdAb1VEilxhgYeJUjR36Gz2dj5cpFaFoJbvfdmEwu4vFeIpELGEacoqInUJQbF/77fLsxjBg2WwMOx5JbnjccbiIW60TTCsnLu39KY58pkskgqdTMGLE5JkwEiBvG9MsZZ5J0vwtdn5w8eHu7QU2NQnGxis327t+STEqNiIsXDe66y3RHVjbcDCHSz8DMEI1eq955K/x+QW+voKRECnndiFgMmpoMKipk8vJM6Z9kCze6VHEh6B0aEpXxuMgaQ+PixTc4c+YEQ0MeSkvfobd3kK1b7yMYPMvAwFFGR88Ti3nQtGZWr15EWdm943+bSIRpbn4Jr/cowWAbmraY6uonWb58LRZLxbvOpesJuru309V1hlDoPGClsPAR1q+/H7u94aaLYRqzOR+HYzmgEIvNjOxtJggE5A7K6VSu7tw3KSKRFi5c2MG5cxcIh/M5evRfKC6uYM2aBQwPN9Lbu5Ng8CSpVBSn08uaNRspKloAyJKwaDTOmTPbCIf3EIuFcThWUVv7CMuXP/aucwmhk0qFaG7ex+DgHsLhi2haGVVVXlavfgiTyXXTpNLZZGwsRCgUBUgAfnJejTuWRAJ6egSaJhUgJ6qPEA4LYjHlpl09hZDHDgbFZQ9gdhhW2UAqJRd7w5DvsqnqjOi61MMYGRGUl0u594mQTMo+JYnEzb+v6/J9m0hkb06RYcjnS9eJIhPbJ8yNDAmBfCGKZHIEXQ9iMmVekbG3N8noqE4oZKajw47PF2fzZkFn5zbOn9/N2JiJeDxOa+v/4Iknqtm69e/HH6hodJjdu/+EZLKBaNTO6Ogb5OXt5pOf/M8sWvT715zHMOKEQs28/faf0d2tYbHkE436SaX24nL9HitWfAWLpeiW41VVxpsfzaQ1PZeEQrIxU16eclNL/FYkEoN4PAY+n4V4XKelJURtbTvLlsVpbHyD8+ffRFHMJBJJzp37Ap/73Oe5997PAPIFMTwcYufOr2OzFREKqQSDZ6is3EF1dSVO57XaV6lUiKGhXbz88peJxSyYzXlEo5cwm/dRWfltiou3ZkRddGhovFdMGOid8wHcmeiA0PW5aaQ1EZJJGB6W4Y2yMgXDUCgvV7Fa5eISi8lwtex7ooz3PkkjhJyPfr/UgtA0WTZ5s6aNQsg5FI+Lcc+k3S57a0xUfMtsln9nGPLc81EdNJmEkRH5G9Ky7ZMlbQicOycbpa1aJRvdWa3yesbjkEiI8VbvVuu7vRK6LteDWEzKkFut8h7fzKul6/K48fjEvj/bpFIyDJRKMYT0GE6YGxkaCWR8U/d4nsfvL6eo6P0zMc5p8ZGPfJvBQRttbS/yuc/9LvX1fw3Ahg1/zsaNX8VsLiAcbuHkyQf4+c/7qK0NsXKlbIymabBwocbDD/+QgoINHDz4j2zf/he8/PI3+OIXP3LNeWKxDlpb/5qjR3388R//HevW/Ro9Pa+zZ88XeeWVp6mr++MJGRoWC6xYoXLuXOqGnRbnA/G4fPFJN+zUDI2Skl/niSd6GRkZYXR0Ef/lv7w4/v89/vgXePzxP0XTiggE+njmmfs5c+YpystXjzdzGxqy8pWv/EeWLPksqmpnx47v8+abf8WBA+/n4YePXHOuUKiTPXs+CRh8/OM/ZeXKX+PUqV/w0kuf4dixT/Dww4dwu1dN/YJMg8u7lCSy8iTH7BMF4pGI7D68bFmmhyNDG2fPGpdlsAVDQwrLlkFDg0IqJV3no6OyQ2tdncKiRcrVHTNJJqGrSzZMi8UEFRUKK1aoN91ZpxeGS5cMhoZkn4x161QqKibeAbSoSHa/DYehu9ugoUGdt/1OpkM4LGhrk9cyFoNo1MDjUWhoUCktVWhpMejult7r0lKFRYtUamquvS/BoAxtNTcbWK1SznvBgpt3Fw4GBa2tgtZWA4sFli9XqaubmqE0E6SNTSEYQs6vCXMzQ2MQ0OPxTpLJ4ZkY46xhsZTS3/8UFy8+TUtLnJaWOG1txjVJUzZbNQ8++DJ5eXIHXF+/gJUr1/P2233vCmv4/T4OH95LXl6Cpqb/w/DwPxAMhujuNjh2TOfzn5/YuEwm6QlQVdlsJ5Waf11cR0YE4bCgpiaPFSsqb/0HU6C396c0Nj5Lc3OCxsYAeXkGkYjAbpduztWrHVRXfwyrtRJQqa8vYeVKlfPnDTZvvtZTFAgIdu7Uqa9XOXfuq3R1/TWDgwEiEcHBgzobN06vx8FUuXjRoLdXAASBDnKhk7mgB/DKXWF2XO68PIWFCxUGB2UHzgULVKqrFcxmhUhEXFaOlM9xf79BIKDw8MNX3BXt7QYLF6o0NKgYhqCx0SAY1Fm71nTDjp4tLQZdXbKL6113qXR3C06fNli+XGHx4olZC5om/83XPDOQ97+/37im0+1ksdkUKiqgslLF6zVoaJD372ojYdkyFSEUenrkWlFYaMZxWdonHAafT2CzKaxfr+L3w9mzBsGgwl13vXtQAwPSqBkbE2zYYMLvl5Lm4bDK+vVz3yo+kZhe9dYNk0GBViDZ2TnAyIiP8vIpH3/W2b79H2lr+wkuVw81NW5MJhPNzQaGceWiqKqG07kYVZUi8larhqbZ8fnEu2KesZhOT08QEMTjgwSDCroOlZUKW7aYJ9zR1mpVWL/exJkz0tUZDIoJx/SyhZERufOyWgvJz6+f0WOHw4288cbP6O9/ncrKUZYtW0gwqBIMGuP3xGQCm01F0wrH82IsFjMWC/T1vfveJRKCzk6DBQsUotEBYACzWe4E8vOVjHUj9ngMvF4B0oj3ZWYUdxxBIBaNCkZHs8PQsFplV9a0SmRFhex7kZbILiyUu0a7XXph0p1T00ZEUZHCggUKtbUy7KJpcPy4fLauVz+NRKQHxWyGVatUnE6FvDzBgQM6IyNQV3fjHirX43TKeeP3C/r7BYsWzcaVmV3SIYuKiqnnZ2iabHiWnw/RqMxZKyu7ErZatEhB0xRCIcHwMIyNQU+PMW7QKYq898uXKzidCuXlgkBAIRKB4eF39zcZHJTVUqtXm6iqUigrg9FReR+8XkFZ2dyuJYmEwO8fn0dtwKRquW5maHQDeltbBI8nwarMeJtvgYHXu4MjR17GYilj06ZPUFqaID//37Bah679ppEkGm3BYlmGqtoJh71Eoz1UV7+77bGmQVERDA7CwoUfp7r6ygKrqhYcjolWnsCyZfLBHhuTUrSFhdP+0XOKzyeIRsHhWEph4Qdm9Nidnc/T0vISTmc1a9b8AS6Xk/7+v6C9/UpkIZWSeSJXJ0eFQvJa1ta+OzZtMinjrt6Gho9QVLRs/HOnE5zOshn9DRNldBSCQeEDPEwyiSrHlBkGAokEhELZYWjI6i35n2azXFwsFvmcJxKCnh4531IpQTAoF8irPbOFhVJp0umUc6K+XuXoUZ1g8N0l9KOjckEKhwXNzfIzXZfNvoqKFGKxiRoa4HAoJBLS6MnWRMWbEY9DMCivV3Hx1PuMpDunatqVKrx0bk0iIef42JhBIiHzsVKpdGKu/HuLBfLzGU+qdziksTIwIL9fUXHFcIhE5L3zeAwcDhgYkJ+PjgqcTnncuTY0YjGZ53L593iYgRyNONLQSHV1GYyMZM+T5XCAokTp6WnB5dpGLNZBIBCkvLwWt7ueeHyIkRENXb9yE+TDEeLo0Z+yaNFdaJqTCxf2MDTk5aGH7kbTrl2t3O5CNmx4lLfe2k8yWY3FsgybLd1Vz4zJNLEn1WxWqa52o2lxvF5x2e00vzwaY2NyghUV1ZGfP/USUau1BputjFisn66uVyksLMPrPUoiMUJJyWpsthoCAW86o3kcmSAX59y5N6iszCeVgubmEwSDeTzyyKNYrdem7LvdNrZuXUU43I6uV+FwLMNkAkWxUlLSgMk01/LyAr//EGNjHqJRBsmpgs4lY4AvHhdxn4+sTmEMhQQtLQZDQ3JButmu++qSyvTCpyjSULk+BBwKCeJxuUBc7dGpqJDGykRDCHl5cgeeSknX+XwzNKJRaSApigxXzXSDvVhM6pc0NxsIwXio5HrkOqS867N0wu71x4zHxXjib/peuVzy3tntc7+OSENj/OaPMAM5GnGgCwj29gp9dDRhEiJ5y5LOuWDBghL6+02cPPkmqrqD1at/QX39eTo732T79lcoLbXQ2VmF1apisSgoioWCAic1NVF2736TgYEfoapxOjsdmM1r2br1k2iaFYvFgdNpwWYDt3sRd9/9Nxw9+gUOH/4uXV1xSkoUbDYL1dULcLs3TKinhtlsp6ZmMxbLTrze4NVup6xH1p3LUq7CQoXq6ullf+Xnb6am5gxdXf/M/v2fZ92691FZuRKbLUBr604sll8CFrzefGy21OVdg0Z+vpvKSvjVr/4PNTVjRCJxRkZclJU9yMqVX0fTCnA4FISwoml2CgpK+fVf/yO++91/48CBp+jo+MfLu8Zy7r//y5SVlaGqc7fmCKFz6dLf4PefBTk5++bs5DkAfOEw3sFBUZlMMqlqi9lEUa710o2OCpqaBKtXq+PVDIcP63R3X/vOSCblPyHkP78fQMHhkOGYq1N/bDYFl0t2DN20yTRuvBiGPP9Er0NBgWwElkhId/58MzRiMblYp0MX09EXSV83eQ3kxjEYFFy4YJBMCh5+WObKXLxo0NR0bVzXMKSnKp2rp+syb8NkerdxIo1NhcpKePRRM3l5XO48O7l7N5NIT834b+pAhiYnzM1SSnTgzMiIKB0d9RTF433YbJnv3f3gg79PdbXg/Pn/BShYrdV8+tN/zIULKQYHt1FVVcOHP/wce/b8PvX1KjZbPYsXr+ejH73EypU/49SpP2F4+DyPPbaFlSu/REHBZkChrm4DNlsrhYUqqmqjoGAFX/rSD2hp+RN6ew8Tj0NBQR319f8bs/nWFScAVms1K1f+HJvtXtrazmaVZ+hW6Dp0dBhEo7B4scygng6aVsr73vcY9fWddHa+haJATc0X+fSnl9Ha+kP8/k7q6lbwoQ99np6eb1FdrWK1VnP33e9j40YrhYWPcfr0d4hELnD//U+wYsVfYrPVAbB+vUo8voTKyhVoWjHV1Z/la19byMWLX2dw8DgmE1RVuSgsfBSTyTkTl2fCCCE4d66XsbEwSEOjf04HkGMIGEgmRWV/v7iceJnZAcnSVbmLTecY6fq1yZYez43zSjweWXFSUCDzxo4f17FYZEj2ei9ITY1CR4d0zXd0GCxfLudwLCYXt4nmKmgauN0yTDkwMP8MDZkzITCZoL5euanHYaJomoKuX8kPu14MLBwWlz3Y1/5d+HLjAa9XUFqq4PfLfLLiYpmrc/X9d7lkWGVsTHDmjMF996lYLDIMJMtcp/cbpkIkAh7P+P/sYAZyNAAMZMLHJo/nxaK+PicNDX895UHOFJpWyMKFn6Ki4gnMZgWrdQFWazVr1nydFSu+hqZZsFrr2LLlBWy2UkwmG9XVX6C8/BPYbHXcffdPSaViaJobq7WEdCijqurzlJV9dLyVt6KYsNnqWL78KRoaIhgGmM1WbLZyTKbJZBSqrF2rMjAg44SJxMTioplG16G9XRCNCiorVaqqpm9Cu1zrWLHiL2lo+G9YrS4slnLKyn6HgoLH0PUEFosVs7mYvLx70LRiFEXD6VwBqJhMLh544F4MI4am5WOzXclOXrz47xAiidksE2AUxUR+/v2sW/eDcTXO9HOhqnN78YWQmf+Xs7VzhsbcMwwMSnlug/JyU8YNDYdDlpju32/Q2Zli40YTtbUKS5cqnDold8KlpTK0cX3yeHGxwuio4MUXU8TjAodDYcMGE9XVyrtCJ2YzrFmj0tpqcPKkzsGD8gu1tSorV6qT0sVxu6UxEwxKL2dJSeYNtokSCMjEcUVRqKy8sarqRLFYZElqT4/B3r06PT2CpUtVVqxQOXxYZ9u2FIWFMrRxfWlrWZkMP504YTB8Rr6FAAAgAElEQVQwYKCqMql32TKZqD48fK0F19Cgommy5PmnP9VRFJmYu2aNvH9zTSgk6O42Ukjj3Y8s1Z8w72VonAcCPT2jtLcP0dAwvYHOBIpixmotuWwkpLHguM5MdbsXX/l/LeVYLHJhcjpv/CM0rQxNuzZRUFUt2Gz1065UuOsuE8eOyRdEf79g4cIs8N3egqs9GlVV91FdvWnaxzSZZBv3q6+nphWhadd6iMzm/Kv+xjX+312ufG5E2rNx7blcOByuG3x7bhECzp7V8XpFHKlNkwudzC19QFc8Dh0dgtWrxbQWmplA02SJ5AMPyB1qaalMXl6zRqWyUi42Doc0NFRVhi4UBR56yITdLv97ZaXcUdtsCuXlsipE1+WO3e02Y7XK7xUWKixfrlJWdmXH7HYrNyyFfS/cbplk7fUKuroM8vIyb7BNFL9fMDAgcLvB5eJdCeSTQVWl0XXPPSbCYalLUlgoK1E0zUQyKb0NaRGvtNhZTY30UEg5fFi48IohmZ8vvUUFBQr/4T+Yqaq6IspVV6fidF7xhmiaNDbnGlmaC4kECeASMj9jUr6t9wydAL7WVoOmJp3HH5/eYO9U1qwpoKTEyshInN5eg4ULp/GkzwFphcKODulurKzcRHHx5kwPa96RTI4yOPgSXV0+olG6kXlPuc6tc0sP0B6PS9GjZDLzc09RZLXJ9eHI4mLlPReR+vor3y8vf/f3zGZZ/lpUdG0ifGHhxKWyb0Z+vjRoLlyQolVLlkhvSrYTCskwRiolqKmR4Yfp5jeoarpfydUHUmhouPmBrxZdS3//emw2xsNbaWSlXObV0Xw+wdCQAFmReoZJJoLCzdvEG8g4zEBPjxFtaQmSSAxMeaB3MsuXP0Zp6QJ8PpEWbcpqZHMmWcNfXa1QXV2HzbYg08Oad0QiHk6c+BZ+v5dUigvISq4cc4sX6E0k8PX2CiIRbtorJMfNKSyEqiopEtbefq0YYjYzPCzzM+x2mWdmNme/cZSNjIxIbzzSwDjODBoaAlkn2xQM0j8w0IHH8/aUB3onU1PzZWpq7iaRkG7HeDzTI3pvIhFBW5uBrovL8ePMW9TzkWAwyTvv9BIOp0C6G3Nhk8wwous0BQJy0cn2+ZeN5OUpVFZK3YjOTqnNMR8MtqEhmTxrs8mw0nwJ92QTQsgk5J4ew0C2TzjBDBoaac4A3UND5zl16kdTGGYOgLVrVRoaTHi9XFYtzfSIbk4oJCWzUympKFhZmdsFTIVAQPDOOykiEQFwDukhzDH3jAJNhiHn3nRklO9knE6ZMxAICAYHZRVCttPXJ+jru9qjkekRzT8SiXGDLYYMRV5ESmBMigkZGpcu6WzbNk/8ZVnI2rUqS5cqBAJS2CVb28anlQMvXDCw22HVqu9QXv5bmR7WvCMcPk939w/p6REimeQoMj8jt5fODAPAcSGgq8vIGpXQ+YbbLSskFAWamnRGRrJ4t4RUzxwaEiSTgvJymatyJzaDmy7d3bIh3+VGakeZYp+mW136fqDD5xOjFy6M4PH8hFRqUuWzOYAlS/6AhobfIpGQi3i2ejR8PkFXlyASEWzZYqK6egmaVprpYc07eno62LXrLeJxDCE4jJTszdK7ftszBlwQgpFLl4Q+NvZuFc0ctyYvTxoaqipLtkdHMz2i96anRzAyIjVHli6dP1Uy2UZ3tww/IT2DZ5glQyMGNCaTnPd4Rti164dEo/6pnOeOJj//fhoa1lFVpTIwIOjpyc5cjaEhKYWsaWY+9KFVlJZmvkR0vqHrQTo6etm1q0sg588hZO15jswQBwaF4MzYmIh3d0tJ6hyTw2qVjSUrKxW8XpkgmM1JoS0tBsPDUvNjyZJc+HcqpFLQ2WkwNCRSSM/gyakeayLOpHPA0bGxSOqll47j840gxKS0OnIAS5bkc++9pYTDsuNiOJxdL7tUSkoMS7U6Bw888FEKCioyPax5h99/ntbWozQ1GXFkb5OzSIGbHJnDB7wFRFpajHQGfY5JoKoyT2PVKhk+6ekZL3nMKoSQnVpbWw1CISmUdb14Vo5bI4QMo/f1CQIB4QWakV3dp8REDI0u4FwoJMb27EnS33+CRCLL/WZZyLJly9my5SEUBU6dMm7Yoj6T+P2y/DYahfXrndTWfhartTrTw5p3tLW9xdmzzxOJEATeQSqC5jq2ZhYfsA0YbW83jL6+7M2TymY0TWHVKhWHAy5dMmhvN7JOklzXpRE0OAh5eVIJ1enMGRqTRQipSurzCYAmZH7GlJmIoREDOnSdY35/ij17vobHc2I657wjyc/fzLJlv8fatSpdXQZtbSKrMuDPnze4cMGgqkrhE5/Qpq2Ieqeyb1+Kt95KgdRw+BmT7AmQY1ZIIMuLT3m9YqyrSzA4mD1zb75gscDq1bJx2MCAQXe3uKZHRzaQSMDBgzo+n2DBAnVeKDFnI0LA3r16Oj/jLLBvOsebaB5uC/BSKgUvvhikszMXOpksimKmqsrKBz9oQlWltXi9vn2mCAYFFy9KDf7a2g1s3foSFktBpoc172hr++9cuPAcw8PCC5wGGpGLXI7MkwJ2CsFgb6/UiskxOVRVdhpdtUolL09hcFBqA2ULhiGbmp07p5NICBYtUli4MFdqMlnicWhvN/B4BPE47cAFpGd2ykz0LowBJ4Xg0MWLRvTUqX9jcHD7dM57R1JauppHH/0rystttLQY9PZmh4DQuXMGXV2CqiqVLVsKKShYh6Lk0rQny969Fzl3ro9kkg7gdaToXfa8ie9sdGAH0NnbK5LNzdmXJzUfUFXZMbmsTKGry+D06ex5vINBwdmzBiMjgoULVWpr1ZxndgqEQoJ9+3SCQRCCU0hHw7S8CxM1NJJAL/BsOExg586dnD17ejrnvSNxOGpYsuQjfOADNnRdejV6ejI3UdOJUydPysm5evVSHnvskYyNZ74iRJKBgZ+wZ087bW3CjywD25PpceW4BoFMzj0VDIr+jg5BS0vO0JgKMiShoutSBK2/P/P5ZoYhK2EOHNCJxXJig1MlHoeBAcHx4wbxuAgBB5EiXdNiMn4lP/AK0HHwoB47eLCVkZHG6Z7/jsPttvPpTz9KbW0+LS0G58/LLqmZIJWSXVpbWw2cTtiw4V7WrPlYZgYzj0mlEuzY8TecPNnE6KhoQZa09mR6XDluyG7gjMcj9MOHdRIJsi6hMdux22HpUlnqOjAgOHpUJ5XhdOdwWMqjNzcbuN0KS5ao1zSYyzExxsYEjY0GHo8wUinOI5NA+6d73MkYGklkLe0bXi99+/b9lF27voEQuYT6yWC1lnH//c+zZs1yolEp950Jr4YQ0kW2c6d0kW3Zks9DD9VhtdbM+VjmM4aRxO8f5Hvfi9HWZiSBw+S8GdnMIeCYzyf8jY0Gg4Mi44vkfGThQpUFC6Qk+f79Rkb7nwgBPT0Gp07JKpi775beDIslM+OZrxgG9PYKjhzRBXK9fw7pBZw2k82UMYCfA+3Hj+v88pdeotG2mRjHHcfnPqdx990qnZ2CY8fmfobGYlL17fhxA4cDtmz5DOvWfXzOxzHf8XrPs23bVtra+onFuAQcA9ozPa4cNyWKvEf7g0HYvj1FMJhzaUyWsjKF5culRsXIiODECSNj1zGZhI4OwdmzOlarwqOPmnLejCkwMiJobTXo6RHpVIntzIA3AyZvaIjLA3g9HObMyZPHef75v2SKqqR3NHfd9R3uu+9J3G5ZWnr8uDGnO6uhIenNiEYFv/VbZu65ZxF2e93cDeA2IJXy09nZyj//8xA+n44QPAfsRyYe5shOBHAK2BWNisiRIwY9PdmtcpmNqCosXqyyaZOJSETw5pspBgZERvRJWlsNWloMbDaFhx5SqarKeTOmwqVLMpRvGIwCP0JWmszILtg0hb/RgaAQVEWjseXB4KjlwQfjOJ3LMZmcMzGmOwKLpRyHI8zgYD/Hjg0QjcKaNSasVlBm2RgfHpY7kEOHdGprVb7whS+zbt1vYLOVz+6JbzOamw/x859/l9dfb08lk+wGnkGK2+QMjewmBiAEpbEYKy0WqKxUKSjI7YIng8WiIJvVSQXJ0lKFkhIFl2vurmMkAnv26Jw8aVBcrPDhD2uUl+caqE2Wvj7BwYM658+LQCLBceDbyNYJM/Ium4qhATIx1BGPUxsIxBc4HBdZuvRRnM6yXFnkJCguziMW89DUdIz2dkFZmUJxsYLVOnsTNZGAxkaDPXt0/H4rf/iH9/Pkk1+jpGT5rJ3zdsTvP8SOHT/g6adf0z0eMQZ8F5mhnZMbz34EMoQSA7YGg1hLShS1pETBZssZGxNFVcFsBkVRuHjRIByGkhKFsrK5a8l+5ozB/v06oRCsX29iy5ZcA7XJkkrBvn06x44ZDA+LVuAF4E1mcMM0VUNDB4KANR437m5sDNnXr6+hsnIhNlvRTI3ttkfTirDbo+h6K0eODDI4aFBTI3dWszVZenoMDhwwuHBBsHp1MX/1V/83FRVrUFX77JzwNsQwohw79l1eeOFH7N6tB5Cqef8CDJLTzZgvRJGqrQ2RCAuEwFZUpFJRocy6R/F2wmqVm6MLF6R4l8UiDY3ZzpEwDFkh8corOl1dgqVLVbZuNVFRkbt5k8EwZK7em2/qtLcLvxDsAn6I7NY6Y0zV0AC5c0sZBgtDIRbHYgfVJUtWUV29DFXVZmp8tz3FxcvJy1vCiRMv0tiYwmSC0lKVwsKZf+Elk/DGGykOHzZYsMDKn/7pUjZt+ks0LW9mT3Sb4/We51/+5U2ee65JTya5CPxfwCWmKWqTY85JINVbHx8dFcUFBYra0KBitWZ6WPMHRQGzWUHTZAilp0dgs8GyZSqm6awutyAcht27DQ4f1nG54MEHTWzaNIsnvA1J6yg9/3yKixeFEYtxENk2YVpy4zdiunfGB3QD7+vqMhwlJYdNtbVWSkrun4Gh3Tk4nRHq6/t59dU2enuTFBTIGnW7fWYtjf37dQ4eNDCZ4Nd+bSv/6T+9iMWSj5Lbwk2Kv/u7L/Hyy9vxeFItyCqsX5AzMuYjOlL12C4EC4JBUWIYsGJFLsA/GUwmqKpS6e8X9PcLwmGptVFXNzvXMZGAvj6DZ59N4fUKHn7YzObNpjnNDbkdiERkIcL27Tp+vxgBfgq8hPT2zSjTNTRSQBjwplJsHBqKul0uwbJl+Tgcy2ZgeHcGZrOTgoI6FOVVWlqiDA4KrFaF2tqZ2RUkEtDaKnj11RSDgwbvf/9GPv/5T1Jb+0DOyJgE8XiAt976HD/+8a9obg6MJJO8hgyZjGV6bDmmjIHcLDXEYixMpbAXFiqUleVCKBNFejUgL09heFj2kYlEFJYuVbHbZ/46dncbvPRSivZ2wdq1Kg8+aGLBgtn1oNxuJBKyn8lzzyXxeASGwY+RRkYXs1BGOhO3JonsjFgTDFIZjYbcLpfKihV3YzK5gNxsvRWqqmG1llBdXUZ7ezPt7V58PoHDATU109sVSOtfGhkXLwoefNDEJz7xATZt+hRmc65x2kQJhdo5ffrrfOc7L3HypD8eCvEWcgdwJtNjyzFtAoAwDKqjURaHw7B0qYrVmqtemAwul0IqBcPD8p2TTEJ9vYrFMnOVdP39gsOHDQ4fNsjLU3jySTPLl6s4HLl1ZjJ0dBjs2KFz9qyhp1IcBZ4GTnK5ImummQlDw0BOVL+uU+b3Ryr8/pCjqMhKQ8NGVDVnZk4EVdUoKVmPqo7Q399HW9sYfr+sRMnLm9oLzzDA45H6/3v26CxZovLZzz7KY499nPz8+2b+R9ymJBIDtLS8ztNP/w2vvhojGOQospR1F7nurLcLo4A1kaDO56PMZmM8fJnzbEwMsxmcToVkUiYYdnYKCgtlsuhMVPOMjQlOnNDZv18nEoHHHpN5GYWFuRs0GQYHBYcOGezbp6eiUTzAPyKl+Wc0AfRqZtIK6AJELEbF4OBoTXf3BfOmTXfjdpdgNufUUyZKff0iUqlR2traaW6OEArJJkZ2++SMDcOA0VGpl7Fzp47NpvD5z6/nySf/O9XVT87eD7jNSCZHaG//Ja+88lO+970uPRKhCxkueYdZnJg55pwo4AWUVIq7urqEvapKUQoLcyWvk8HlkmJZoZB0zff3C8rLFQoLFSyWqV/HREKWsu7dK7ter1ih8rGPaeTl5QzByRAOS72Mfft0MTTECFL98x+Qmhmzxky7G7oASyLBstHRYPHo6M+VNWveR2FhVc6zMUHM5nwaGgqBIPv3N9LWlsLtlkI4DsfEJ1VayOaNN3R0XeVjHyvkj/7o31mwIJeoO1GEMOjvf4lnnnmKb33rkAiF8AF/DWxD9v3JcXvhBfxCUB6Ps7yzU6hVVYpSVaXmQiiTIC9PIT9foa1Nqq76/TCd0mHZy0SqjzY1GTQ0qHz84+acMNck0XU4e1awe7fOpUsiAhwB/pwZVAC9GTO9+qeQTVhGUinuv3RJOP3+d5S6uoVUVq6c4VPdvmhaCdXVNqqrPeze3c7FiwKLBYqKFNzuic3Ut99OsWuXbJm8aVM93/72LsrKFuUMvkkQi7Xzve/9mB/96FcMD+sjwKtIb8YQOd3925UxZFvsB2MxCqNRzE6nQlVVbts8UVSVyx1UTZw6ZTAwIDCZoLhYmbS+hq6Dzyd4+ukkFy4YLFmi8sEPmli50pRL/pwEqZRs4PmLX6RoaTEwDHYA/w/QwhwoGc/GrYoDPiEIJJNsHBgIWUOhS0phoUZd3fpZON3th6KYcTiKKS0toKzsOPv3B8c7vBYUyN3CzRACdu/W2bvXIBKBrVvX8pWvfIUlSx7EZMpJ5k0EIVLEYp380z/9DS+++A4dHf6eVIpXgO8gKxRyEuO3LzoQApqFoD4UojgYFFZNm35i9p2EyQQOhwyZ9PcLurtl2Wth4cSNjXT494UXUjQ2CkpKFB54wMQ995hmvPT/diZdEPDiiyna2gxiMXYje5nsQ67Xs85sGBpped8BIBEKsWBoaMgdjXrUwkI1Z2xMEFW143SWUlNTRDh8lObmCL29smlRUZFMEL0aw5CW/549Ul48HBZs3Xovn/nMZ9i8+cOYzU5yFUC3JpHw0Nv7Ok8//ROee+4tLl3ydEWjvAr8GDhNTvnzTiCFbB4pEglqAwHKw2FhstmUnLt+gigKl70YMuzU3y/o6hJEItKz4XIp7+mR0HW5OO7YIbV/iorgoYekkVFSknuPTZR4XFaYvPWWzpkzBtEou4GfADuQocI5YbacTzqyEqUFcAcClA8N9RdEIl1qZWUxRUVFmEw2FCU3Y98Lk8mJ272S2lofgUAvHR0B+voEqZQ0NhwO+dIzDNko7cgR43Lba3j44Q186lOfYuvW38JiKSVnZNyaRGKA1tZ3eO65p3jqqbfp7Az2xmK8hlTLO5Lp8eWYU3TkZklLJCjz+yn1+4VaWCiNfC0nfnxLFAWsVvmuSiaht1caG4mENDaczhu3WtB1+d0DB3T27dOxWmHLFhObN5uorMy9xyZKPA5tbQZ79+rs3aunEgkuCMFTzGD794kym1GudNlrM5AXCFDZ1zfkHBvbYy4vr6SwsByLxZkzNm6BqmqUlz9GbW0vhuGltTXBhQtxDEO6ITVNwecTHDtm8MYb0sjYsqWBL37xz9iy5TewWMoy/RPmBbFYF62tr/Pyy8/wzW8eMkZHDa+u8wqyvvxopseXIyOEgHbASCSoHx0VRWNjQk2XnOeMjYnhcMjrle70evGigdks31/XezZSKRgaEuzZI40MTZNGxuOP5zwZkyEeh85Og927dXbv1hPJJD3AvwKvMMdGBsyuoZHGj0yuioZCLGpsjBQdP75dWbduCeXl1ZjNOWNjIlRUvJ/166ux2wfYu7eLs2d1vF7QNGW8hDUeV1i/3snf//13WbfuA2hacaaHPS/Q9TjNzX/BU099k3/6py4RChFETsi/RfbCyHHnEgLaAK+u8+DgoLD5fEIpKVEoLc2FUSZKfr68XmYzXLhg0NIiMJulZyM/X1ajCCFzMrZtS3HggIHFIsMlv/u75lxOxiQwDGlkvPJKikOHDCOZpBup+/P/kaGS/LnK240ArUCPENw1NiYKTp48rjoczdTVOXA4ls7RMOY3VmsttbXlLFo0wsmTHfT0GJw9a3DpkqCoSOHjH1/Bt771K2pr78JsduXkxSfIa699km9+801efz1KOEyHEHwX2fa9j1xORg6ZMDeAbJy3eWxM2EdGhKqqssdHrvphYtjt0tjIy5MJoh0dBmNj0uNRXCw/+/73k5w9a1BQoLBli4kPftCU0zGZBIkEnDplXG6UZpBMcgj4FlLFOEiGquXmaooYXEkQbdJ1Cvz+cNnFi4M2j+cchYV9VFVtnaOhzF9U1YLDUYrd7qa7+1VaWgSBgJT6Xb3ayec+t5a77voCJpMlZ2TcAl0PMzR0mqee+q/8+Me/4vhxX9zvF4eE4N+QTdJ6yVWX5JCkE9wHgUu6TmkoJIpHRrBGIoLqailGlZty742qgs0m+8iUlysMDMhqlIEBmbuxb59OS4tBSYk0Mh56yDTr7eZvJ0ZHZcjp7bd1uroMYjF+BfwAmZMxQgZL8ufSFhdIz0Y34EmlUIaHoyV9fYP5o6Pd6HqI6upKNM2JouTKMG9EPN5DU9MBtm37JUePnqG/34inUnQASbNZdZnN4HAMU1KyCk1zZnq4WUsweJwTJ37G97+/jZdeepXGxvBIKMQOZCfW7UAPOZ2MHNdiIN9fncBYMokzEBClXq9whEJSEdPhuHFyY44rqKr0YJSUqGiawsiIoLNTam309goWLFDZskVWl1RU5IyMiaDr0NkpDbUDB3TR2SniySRvIL0Yv0IayBklE06/FDLm6QF0v1/YOzr8ru7uY1Yw43IN4HQ6cvkF1zEwsJcjR17jhRee52c/ey154YIxlErxDvAmMDA2lnJeuDBa4PcfNkExTmcMh8OC2ZyX6aFnDamUn66uI+zb9wzPPfcMzzxzItnfb7SlUrzNlUk5q1K8OeY1AhlGaQOCuo4WCFDY3W3kJ5PK5V4f5Fz9tyDt+QkGoafHGG8tLwTU1SmsW6dSUzM9yfI7hVBI0NIi2LtX5+BBI9nfL4aEYAcy8XMPMJzhIQKZMTTS9AHngNF4nJLu7kT+nj0HbZq2XXE6HdjtC7BazaiqNYNDzCyGESUS6aC3t5/t2/+Cp576qfHaa51hr5dO4G2kstt2ZMJiOBaj8tw53X369E6zydSiuN1m7PYSrFb7He0l0vU4weBFLl06ycsv/y3f//7rYvv2cDiVogVpYDyF1MgIZ3akOeYJKWQ1XReyEVtVW5th9/uFarMpSl6egtn83joRdyq6DsGgbLj2zjspLlwwErEYI0gvYtLrFXbDUFSbLd03JReSuh4h5HX0+wVNTQavvaZz7JgRDYXognHFz7Nk0fss01MhjKxIOQnYEglWHDhgWA4ePKQkEqdYubIch2Px5XyDO+lpEwghCAbPcuLE7/OVr3yTH/+4QzQ3G9FUiiPA3yErInxIl+4Y8hoeAFaPjVG6a1efpbFxh2K3N7J48Xo0rfhydc+ddB0NDMMgEGhmx47NfOlLP+cXv+gWvb0iChwC/hfwLDITO5f0mWOyDADHkeHgjR6PcLa0CFMoJKisVHG7c4vk1QghRQV37zZ49tkUbW3CiMfpROYRfBUY1XXWdXcLZ0eHUFIp2WZe02auzfztgK7DyIjgjTdSvPyyTk+PMAyD08D3kImfHrIsvywbbp8CWIBS4AHg0xYL9+XnO4qWLi3iox+t4Ld/+xuUlm7AZHJndqRzRCh0iuPHX+TFF3/BG2/0MjqaIBoVzYbBz5Bllx1IjZKrSV/HcuAR4A/tdjaWlDitK1aU8dnPunn/+5+loGD53P6YDDI09BwHDvyQ55/v4sCBdkZGBIkEe4XgRWT31V6yyOrPMS8xAXnAKuBPTCbeZ7cr5TU1Cg8/bOLee03k5XHHl8FGItDYaLBzZ4qWFkEoJNB1/h3pUTyAlEFwAxuBz5nNPOJyKSV1dQpPPGFi7VoTDkcmf0F24PUKTp82eOcdnYEBQTgswobB88j8shPI65h1m6ZMezTSpPsLDADndJ2+SCSpjYwEKtrahs3Hj7fg8+3E6YyQn1+FyXT7JToaRgK//wDbt3+X73//WZ59dh9Hj3Yle3tTA8kkPxGCp4FfIo2MyE0OoyMftAHgQirFYCiUdAwO+qouXhzh1KmLRKNvkZ+fJD9/9Rz9srlFCJ3e3m+zbdsP+OEPX+Gll85w6tRw3OMRzbrOs8gX226kq3ZOdP5z3Nak8zZGgBYhGEoksAYConxwUJi7umRVmNMpk0XvNBIJOHtWGhh79xp0dIhoMCiahOBfgeeAY0gp7HRl4hBw0TAYiMdx+v2itq8PPB6BEOBw3Jk5MKGQ4PBhgx07dI4c0entFbFolNNC8B3g35FpCH6yNIk9W+/YAqRluxm4x2pl7erVqnvDhnvUNWvuZfXqhWzc+BAOxwpU1ZbhoU6PWKyD/v4jnD59gaNHG/n/2bvzKKuu+8D3398+d6p5okZqBgFVzBQzCKF5sCYLDbYsK7Y8vDhOsjr93C+xk+443eu9dCfd/VZW3kvS6Re3k+54ki3HkyRbloQsEAKEECAQYqyiqImap3tv3XvP3u+PXSUQKqFCFNTA/qx1V0HV5dapTd1zfmfv3++39+3byaFD3clz50wrdlr2JWzEf4LLu/sOArXAOkbHMSeHuqVLvbTVqzewcuUtrFiRzfz5DxKJlCISmuwf7ZoaGjpEY+NP2bcvxf79P2DPnjMcOzYS7+kxZ4DXseP4BrZqwM1iOFdLNfbcdaMIWyMRFlVXq9CCBYq6OmH+fEVe3nQ97U4OrWFoyO6xceKE5t13NadOmVRvr2nEbuQ1dk5r5cOD/WpgM3AHsDkvT+ZWV0uork5RX6+orlakpV2TH2fKpFIwMGA4cUJz4oTh8GFNc1S5Eg4AACAASURBVLOJDw+b08DLwI7Rj51Ms6WSi03n3/gAdhlgC3ALsCQcpra0VArWrCn0br/9k9xww3rKyjIoLq4jO3tmLAkYo/H9AXp69tHa2s/Jk4c4cOBZXn31gHntNT+WTNKODSr2Ai9if5GuRBiYi33DbgHqMzKonDdP5d18cwGrV/8ONTW1VFWVM2dOLeFw+RV+u2tFMzLSQkfHMVpa+jlxYgdvvvl3vPSSz7FjOjYywhngHeweJS9ix9NxroUAUA48ANwJLMrIoLi2VqWvWqWYN0+Rn293MQ3Polz3sQTF9nab7HnokM/hw5pYjCatOYa9MP4cm082EenADdhx3AgsnjNHiurqVGjpUkVFhe3JkZk5u8qKk0no7TXvNTXbv19z4oROjYzQjE38fwW7hH6CaTqDcbHpHGiMESADuA24H3uHXiRCzqZNXmDzZk82b/7fWLToS2RmChkZkJZWM62qVYxJkkj0EI32MjycoKPjBAcO/Bkvv3yMnTt9v7HRRLEJnSexv0TPYqfC4pN8KEXAXdhxbFCKrIwMcjZu9Ly7714la9Y8SmnpnWRkKLKysgiF5qDU9Jnp0DrGyEgvw8MD9PcnaW9/gV27vs0LLxxj3z6d7OkxQ9jpwybgp8AvsNUBjjMVPGAJ8BA2b+qGcJjcykoVWbpUsXy5orTULqlEIjMz4dEYuzwSjRoGBmwexp49Pu++q1OJBIPY89oPsU3wDvDxz2lrgU8DNwEV4TA5S5eq4OrVHrW1ivx823k0MkMnuLW2+5PEYoauLsOhQ5o9e7Q5cUInsee0VuBnwI+wFXIzykz61RYgDajHvnEfF6EMCKalCQsWeNx5Z4A77/RYvXoHmZnTJwchHm/k+PH/h9df/3tefdXn6adTJBI2X8cYOrFT+2OJnnGubpQqQA6wFPgk8IQIeUAgJ8dOS951Vyb3338/8+f/4bRqDz8w8DpHj/4DL774fZ55Jsnhw5qRkffGsRlb6vsd7OxFlBkS7TuzngDzgHuBJ4AGEcjOFpYuVWze7LF0qZqRF8lYDM6cMbzySooDBzTd3TYnBVv58GNsJcRxbP7Flbwfx65Vy4BPYcdxrghSVmbHce1aj+XLZ2bW7fAwHDqk2bvX5+BBTW+vwRiS2IqmsdyyM8zQvLKZFGgAKOxSQA6QB6wAtijFxlCIG7KyJC0rS0hPn8fy5emsXu1RX59BTc0Samv/8prNcgwM7ObEib/g7bdbOHDAZ//+OC0tXUSj3QwP4/f3m3PGsBe7XjmWN9DHtUvm8YAINls+D9gKbAwEWGvH0SM7O5u8vEKWL08bHccCKitvobT0y9ekCVgy2UNf33ZOnPhL3nrL7uly5MgQbW3dDA310d9vTDzOWHOa32BngJqxd1AxpmHmtXNdC2Hfb3OBNcC9SrExLU0K09MhN1dYsEBYssRj4UK70dh0NTBgW4a/847Nv2hvtw23YjET9X1eN4ZfYm+eTmJLxxNM3vsxAuRyfjn4E8EgSyIRycnIsJu0LVigWLVKUVWlyJjGdQPd3Tb/4sgRzalThs5OQzRqiMfp8X12Y2+cdmB7TvUCSWbozdP0/W2emAKgDCgBaoDl2DKz2jlzpKiwUML5+UGys/PJydnE3LkByssVxcVCSUmEqqp8+yIF95KevmTCF9BEooO+vlcYGHidoaE+WloM3d2GlhbN2bOGjo52+vvfpKdnmK4uTVeXGYzFaMQ2UdmPfQO2Y6fDOrEXxqk0NoZzgfnYMVwcCDCvoEDyioslkJcXITu7nDlzFjN3boTycqG4WFFYGKK01HZxLS5+gvT0+gl/076+3zA4+AbRaAu9vT309MCJE5r2dk1nZ5yurhb6+9+kq8tOJ/b3m55YjFPYdcoj2HE8jR3HXmZotO9cVwLY81Y1sBCbOLrG81iYmyt5+flCXp5QXAwVFTYPobj4g9upX0vRqN26vblZc+aMoaPD0NNj6O019PWZ4Xic49jSytexfZGasTMak730e6GxPJhqbB5HgwhrAwEW5eZKpLBQpLDQ5nCUlQkVFfa8H4lMXanxwIAZvT7YQK2z0143enoMg4NmOJHgMHYc93K+Idw5bIAxo830QONC2dgqi1rsL2AVUIFNKC0ACgoLpaC4WIL5+UJBQYiSkhwAcnJuJC2t9r2yWaVgzhwhLU0YGbFrj9Ho+UAymexhaOhNhoYOEYsNcu6cTYLq7DR0dpr+/n7TgY3ku7Glpi3YX5oTwDFscDEdI9MAdrZoHufHsWz0USpCaSRCQUGBZBcVSaCgQJGXF6CgIBeAgoK7iURq3veCc+cqQiFbntXfb0gkzn9taGg/w8NHiMc7GRgYYGDAtiTu7jYMDJjB4WHaOT+GraOPJuAUNsCY9tnWjnMJGdj3Wj32YrkMe96qzsoir6REBYqK7M6meXl2q/WsLCE7G/Ly7J8ns5lVPA7Dw4ZYzF4Ue3vtpo19ffbuu73dPgYGTI/vcxob6J/CJl2PPYYm52guy9g5a8nox6VATTjM3KwsyZ0zR4LFxWPjKOTn27HMzBTS0uxYTmYQNzZ+0ahhaMj2vrDjaQO27m5NezsMD5sW36cRO6M9No5HsdeJwck7oqk3mwKNixViZzlqsHfqY4852GzmEPaNDvYXNTj2Dz0PqayUzIwMCcViJtnVZeL9/SR4v+jow8feTaewZZMt2ItgC/bCeBwblV7N6P5qGrv7mo99E5ePfi4P22AnMvoIYMczeOE/XrhQ5UUieH19JtnRYeLx+PtmHXzsbE6c8x1O45yvpz+Fbap1AjuOY9OHjjPbpGEDjaWjj2rsOWwOkJuRIXl5eQQKCuxW6yUl9sIZCgnp6RAM2hukUAiCwY/uSJpKwciIwfdttcjICO8FFQMD5r3AorNTJ4aHGfR9erHLu2NJ6/tHH8dHPz9dhLAFA8uwM0Y12BulXCAvJ4es4mIJFBcrcnOFrCwoLbXjaMcOPM/2PZmIVOr8TWg8fr4ktbPTMDhoZyva2gxdXSYWizEA741jH3aGe+xxgqmf2b5qZnOg8WFqsQFHAVA5+rk67EVzjDf6vGxs8NCB/QW50FlsIBHF5gcMYacML+7YOVtVYgOPYmw1S8bo5y5u37oMexIdxI5j9wVfi41+7hx2HfcgdkmpA9frwrm+zcHOdKzDBh7LsDdEIWwwH8Dmq3lFRRLIyREvGLR36jk5H708EI3aWYp43FY6dHebRCxGChv8J0YfSex78zj2vXlo9NE++vWZoBxbsTIWwM3HBh1h7Dh6QCgYJJCfL4HsbFHhsN3cbSKGh6G11QYaHR1aDw+T8n2S2BvPFHY5N4G98TyKHce3Rz/2jT5n1rseAw256AHjj8PY18eWOC5e6rjw8xc+rhcTHccLT3njjdH1Po6OM56x95W64GMF9i69dvTPDUCuCFXYG6fLWkYx5n1/PoK9eerALu++O/rxDPYmymBnHWfa+/PCMRz7cy02cJuHne1YAJSPVjHmwMcbR2MYgveWQtqw4/kGNsDo5HxF4UwcxytyPQYajuM4M1EIu0wZHv1zOvaOPIyd4cjCXjQnIoa9+HVe8PcE9g47fsFjMitGposwdpY1gp3VGPsYGv1aLjZXZiKGsTPZUezYJbCzGMnRP0ex4zhjK0Ymgws0HMdxZocQkD/B5yaxwcWH7Zt0vbqwhcJEJLHL5S53zHEcx3Ecx3Ecx3Ecx3Ecx3Ecx3Ecx3Ecx3Ecx3Ecx3Ecx3Ecx3Ecx3Ecx3Ecx3Ecx3Ecx3Ecx3Ecx3Ecx3Ecx3Ecx3Ecx3Ecx3Ecx3Ecx3Ecx3Ecx3Ecx3Ecx3Ecx3Ecx3Ecx3Ecx3Ecx3Ecx3Ecx3Ecx3Ecx3Ecx3Ecx3Ecx3Ecx3Ecx3Ecx3Ecx3Ecx3Ecx3Ecx3Ecx3Ecx3Ecx3Ecx3Ecx3Ecx3Ecx3Ecx3Ecx3Ecx3Ecx3Ecx3Ecx3Ecx3Ecx3Ecx3Ecx3Ecx3Ecx3Ecx3Ecx3Ecx3Ecx3Ecx3Ecx3Ecx3Ecx3EcZ7aTqT4A59rZupXIyAgSDpPcvp3UVB+P4ziOM/sFpvoAnGsnFgsu9rykSiZpAVqn+ngcx3Gc2c/NaIxj61YC0WhwsTH+H4lwSKnQd15/Pd548fPWrWO9Mer3gcUffBVzuqrKbGtsDC1SKvX7xrB+nG/1ilK8A5Rrzb2XOiYRfmGM/v6ePRwY7+vr1nn3GKO/ppT8IBDQ39+xg976ekJZWSwCtc0YuRl0FyAiKtMY0ysiP02l/O/v20cSYM0abhNRnzaGgVBI/7udOxlcu5bHjZFtSkn34KD+10eOMAyYC8ag3hj1TyB/mp7u79y+nb5L/RyO4zjO9cXNaIxjcBAJhUyG73ODCN2eZ8LjPU9rMkVMBeCB/DeQ7vNflYGnn/b12rUmDaQGGALzU5DmsWcY458Vodf3yQTvMICIqTJGHgIjIvzIGGkafe5p36flw47ZGHJB6oFiEfv/mp7ORmPUNhEpEzHfB3PamIAPpkwpVhnDbwUCXmjlSv9n+/fTaQw5YGqB3uFhPPu6ao6IqQOCWVnqi5s26X/YuZPBC75vOrBUKXIHB93vk+M4jvN+7sJwhYwhJUJHMql/un8/TZd4aqPnBZ7dtStxaPwv+7sANm4Mrkil9FoRUUqp53ftSu7/OMe1ciVVSqnbwSwGfmSM/l5VFX1PP53yGxrICQa9dmOYK6I/HwhwYsMGhpLJD325PiDTGPOZRCKwZ9my1IGDBxn+OMflOI7jXF/UVB+Ac3V4nrcazDJjpMMY/b09e+h5+ml8gH376Nfa3wM8bYys8jzVkEox5xIv1w68LSKZSulPZmRQgfvdcRzHcSbAzWhcOQECoRA5GzaQD+B5mIEBEhfd9Qd834Q3bCBt7BOJBKl9+0hxQc7DZFHKrDKGTGD3nj10X/z1PXvobmjwdyqlho1hRSDAzg+f0ZC4CO9qzSngyVTKO7x5s9+xYwe9k33cjuM4zuziAo0rFwQpAXnSGJsImUoRDYXkBPg/G3uSCPkieolIIH3sc0qlzm7YQNuuXcQm+6BEmAeIiJz4sOcEAoxobfYZQ4XvU3ip19OadtC/ElEPgX5yZIRu4GeX+jeO4ziO4wKNySGAx+h4ak1AKTwuqOoxxtxgjDyite5/7x8JP9eaF2HyAw1jEFCIXHq2RARtDCIfUX/keZJKJOjwPPkvIL8tYjatXx86pHV8Mg/bcZxJtnUrkWSSKt8PZhiDaJ1s2buX9gufs3kzefE4RSKR5N698VPjvEZmMklVMulVi1CkNVGl/BagcfduzgJs2UKF1qQlk/Tv3k3Hxa/R0MCcQCBUFggkugCMCeX7/viJ9gBaSzwYTHS+9hrnPuw5GzaEFkEipTXndu9m4MKvbdxIke+zWCmv1hgGlfKPDA1x+qKZZtm4kcJkMlSodaJn3z7aGhoIRiIUJpPBwlAoeWa8mdutWymJRknzPPp37aLnw47PsVygceVSxphOz/N+mUql2sEmiBrDAO9bEpFTtupEv1cmqzWNxpyv4JhkgyLkG0Pow56QSOAFg6pARHcZQxyIXOoF9+0jvmmT/1wyqdaLyDLfT9yjNQc9b9KP3XGcSbB2LctjMfUwMN8Yv8sYfFBpa9fSD7Jrzx7/xwBas9Tz1H3GJPqA//OCf1+gFGujUbUJKAbTA4woRcoYtVIpWjds0P991y7isRj3iqga0LuAH198LJ4XaDAm9dlUynveGHohtdwYikTwRCTTGEpFaDPGDNnjpCOVCuyAVCcfsrysdeq3RVSfMfrnwBuPPIJ35gylWqv7Uinq7HNMLxBMpdT9kQhNDQ36uViMPUeOkHjkEVRTk7dRJHVvIOD9GvzvpaWRmUx6t4J/byKhdmzYoJ/btYv3zQzH49wEqtL39T7gpcn4v5rNXKBx5bQIQ/F46p2PqDpp87zAax9edTK5jKFFhCpjTMV4X9+6lUAsRq4xpkxEDoqYPt8n9yNeVu/cSevq1foZEfmCiNyklJr0/BLHcSZNudbmFhFyQP5JhAFjqBQxC4HK9etpikQ4Eo97pcawBsx7swdbt5IZi3l3a21uAoLAYRFpFqFfa9TojUysvX0sCFCLjDHLjFGtoMc5FFMObAXzrjHqjDGcUsr0AFnAUjB3GCP/JEITMGSM9GqdumQemDGyzhjd6XmB1yGlmprIBfUZEbPaGOkQkbeUkmZjTAYY3xizyvNUWlqaBthx6hQqEDBVxrDZGHMaIJkkBGa+CJtA5vq+19/Q4Lfu20d07Pv6vqoVoU4prxWbY+9cggs0ZoGGBoLGEBJBAwMjI2gR/ZYxslxElq1bR/nu3bRwwV2B75NnDKuBDGM46Hm0+z7VE/l+mZm8HI3KIpA7ldJ3GSODWo97ZnEcZ+oljOEM6H/au5f2DRvI9331KPDbxqiH+vt1c3icBYxYjCWgPwkoEfPt3bv5yWQcjAg6HE4d2rGD3wCsW0exMd69wGeAl0Mh/eyrr9J5ua+7aRMZqRTLjOG3ROQFrfW39+5lrD2ANDTwvOepPwBzq1LK37BBH0kkLjmj3G2MqTCGTaONFfde9g/rAC7Q+EjGEE4mdVZDAzljn8vKwh8cZGT0r2IMAc/jfc+JRNDBILFEAvGvTsCrtm61yyKJBMWplCkDho1Rh4eG9EhmJr8RkVXGyJ0i6uEbb9T/HI0yHAphEglC8TjLReTTInJCKf+VXbtoWb16Yt94+3bi69bpF0HNBfk0cBbc3imOMxPs2kXP2rX6tDHSL8KKUIgPyZNQ20Cywfxw924zKUHG1aQ1xSLqk0C61vpn0SiHL/iy2beP6Pr1gWe0TtWLSIPWgQZIbR/vtUQwWpuzQDNQA+rRZcv0Edc/6ONxgcZHMkuU8h9XSnWNfSYalXNK2QZb2KqT4kBAPgu8l+iZStHv+/oXIiY42Uf0yCN4R4+SPTwcaFAK3xh9G3APyKm0tNRLu3fjA8Nr13o/Ab/AGL6eSKi6YFB+obXEldLrwNxmjIoEg/4fAR9or/5RKis53NSktxsjN4tIvVKErlJA5TjOpPPSREyGCNtTKRMPjnOWMoabwRw1Rr0z/lLI9JJMBvM9T68zRr8dCNBx5AiJi59z112Jd3/xC9Ukwg2g64FxA40xSpmfGKMagFvCYe+tb37T/+43vzkDBmOacYHGOGpr0S0tqQ4R9ROQAiAK55MqjTEhrVGBAK3GyLMilAGJC58jQsj3USKpLqXU8yIyqHXiI/tOJJPJbqXUr41BlEp+oP8FwOHDeJmZ5IK+3RiK7THxI9/3n7twV9Z4PPlOejp/rbW3A8wSrc0Do6snAyA/UsrfAxy+/XaGd+4Ez6PR9+VZIOp5ZvRNqg6L6LjW8u6Fx/D00/gNDezzPPMfReQ2Y/yTWVm4EhTHmWZssqXKBlm6fr2U+b5eJmJuNUZaUyn/u7EYAxcGGnaX52Cd7/tZIrQFg17HhROWmzaFF/q+zgDwfRkZrQzpGv1eRSJm25o1av4Hj0TXX83ttTzPZBhjapSSPSImOt5zvvlN9Jo1dICOay0fuVSsNWdEZBB0pYg88Ytf8JuGhvdX7DgfzQUa43j6afSyZbRnZOintSbDXJTuqBSxQIB2pUjG4/pHgcC4z0mEQnadMZXSPzOGlOd9sHHWxbSmOxjUzwPE43SN95zFi/FPnaLH8/TPtSbT84hrTasI7ytLO3iQ4a1bOT4y4ncYw1Fj3uuVMShC2+AgLUeOkNi5035yZISToZAeNIZUTQ0j+/ZBMJg6lEpxCvQAH9Tl+7wcCukTQBO4QMNxpqGgMaYYzDatSYnIfDBxpeT7Q0OcOnKE5PoLtnwcHESFQiYb8IxhJJGQ97XySySSd4lQKUKeCL4x3rP19f4v7FclCdItYj5QIgtSCCy4Wj+k1nhKkWYMMa0vmaGZMAZf5NJVdqOvOaKUvxtUJZjfUko9oZT+lnZzGpfFBRrjM6NrcUcn8NyJPGfCJayjmc0nL/Wc0Vbi/cCrH/V6ozMcPaOPS3rrLfqw+5qwdzTt6VI17KO7vnaNPhzHmYaMQYsQM4YmEUZETI4xZIqQPt7yQn8/fkGB6gSdEiHL8+zsxRgR3SqiUmBuAVmutTmak4OXSoExZkiEtz0v+NOLX1frZNgYNl3FHzVhDD0iZIz2MRqXCJnGEBSZ2E7T6ek0x+PeK1rrJcboT4kE3gCdNXmHPfu5QMNxHGd2SxhjmsD8jz17aF+zhltF1Od9n8dXruRf5s+np7n5/JNPnCAZCiXOZGRIF0ip1roUeK8sf88engbN2rUqDCy/6HsltaZrz56RD3QkXrvWO3cVdlt4TyCQGtTaOwq6OpkkC7sf0/vmHrZuJTMapVRECXBsIq+7fTuphobk0WDQ+67WsklrfYcIxRe/tvPh3MZYjuM41xGtecMY9oiYilDIu6m1lfSLn3LkCEMi8qYxplBrXbdsGRnjvtjUkfp6QsagREiO7qLdI2J2gawAr3bTpg8cs0SjgaUiUgl0grdvot9sbCNKpfifItxqjKnFVdpNmAs0HMdxriP79jGglLQAw8aY1UqNn6sgon6glEqJmM9EIuqJa3yYl3T33YSysoKrbOWMvON5qWN9fbSlUvqHxjCilP50IsHKC/6JLFxIJuhPa61LwOxNS0scuZzvmZ5OfzKp/5uIREWkUsRccn8o5zy3dOI4jnN9MVr7XSLSBGp1PE5kvG0EAoHUgUTC+0cRtgFfWrtWbRThTaVkSGuTaYy55WpWkVxsxQpyIxFWgKrr7SVgjN4GptcYs7+jg44TJ0hu3UpjPK6/rrU8IeL98bp15j4ReRdMljFmqzEmJCLPpFL6p3ZJhAm3H9i+HX/rVjqHh/n/ROS3jZGcj9ojyrHcLhWO4zizVHk5QRFiIhwJBnmzudkmf1ZXgzHekIjpBvO655mk1jJkjBxubTVvATQ3kyguNl1KBRpFzFkRUkC2MWSJEDBG2kR4VWv9cloa7amUCStFM5iDra0f3I6hoiIQMsYMgn4dOHX2rF16qK5GGRMAzJAx3svhsG5rbPxgkmpVFSFjqAZZAGTZZE71YxHz2qFDduOzxkZSFRW0gtcOpt+W9pJlDEFjpF1Eveh5+uWMDBobG9GbNyNDQyZojPSIqL0tLfpUdTUKjBKhzfM4ePbs+UT6xkZ0VZXpNEaiSnHcGL2/pYW2q/F/N5u4GQ3HcZxZKieHpv5+fqIUJhg8v0v0uXO0FxX5v/L9cM7Q0MhgXh4nRXSX77+/LHT/floh1bpsGbvS0kJVIn6V1ig7q5Hqzsykfft2W3V2443sSCQIZ2QwNN6xJJPJo57HOaXov/NORnaNtjwsKyN66lTynUAg/LciIx2FhePvZj04SDwnh5PGKF8EL5WSDq2Txy7cgwTQdjdV/9mNG3kDglVa6zlKSdSYVFMkQvv27efL8J9+Gr11KwfjcX1GxJbwl5URbWpir+dxiHGq9XbtomXNGv0T3ycYCk2scsVxHMdxHMdxHMdxHMdxHMdxHMdxHMdxHMdxrjZXdTI+BRQDRUAatgNc8pL/wvkwlUAhEMSOodvj1XEc5zpyvVQBC/ZClwPMATKxAcRYv/oCIHzB8xVQAqRjNwrrBYYves0BYAjbHa4TexEdBLq5jL1NZhjBjkkGkAfkXvD3IJDNBTvYjqoe/dwANoP7wrK1FHZch4AR7P4tw6OPvtF/4ziO48xgszXQCGGDiCzshTAde1Gswu4eWIK9UM4FCAZZ4Hlkqgv6pAYCQiAAxkAqBb5/vke/1pBM0ur7tAMx7MZqUaAFOA40j34+jr2IDoz+eab1xo9gg4jM0Y9Z2JmeQmAedjznjP49PTOTuZ4nmRe+QHo6BAJ2DEdGwL9gPmNkxMQTCTq1ph0bnDVhg7YuoHH07zHsGA5hA5CZOI6O4zjXrdkSaAh2GSg4+rEMWDf6WArMV4pSpRAREAGl7EeA4mIhK0sIjvaIUwry8oTcXCGZhN5ew+Dg+UAjHofubsPAgP2c1jYgMea9P/drzXHspj37gR3YHVmHsXfxKabnxVJhe6t4ox/nAcuAVcBKEVZ4Hpmeh1IKlFKIBFHKTgYtXaqYM+f9v1KLFtnP9fQYmpo0wxfMCzU1adraDLGYRusUxiTxfY3WBq1Ba4a05hjw5gWPU9igw8eOo+Fq7tTkOI7jXJHZEmgUAiuB24CN2JmKTOxySDAYJFhVpbzSUigpURQUCAUFQlGREA6D570/8AD7d6XeFzy8xxh7Z55KwfAwtLdrenvh3DlNR4ehpcXo1laTxF4IE9i78HbgLeDXwGtAK3yw+90Uq8KO39ijELvEFPI8Qrm5hFau9FRdnWLBAkVFRRVFRfdTVvY7AIRCdswuFAza8fV9+9AXhFd2pghGRtro6XmO7u6fcuhQI42NMRobNceOaXPqlElix2lk9GMj8DpwADuOzXC+AY/jOI4zvczUQCOAnbLfAKwH6rDBRRFQUFoq4aoqpcrLhZISIS9PSE+HSESIROwFMRQ6H2R8XGPLKiMjhkTCLg2MjBhiMRgcNLS22kdTk6a93SSGhugDzmHzOE5i79B3AUeYmotlAKgAbgJWY5eVSkUoSE+n4IYbVHDFCk8WL66nsvJ+CgrWkptrZ38yM4X09HRCoVLS0mqv6CC0jpNItJNItNHfHyUa9YlGDf39MTo73+XMmf+bo0cHeOstn5Mndayvjx5sPkc3dgz3A28Ah6/oQBzHcZxJN9MCjQLsxXAlsAKYD8zPyZGikhIJl5QIpaVCYaEwZ46dtcjJsUHGteb70Ndn6O01dHUZOjvt49w5w6lThv5+05tK0YTN6TiKvWC+hk2YvNrbD5cAi4ElwHKgPhymprhY8hcuVIEFC7KZN+/3mDs3k6oqYe7cueTnryItbd5VPqz30zpBItFOd/dztLbGaGoyNDWd4tSpVzly5Cjvvqvp6TGtiQRngBPAIew4HsYGIdNtxshxHOe6MxMCDcHOQhrhWwAAIABJREFUXszHBhfrRFgbDlNXUqLIz4e5c4XqakVFhVBergiF3r8MMh0kEtDfb2c4jh7VtLcbOjps4NHfb/q05g3gJeDd0Uczk191UYEdxwZgveexorBQaqqqlKqqWsyiRQtYsSKLxYtzqK39Uzwv8yNe7tqLRo9x9uyv2L//IIcO+Zw8uZumpjM0NsZT7e2mCztD9CZ2aeUINkHXLa04s1kYm/A+Vjk3VgE23s6kMWziehKb25TAnmdc2bktIkjHJsGDHb8sPlhJBzZPLIYdN835cXXjOI5pdjl+n7E3SzGwBnggFGJDJCIl2dlQUiI0NHgsXKgoLrZLIjPJ4KDhnXc0Bw5oTp60OR79/YZUimPG8Dw2l+Mg0Mb5k8LHEcJW2BQBtwIPZmSwMi8vnF1cnMfq1eXcemuA1aufpKzsfkKh4sn48a6Z5ub/zJ49L/PrX3fx2mu99PY20tlpSCR4wxh+DryMXaZqx54QXOKoMxMFsRfACDZvKg373g5i39+F2PL9sRL0ytGPF+vBVnaNJVQPY6u74pzPJ4tjzznDnL+YzhZhzo/j2COIHcsc7DjmjT43HSjnfBuEC7Vjq+NGsOPTiV0Wj3E+p2wsoBsb06s9Uz1tTcdAY6yCZC5wC/AFERqUIlJSIixerFi92qOhQV36VWaQ3l7Dnj2aX/7S59w5zcgIaE0b8Czwn7CzGwkur1JlbBxrgIeAL3se5Z7nhVasCPLoo9U89NA2Kiu//l7VyEyWTPbQ0vJrnnnmK3zrWyM0NSVHq1loBH4I/BdsP5QELthwpj81+pDRj6XY2cgF2GXP5UCZUpQB4bFquvf+sRr/1G6T2s17ye1j1XLGEAWajeEYdhmyDdiHnRXsxZ57xgL16VgxNx7h/PiNjWUtsBA7jmOPMhFKRWxgduE4ftjMuDEf/Pvo57qNoQ1bHfcWdhyPYWepuzg/jtfVTc90DDTmAPcBDwOrlSK7slKFN25UsnTp2OyFTeScLbS2JbPRqOHQIc3OnT7vvmtS0aiJAh3YC+V3sL+wE807uAF4AHgQWARk33WXF3j00Ydk/fpHKSlZRUZGJsFgHtPz1+DyGOOTSsUYHj5HR8cxXnrpP/LMM6+za5efikbpxy6h/Jjz4+g401Ua9gK4Bluevwx74zXWGC+EvTP3li1TgexskdJSYd688zdfdXWlZGenfeCFm5s76OoaJpGwy7ltbbbEvK1Nm/Z2k+rvJ4G9C09xvtLrLHY5cg92lvUkjL+V+zSTiz33rcWO41IuqKTDjmUwHCZQWCiB7GyR7GzIz7fnw0jE5vulfXAYaW8/397A96GjwxYBdHUZv7/f+KkUSc7PdiQ43yfoEHYMX+M6WtadTleYMHA3cBewNhiktqREctav96ivV5SW2sTO0HirZbNIf79NGm1sNBw4oHnjDV8nkzQbw1HgZ8Bz2Gh5PAo73XcXNshYl5src5cvz0h/+OH1rFz5GPPnryQ/v4pAIPfa/EBTwPcHOXfuMKdOHWP//u289NJ3zb/8SyqFPWHuAZ7HLqk0TemBOo4VxiZoL8P2/pmPncEowF4scxcsUGmLFim1YEEWFRXzyMnZTHb2BvLzgwSDkJZmq8HGZGenEQx+sKQuGo0xMuKjtb1AxmKGeNx+jMWgt/ctmpu/RUvLOc6c0Rw/rmlu1rGhIXqwd+R9wBnsTMeb2Itm+1UdnYkLYZfat2JnfGpG/z5HhNyMDMktKCBUXKykqEgoKID8fEUkAmlpthQ/GLQViWArEsNh23DwYrEYJEc3pTAG4nEzWqpvvzY8bIsA2toM3d2G9nbj9/ebaCpFH3aGqIvzsx5vYmc8eq7u8Eyd6RBoZGAbQ90G3OV5LC8pkYKFC5W3ZInt11BUJFdUhjoTDQ4ampoMhw9r3nlHc+qUTgwP8zawHXgRmzg6wvnpt0zsLMYngK1ZWaxcutTL37KlnvXrn2TjxoXk5m4iEMiekp9nKvj+EF1db3Pw4K946aWDvPDCdo4fH+gfHDTvAK9gA45XmV1r0M7MUY6dxh+rAKsGFhQUSHFpqUSqqyPU1JRTVPRp5s4NUl4uzJ2bxpw5paSn15GevgiRyT0xxuOn6er6Nd3dfXR2jpXot9Le/iatrW9w7Jjm+HE9FIvRgp3ZODH68S3OL7Ncy/dTCDuOddhxnIcdy5rcXCkoLJTQhX2TsrMhN9fetGZnQ2am7QA9mcUDWtuAY2DAvNfssbfXLpGPBh1jMyJ9ySSN2PE7ha0+fGf00Td5RzT1pjrQKMZWktwpwsNZWVJWWyvekiWK5csVtbWzJw/j4xhbUjlwwOfNNzXHjmm6ukxXPM4e4LvYjqNt2DufNcCdwMPz5qn8VauWeffcU8utt26hvPyrU/hTTD3fH2ZwcC8/+MG/8JvfPMsbbzRx6pQ+l0rxEnYpZT82kcuVwzpX09iMYzn2bnsFsDoYZEVWltRWVQllZfXU1NQwf342ixalUVc3n/Ly30dkvAKSayMeP0N39284ffolDhzQvPlmHy0tB+noaKG93SQ6Osw57Lnodeyd+Uns7OHVWl7xsDdWYwHGUmCt57EyPZ3i4mJFbq6MBma2l1Jxse2ndHFDwWspHofOTsOZM5rmZhts9PTY4KOnx8QTCU5i82JexwYbp7GNHWf8hp5TFWh42CqIO4DHAgFuysuT9Lo6xR13eNTUqBlXRXK1dXcbdu3y2bVL09ys/eFh+rGJojuAZSJ8JhKRzeXlET796VoefvgPWLjwHoLBwik+8unl1Kl/x/e+93O++90uGhvbksPDnAb+X2yVTyM2U9xxJpPCXhgLsbOOtwGfSE+nOjc3GCkuzmXhwjLuvDPAli1PUVZ2D+Fw+ZQe8KXE46c5duxv2Lv3N+zYMcLu3T0MDJyjp8ePjoxwxBh+BfwSG3CM9bOZjATSAHYcS7EBxs0ifCIcpjwjQ4K5uTawWLNGsXChDTam80z40JDhzBnD229r3n5b09NjGB6GaNTEUin2YZfKf43N5ejlyqoPp9RUBBoKW0b0DeBhEapLS4X77w+wZYs3q5I8r4YTJzQ//3mKHTv0WJbzOSAcDkvOsmVp/O3fLqK+/ntEIjVTe6DTWCLRzs6dP+DP/uyPeO21JKkUg8A/A9/G5nDMyDezMy0JtjxyK/AEcJcIWSKKjRs9Hn20mE984lPU1Pz51B7lxzQy0kJLy9M899x/4lvf6uPoUZ943GAMHdjk67/DLq9EubL3lXD+5vS3gFtFIBKB+fMVmzZ5rF2ryMmZ6kn6jyeRgLNnDb/5jc/u3T6dnQYgaQxnsOemf8bmlM3Iqrlr/b8SxiY6/QmwOT2d4lWrvODtt9tZjPT06ddoa7qxmeKGV17x+fWvfYaHTQpQt9++VP35n3+B+np7NzSVU63TnTEpotEBGhvf5Kc/fYy/+ZtB3dJi+rGZ4P8T+P4UH6IzOwSB+4FPY5dJCvPyJPPuu0Pqsce+zMKF91JYWElmZjbBYNHUHunHZEyKVGqAoaFu2ttPcvjw3/Dssy/w7LN+6tw5M4i9E9+OXaLcyeVXWShsHt99wCeBBqUoys4mY80aj3XrPEpLhawsmxA7lUsjV8IYm1wajdpigOPHDfv3++btt3UykWAAu4TyAvBTYC8zo+rnPddyYikbuBE7k7GlvFzm3HxzILh1a8AFGZdhYMB2Fn3lFU1vryEctpuoKpUiMzPBihULCYVKUWqWl+dcARFFKJRGfn4x1dXLqahokZ6enrSOjkSh71OOPbGdYAZPVTpTKg+7D9PvAo8BqxcsUCUPPbQw8pWv/JY88MDvs3LlnRQXLyY9vRjPy5jao70CIgrPSyMtrYD8/GLKyuqpr7+DhoYlqrR0Z1pjo8mLxykzhsXYTRsT2L5AE1EI3A78H8B9gQCrysuleONGL3znnUEaGjyqquwSSSgkM/r6IWKrXCIRITvbJq5WVSmprVVeOCzp3d2mIJmkCrtkVIbd66mTGXJ+ulaBRiX2F+YzgQB3l5dL9i23eGrDBo+KitlfsjpZenpsyevLL/ucPKlZssQ2L8vPF7q6Yhw71k5f3zkqKxVZWYV43ngN7ZwxSoXIzV1IZWUOeXmZJJOxtO7urqJolApsx8Cz2Pr3GfFmdqZcCHshuA94XCnurqiQ+ffeuzb9kUfulfvu28aNN95LRcVmwuE5KDW7Zh2VCpOWNpfi4jpqa6upqsqmpGQhubmdmUNDg+X9/aYKe5HMw1ZVfFjL7gxgFbANeBS4s6pKKlav9tI3bPBUQ4NHXZ0iL08IBmffDarn2dmZ/HyhpERRWCjk5IhSipx4nLkjI1Rj81QysMFGjGl+jroWgUYp9o33ZHo6t8yfryKbN3vceKNHUdHMneq61lpbDfv322ZejY2a+nqbOLt+vUdJiRCPw7FjI+zceYysrA6Ki3PJzS1ywcYEpKfXMX9+DYWFIQYGekNnz3YUJxIsgvd22x1gmr+RnSmlgHxsD4yHleKxvDzZsn59OPOee+5UX/ziE9x+++NUVm4lGJwzxYd6bQSDORQXb6ahYQkVFZpwOKCSSZ0Xjw8siMVYgk3sTGFboV+YgF0FbAQ+7Xl8KidHVi5YoIIbN3py000BlixR5OdfH9cNEbvTeFGRUF1tZzoCAQK+T0EsRr3vMw+bZDuCbRc/MrVH/OGuZqChsMslDwJfjkTYOH++Cjz4YIDNmz3S02dZGHqVGGOXS154wefFF306Ogz19YrPfS7IDTcoMjJs97r8fEU0amhpMeza1UxOzjkqKrLJyalGKVfC81GCwUKqquqorJxDU9ObqqtrKCeRMHXGMIBNwhrCBRvOB4WwN1Nbga+lpXFfWVlWxZYtFfzpny7g0Ue/zdy5m2d1g7wPIyIEArlUVm5l3brl1NQIvb2tgd7evoJEgpu0phAbxHdiL5ilwKeA3w2HubWoSPKXL1d86lNBVqzwprw8dSqFQkJFhWLePJvw2tNDIJGgLJXiRmPIwN4U9fH+3krTxtUMNDKxiVB/AtQvWaLkgQcCrFihrttflo8jkYAf/tDn1Vd9ensNq1Z5PP54kLlz3/+my821LYiNgZMnDbt2taBUC0uXhsnKapi6H2AG8bx0Skqq2Lx5Ca2tz3L27EhuNMoi7Bt3H67PhvNBNdgcgj8B5q9b54X/1b+6h69//W+oqvrX11WDvEsJhYqYP/9mbrppHXPmfIcjR3yGhrhBa1Ziq3IGgf8APAlULVyoAg88EOChhwLk5EzvMtVrKS3NBhxLlyp839DWRmhkhBXYTqgetsX5tDtPXa3/vjnYNtj/AahYt84L3HFHgPp6RXB2LUteVf39htde07zwgs/wsOHGGz3uvjvA3Lnjv/FCIaGy0na9a2/XHDzYS2dnK8uXJ8jKWoWIi/A+ikiQzMwy1q59iFRqLx0d7ek9PaYc+zu9h1nQPMeZFBFsqeU3RLgnK4usP/iDoPrqV/8NN974R2RlVcy6HIwrI4gIkUgB8+c/wE031ZBKnZWurp7MgQHqsR2NlxQWSta99wbUXXcFWLBAufy9cYjYgKOmRlFVJcTjSF+fyUmluAGox/YDGmAa7RZ7NQKNHGx1ye8DS9ev94I33+yxaJGQkeGWSyaqt9fmZDz7rE9Pjw0ybrrJo7r6w998Stms5fx8IRqFlpYkJ0/20dPTz+bNmwgEsia9ZfFsY7Pow+TkFFJeXktvb5vX0nI6a3CQEuy+E28wDe8YnGuqBJuk+Pn0dDYsXJiW/7WvPSoPPvgl6uoeJDu7FpFxNshwUCpIenoxhYUVaP0qp041eo2NJgPIFyHc0ODJpk223cF4m5k5NtBQygYbeXk2YTQYlEBvr8mKRpmLbQrXhW2WNi02bZvsq046cBPw+XCYm5cvV8HbbguwaNH7N/xxLm1oyO7i+tJLPs3NmvXrPW65xaO2Vk2ooVl6upCZaZddmpoSHD/eR0bGIJWVlWRk5LgeGxM0Z04NmZnC0FBH4MyZlpxYjArsBlJtuA6i16MAdpvxR4HHi4pkzaZNNdlPPfVVtm17mIqK2wiHS6f4EKc/rVM0N/+QF198ib17O4lGobDQJrSnpwvp6XZW1l0zPlooZPdxycsTwmG84WGTMTBAtTHkY/M1urHLUlNqMgONANAAfC4U4sGKChV56CG7XOJmMiZuZATeecd2iDt6VLNggWLbtiBVVRMLMsbk5dkZpHgcmpriHDjwJpWVGZSW1pCR4dqST1RZWSk5ORF6epq9xsaO7FSKUmzZ6zmmyd2Cc01EsBt2PQ58vqJC6m+5ZV74yScf57HH/i0ZGRUo5doaf5RotI+3336eZ575t3znO6fp6TEsXapYtszm7p04oenoMHie3a49M9NdOz6KUvZ8X1oqBIPI0BCB4WGzMJUiD1uN0jr6ccpMZqBRAfyu53Fvaank3Hijx5YtnltjuwzGQGOj4fnnfQ4c0JSXKx54IMANN3y8tcqCAruM0tlpeOcdQ3v7Xqqra6isXEAg4OYlJ8LzMigvr6Kycg7797/sdXcnKn2fMPbN28zk7OHgTG8hbEfjzwD/Jj9fih57rER95Stf4qab/mSKD23miMcHOXJkO3/5l4/zj/84QCIBW7d63HdfgJUrPebPV5w5Yyvnzp0zGAMVFUI47IKNiUhPF6qrbflvR4dhaMjU+D5F2O3nTzOF+WWTGWj8W+D+ggIp27DBk23bAi5T+DIYY3f3++EPUxw86FNUpLj9do9NmzwCV7Dcm5UllJUpjh61u79qvYOyMo/Kyq2Td/CznOelkZ8fYfnyDl566QQDA6kFWtMPHMdOTTqz2yLs/hpfA0J/+Ichnnrq/6Ku7qsuwfoyvPHG0/zX//olfvQj2+7hkUeCbN3qMWeOTW7Pzhbq6xVDQ3D6tOHsWUM8DosXq1nXlOtq8TwoLbVFAX19ho4OM1drFmBvjE4yRQmikxEK5AAPAU+lp0vV5s1e4M47PbKz3W/G5RgZgeeeS/HGG5pIRNi40WPrVo9I5MrGUQTCYaGoSHHypObdd1OEw53U1Q2Tk7Nxko5+thMCgUxycxdQVvYTjhwZVl1dpgzb1dBVosxuK4CngCdycyX7618P8eijf0t19f0Eg5lTfWwzxksv/TV///f/mV/9qhOl4PHHg6xerd7XG2PsXFVebj/R1GSDjeFhKC+XKz4XXi9EIDNTKC4WAGluNjlasxR7UzQl+WVXGmikA0uxdeSLN2700rZs8aisdL0yLkcsNrYrq8/AAKxf77F5s+2ceqXGeujn5grGCGfPalpbBwkGg6xatZlAIJOp2cR3ZhEJEArlUVo6j+7uo7S1dWb29ZkMbMLV/qk+PueqGAsyHqiqkvKnniriiSf+gurqewmHXZ7TRO3d+1f8r//1P/jVr46hFNx3X5B16+wU/8WztUpBRoaQm2sDkNOnDc3Ntv+Uy9mYuEDAzmbn5AhKEThzxuQZQxW27PUc1zhB9EoDjfnAZ4EHb7hBRW69NSCLFrna58uhtd2N9bnnfI4c0SxerNiyxWPevMkL1sZa2ebmCr29htOnU/T2JqiuFioq1qOUK8WbCJEAGRl15OYGaW9vU01NbVkjI2QDR7DroOPt2+DMPB62b8oXgQfnz1e127bN5/Of/23mzfsiwWDOFB/ezOD7cRobv823v/13PP/8UbSGLVs8br7Zdvn8sKV1EXuRzMsTjIHjx+2OpsEg5OS4YGOiAgG7HJWbKySTeOfOmbmpFLnYGY0OrmGwcSWBRgFwu1L8TkaGFNx7b0CWLVNuyeQyjfXLeP75FHl5wic+EWDRInVVpgntG1To6oLTp/sYHDzGpk0rSEsrdBnzl2Hu3JUkEu00NR0MnzkTy8K22z+AfQNPu/a/zmXxsOe2B4Cnqqqkdtu2+epzn3ucurqvu6B8glKpAbq7X+U73/ka3/1uE/G4YdMmj9tus5tAflTOhVI22CgtFXp6DKdPG3p6DGlpUFzsEkQnaizYKCtTnD1rGBgw1ckkmdhllGuWIPpxAw0P2y/jybQ0Vi9d6nHPPTapx5k434cDBzS//GWK4WHhrrs81qzxyM29euM4Z46QSMCRI5oTJ+KsWLGb0tItRCIliMu4mrDS0iESiXZ27TqZlkgwD3gd22Nj2m5s5HwkwTZl2wT8dXo6c7/wheLAU099hbq6P5riQ5s5jEnS2/sm27f/Hn/8xy0MD/vcdlvgvSBjokRsA8KKCkVjo6ax0RCN2lmN0lK3PD9RnmeXo7KzhbY2Q3+/KdOaEDaZvY1rcHP0cQONOcBjnse2sjKJfPnLQQoKXD/6y9XRYdi922f/fk1JieJznwuQl/fR0f6V8Dw7s6EUvPlmirfe6mPTpg2UlFTgeelX7xvPMmlp1UQicRKJX6p9+3QYu/X1Qewb15mZwsBm4N8DNffcE/CefPIvWLHiS67T52WIxU7w2ms/5qtf/Rk9PT633OKxaVOAkpLLP7cpZc9X1dWKlhbD4cOawUFYuFCRmXl1z5WziefZmSC7IZsJnDtnKrE75f4MO6txVYONjxsaPAY8XFQktZs2ebJ6tS3BdP/pl+fll3127NBkZgoPPRSgtlZdk2BtbFnm7FnNmTOakpKjVFbeQH7+oqv/zWcJEY+cnAoyMm7gxRd/rmIxio3hXWxvjSltjuN8bJuAz0cibFmxQoW+8Y3/zurV9xEOu43RJiqR6ODll5/hr/7q73n33QHWrbNdjSsr1ccu0xexPSJCIRgctL2GenoMixd7BIPuujNRStk8vUQCenpMsL+fTKAY2A3Erub3vtzLmmB3K/xCKMSmujov7Z57rv5d+Gz0zjuaV1/16e6G+nrFHXd4pKVdm3FUyiaHeh4cPqzp7e1l3rxKampqCAbzrv4BzBLBYAZpaRAIPCv798ci8biOAGewU5LOzLIAeCQc5sF58/Lzv/GN32Pz5sfIzi6e6uOaUd566/s8/fS3efnl45SWKu6/395ARSJX9rpjfTZSKZs839JiCASgpERIS3MXn4kKhew4+j5y9qwOj4xQyvltFa7aDdLlBhoe8DDwQEWFqti40aOhwS2UXQ5jbG7G88/7HDqkKS4Wtm61XfGuZbAWCtns7TNnDKdPa3Jzk1RXF1NcvPzaHcQsEA7D3Lker776Fj09scJUijbgXabB/gLOhGViz2vbamqyF3z2s2v57Gf/mKysErcJ4WXo7PwXnn76H/jJT/aSSsHdd9uOn1caZIyJROw+KKkUnDxpaG83FBfbqgqXHDpxmZlCWhpEo3jNzSZLawqAU9hKlKuyYeTlvIs8IB/4w0iEJWvXepHNmz238c1l8n0bkf/iFz7Dw7Bmjd2VNRS6tuOoFASDNq/m+HFDV1cbxcVzWL58g8vVuAyel0VmZgNtbc9z8mR3uK8vlcDeIbwz1cfmTNg64Iv5+bL29tsXeF/72hfIy9viNh+cMIPvD/H88/87//zPOzl92rBypeK++wKEQpO7tJGdbTeMbGszHDtmMEYoKrJbLbjk0InLzLTJof8/e+8dHtd133l/zr3TBzMABhj03lgA9qJCqouWIlm2s7Zsx94UO46dONkk76b9ESe72Ti73nc32cRxktdRbMexFBdlbcfqEqlGiaTYxQoShUQHBr1Nv/e8fxwOSIqgiCHKzFDzeR48jzSce++Z287v/Mr319lpajMz1FxSOu5GaWwseb5GMpcmBxXD3FheruWuXi0oK8saGckSCkn27lWt31evVs2EUtV0zm6H7dt1iosFZ8+a7N/fSiDwekrGkslYrRY+//lHWb26FKuVLcC9qMTCLOmNBriBX9d1Nt9xh9f2yU9up6Tkl7OejCQwjCjDw0f45jdHOXbMoLlZ4+GHLdjty5M/UVKi8cgjFtxuwdGjBmfPmkxOZqvKk8Fmg6oqJafg9QqE4HHgAWBZEpKSeZoqgD8FVj3wgG7bvFnPCqckiWHAyAg8+WScYFBy//0WtmxRCU2pQAhVZx0KwfCwZGpqiJycIFu3fio1A8pQhNDweDYzMvIGvb0d9kBARlAdXttTPbYs70s+qhvrZ6urRfFnP/tl8fjjf4GuZxUHk2FmZoS/+ZvHefXVDoqK4K67dFpali8UbLGAy6XEDnt7JUNDErdbUF+fdWkkg82mvEH9/ZKxMZyRCHFU+OT8Uh9roVfGB2wRgjsqKoSzsVGjoCBrZCTL5KTkxAllfTc2apf0+1M7JiFg0yaNykqNzs4oe/aMEAp1IGVW5HLhCDTNxf3330Zzc50AVgEfT/WosrwvFtTi6deBoo9/fJP2oQ9twGbL9i9JhtnZM5w69fs8/XQvs7NxNmzQaG5eXo0LIZQuxK5dOrW1gslJaG016e7OejWSQQhwOtV5rKgQmq5zB/AISrBuSVno7VAJPCgEuWvWaFpxsUjZKjyTGRuTHDxoEIvBhg0aZWXpUa1TWChoatLIy4P29k727/8rYrEV77uT8dTXf4SWlm2Ulwsfqk9GI6rFeJb0owql/rn6zjt1+/33P0pNTbbJYLL09Q3zve+9QldXhDVrNNau1ZZVcDCBrqv31u236xQUCNrazLl3a5aFo2lQU6OxaZNGaanIB+5ANUld2uMs4Dt2oEnTuMfpFGzYoJGfrYBMmmBQufm6uiQlJYLGRo3c3DSwMlAP7Zo1Gg0NGoFAgJ/97DkikazAZbK43S1s3lzNpk2aFSgBHkLlAGRJL+xAsxB83G7H/olPPChaWnbhcNSkelwZxeTkSY4f/xnPPz+O2w1btyrP6EomZa5fr7FqlSASgRMnTC5cMDGyztikcDhg82ZV+Wi1UocywMtQXr8lYSG3RDHQYrXSVFGhJshsbkbyDA1J2tsl8bhkyxbVmTWdvEIVFYK6Oo1IBF57LcTIyEHi8clUDyvjWL++ljvvXI3dTh4qfFLA4psXZllaKoE7HA42bNyo8aEP/QZlZS2pHlPG0d7+Onv2/AOBgKS5WS1yEs5AAAAgAElEQVRUPJ6VHUNhoWD9ep3KSsHgoGTfPoNIRMkIZFk4NTWCNWs0SkuFF2hBJYYuWfnhQgyNZmCz2y3Yvn3xwisfVAYGTNraDBwOwebNqas0uR5WK5SXC2prBT094xw+/Cmmpt5N9bAyjrKyz9Pc/AeUl4sclJx1PeBM8bCyXEYDHhCC/1BSYuWP/7iEysoGdH2FZ8gMJx6f5ciRGZ55Jk5OjuDhhy0py9tbs0bQ0qIRjUreecdkfFxmvRo3wYYNGrfdpqPrFACfR7UaWRL/1EJ2shbY7HIpzYfl6Cp6qxONXlazKygQ1NenPgl0PgoKBLW16oF99VWDsbFUjygzqa7W+NCHLKCUdG8HilI7oixXUAGsd7mor6+v58EH3yEnpz7VY8o4zpz5KkeO/DXRKGzZohLbbSnKRnK7lad93TqdmRnJW28ZTExkXRrJUlAgaGjQqKgQbmA7qkzfvxT7vpGhUQrU5eQIf1WVRlFRtnHazdDfLxkYkDidgqYmgc2WHkmg76WwUD2wNpvg2Wfj9PT0EI9PpHpYGUdFxSruvvtToJ6v+1HPUZb0YAewrqFBs3z6045LXYuzDdOSZc+eMd58c4L8fME99yj1z1S904SAqiqNjRs1pIR9+wyGh7NejWTRNBVCv+02XQAO4DFUmHHx+77Bv28A6vPzsa5erWUb2NwkPT0mg4OS3FzBunV62irY2WxQWAjV1YKhIcn5808xNnY41cPKOLzeOhoaPkxlpRAWCy2ohzUbPkktAsgF7nG7WbNmzUYefPD3Uj2mjKS9/RscPnyQqSlJQ4PqrJrqd5rbrQSo6uo0hoclbW2S8fGsVyNZ8vMFzc0aJSVCWCzcDqxDyVssihvdHhuB6oICwerVaTo7pjmGAd3dkpERic8HDQ3pLZWbkyNYu1Z1Wjx9+nUGB7OaU8liseTh9zdw9906LpfwoRp2ZbtzpRYBbAY2VFRohZs2NVFV9elUjykj2bv3ac6dO0NurnpXpNKbkUDTlOt/2zYlFHbypFrcZUkOu101qmtu1oTNRgkqhLLocqz3m/JsQKPFQnF+vqCyMuvKuBmmp6GvTxKNQnGxSPtOt2630tSwWgWnTpn092cf1pshN9fCI4+UkJOjg8pzqk7xkD7o6MCHgYqWlhJuvz17OZJFSoNYbJg33wwzMCApK1Mx/XTB6xVs2KCTmyvo6DDp6ZFkq/STx+USbNumlL+FYBvq/bWoGsnr3SUal/IzvF6RX1iYukSfGyElxOPqL5ltDEMlaUajSsp2uejuNpmelhQVKWGUdMfpVKGTnBw4dsyguzuKlMungmOaUQwjmNQxTNMgGJzBMEJIuYwXbxE4nXls2vQRnE4PQtCAqkvPkhoESjvjfouF4paWj7Jt2xdSPaaMwzBmGRz8CcePj2AYKlRRUpI+qyaLBQoKoLlZ5WpcuGDS15ddKCWLy6XUoktKBDYbW4CtLFIt9Hozn47Kz8grLU1vb8bEhOTNNw1efXXhlsbEhOTwYZN/+ZcY3/pWjN7e5Usc6ulRhkZenkZpafqexyuxWKCuTiAlDAy8yOjo88t2rN7eJzl8+BMEAj/ENBfWofj8+Xf53Oe2cvTo7xIKtS7b2BaDzVZCdfUfU1FRgNPJOqA21WP6AJMHfAQo2rFDt2zcWIzdXpHqMWUcMzOT/PCH/5vR0QFWrdLSypuRwGoVbN6s4/VCV5fJxYvpuRBJdzRNiaH5fAKgDqWtcfP7u87nOrAeyC0sTC+r9b0YBoTDklBo4dsMDkr6+kw2bdLZtUunsFAwMSEJBCTh8NKOr7tbMj0Nfr8qe8wEdF2Vudrtgt7e4/T0HF22Y128OMXBgycZH9+zYK9GLBYlEOglEhnBNOffJhYbo6vrCTo6/moph7tghNCx2fLZsMFKfr6wAeUo2essK48XuA/IueOOQrF6tS9baXIThEIGL700wsREnKoqQXl5+r3PrFZoblbNwoaH1fs3K0uePEIoXY1LhsYqYMti9ne9p027tHNPYaGguDh9DY1kCQZhdFTlTKxapeF2q5Pa2ioJhSRr1+pLonGRCOkMDCjXXV6ewJ0hYtS6DrW1Gi6XSX//BH1942zatDzHqqzcia5bKSgoQdOWLj43PX2Qd955lnA4l/oUySQIAatX6+TlCfr6ZDHK0OhOzWg+sOhAoRDcl5uLs6XlcSoqdqZ6TBlHNDrI4OBLnDkTo6AAysq0tHyfCaFyNaqrNXp6DAIBJS1QVXXrzGErgRDqGvv9AoeD8nCYdSg9oMDN7O/9DI16t1u4fT6RcZLj0ahqYDY1JYnHVSZtWZmG3a5CGb29ktlZSXe3SUGB8macP28SDkuEUCU+jY2q8uJmMU0YH5dMTkpyc1mRRkNLha6r+KvDAb29Jj09i3c/RiI9jIycZWhoGL9fcPGiSUPDnTgcLtzuPMJhHSnVDT4ycpDe3jYCAYmUaiyhEPh8+RQXNwEgpcnkZD9Hjz5PJHIShwOqqwuoqnqY6ekjvPPOT3nttZNEo2UUFz9Jfr5g3bpHcTrzFv1bFooQglWrqsjN7QamCsnmaaQCL9AoBPVr1mhUV9+H270u1WPKOCYmLnL8+FOMj8fYsSP9NZUaGwXnzglGRyUdHSZVVWk82DTF4YDKSkFbm3D39clKVPXckhkaOurhrCwuFk6vdxEjTREDA5LOTvNSKEQJZcViKhlzaEgyPKx6jhw/brB6tcaFC5LhYdWM58wZE7dbWcSLMTRiMVVtEotBaalImTzvzaBp4PMpD0xXl6Sra/GGxvT0UY4d+zp79uznzjt1Dh+u4ud//msEgx288cYfs2VLFSUl9zM7e5GjR/+GgwffoKenBNMUbN7cRnt7lC1bNnDffb8GrMU0DTo7TzIxMUNvL+j6CFu2VPCZzzQxMfE6hw+/y4ULo5hmkB//+O9obNSoq7t9RQ0N0Fi16lG83ovAmQJU+CTLylICbNY02LnTRVFRNmRyMwwNjbFnzyHicYO6OmvaN9ZsaNAoKjI5dcqks9PkvvuyhsbN0NCg0doq6eszCoFNwNtA0hm28z11OZd2aPN4VL/6TEJKOHjQoLBQcO+9OnY7nDmjEkbz85UmfiSivA2f/KT6+Zs3w8svx5mZgZ07VcOzxRKPK0XQWEx5SDLRYCsv1+jqMpiYMJAyhhCL6wIXDEouXpRUVlr5zd/8GmVl9/Dmmx1XfWf//i+zZ88+Ghs/zR/8wX8DHLz00l289loXNTWX72/ThN5ewRe+8Jf4/Q6ee+4feeaZV7jzzj+jvv5/8rnPWdH1fyYYbOarX31yUeO+WYTQKCv7Im73boQ445cy69FIAYXAWl3X2LGjlqKinFSPZx7kpeopiRA6qkhmgVvKRBK8hhDLlTMhCQQM9u41kFKpR3o86T0vFBQI/H7V1fXCBTnnLU0n0nFM76WqSlBcDEJQJiX3Ad+4mf3Md2faUKWtekGBKnPMFGIxlfwTjSq3TywGs7OQmwszM5KJiZWrqzYMydiY8pK43QKXK83vqHnweFTYaXx8Nxcu/Mmi9xePg6aV8Pjj/0pJyQ50/dqb69Ahg/JywW235WKzFWOz5fHAAy/g812di2SxWLj//p34/YV4vduoqbmHyspZzp9/nWg0iczgFaCqSsPvF4VkPRqpoETX2Zaba6Wp6et4PNtSPZ5riEYDjI29xMDAd4jFxpPatr//m/T0/B+mpvYv0+ggGDzH0NA+Rkcla9dq5OWld9gkgd+vkkJDIcmFC2ZSEgjLTSymcgVnZ1M9kvcnJ0cZbPn5wgs0oKIdSVu083k0bKhY8iVDI3MmSMOAkREVLunrg+lp5fKPx5VXQdNWrn1wIhE0FpOJC7UyB15CPB6BwyGIRALMzJxd9P6UBe/A79+O1Zo37wpscFDi89Xg89XNVQa43dVYLE7gcvmrEAK324XFoqNpTmw2N1arJBKZTTttjcJCQW6u0AMBmYOqRx9N9Zg+IPiAKpdL+DZutODxlKJp6acEPz5+hiNH/gcdHbN85jP3UVBwY8XnmZkxnnrq9xgfP0p+vsHWrSZbtuxYlvGNjBykq+vfEUJQX6/hdKb/ShygrExQWipob5d0dEjKylhUOHw+DEOJMp4+bdDUpJGfL254DClhclJJLFRVKXXVdEXT1PuruFhoY2PSg6pGPQokZSLN9wsdKMlRS16ewLVkHelXBiEu5xiUl6u/6mrB9u2qjHWpb7TrYRgQuJQ243Yrz0CmUVSkPFozMzEGB4NLsk8hNHTdfV03r9MJ0WiQ2dmEV8IkFhu7bhlrJlBWNpej40BlbmfAa/qWoAyozsnBcvvt6dt5OhIZZ3DwGO3trUSjN3a5RiLd9PR8k0OH/p3i4p2sWvVL5ObWMTDwBm+88b+IRmeWdHwDAwHa2i5isajkwEx5lxUXK2mGUIhLHo3lWWUaBoyNseAyWilVwcLwsMnMzPXHFIupoobOTpPowiSGlgWfb07iwokS70raWr+eR6Mc0HNyMitHQ9fV5Oh0qgmyuFiFLKRUMX2XS1mS828rkFLpcUQiqsHYYqx2dfOpRFTr4lIbUkZenjqXwaD6LSvBunU59PSMcfbsW/h8q9C0PNrbTzE9PQR4Frwfq7UQiyWXaHSAiYnXcDobsdmKF51ncjPk5ws8auhOlKGRnipjtx5lQJXbbWfbtlocjsxKBDXNENHoENHoIA5HHVZrPlJKJiZaOXPmCWKxCBs2bGD16ruZne3k3Xef4Nlnd1Nfv5a8vErs9gqs1kX3w6K3V9LaamKxqJi9zZYZc4LXqzzJhqHyNBYrypiQLAA11yT+3+FQ886VPV8Sc04korwoif5WpnmtV8UwLu83Me8YBkxNSbq6lOZTTo4gN1ctlFc6bHWFoWFHCXk+new+5nvyLKguh5rLlb7S4wmEUEaCaUqsVpWoVFwsGBiQRKMmhYUCUGGTqipx6fvXXiyVxwGDgyYWi5JfXcwFNU2VF1JTo6XtSupGJG7qSETpjywGISxYrbZrNEp0XXl7Eg/fXXdt5ic/ucjJk6/jch3D6VzHvn3nGR8fQknuq4fW6RToun3OM5LYT6LDcE7Oevz+OoaHf8bJk39Kbe3jFBd/Fqt1UUq6N4XDYcVmswBGwtDIsjL4gRKn08e6dY9jty/cUE01odAwY2OnCQTeIRjcj9f7UcrKbsPlshMItHPixBBg0tn5JC5XB1NTPRw9+jNOnhScPPl1ysrqqKj4BQoK7l70WAYH1ara5VIJ4uk+JySwWCAnRxkCfX1KjNHj4aabWpqmUpU2TfW+MQy1r7w8tbCV8nJ7i1BIMjWlwio2m/LUJv79SgHMcFgt4qanlSFUVCRwu8Ulj4fyxExMSHp7lVRDKqIMeXkiUc5sNwyaUZ7ZpLieR6MUVeaa9lit6kRcmeizY4fOuXMmXV2S3l4Tmw0aGzWkVBZhbu61HVRXr9bQ9YSbyqSwUM+IhKflxO9XJa7d3SanTi1uOWC1+vD7y1m9euAqT1F+vqCmRqewUHVdrKn5Mz7+cTsHD36b/fuHKCg4wsc+9iXOn/8RIBBCealaWmx4vXVomlIN8ngEdXU6RUXqujmd67j//gYcjhivvHKcXbtOkp//YEoMjYYGP2VlecCQE9XFVXATJWJZkqYIKLXbS6mq+qNUjyUJJK2t3+H55/8bp0+rHK+urpf41Kc+yo4dmxkc7OD0aeV2f+WVIwSDxwmHJUeOGEQiJs8++xYNDfvYtWvdEhgaahIMhaCpScuI3IwrcbvFnG7P4KDE6xU4bzJNJxqF9naTcFjl31ksSvTRbodXXolzzz0WGhsFkYjk7FmTM2eUJyIUkng8yhOUkwMlJZcnlosXJePjJlNTqq19Y6PG1q0apqkWvYGAKmA4c8YkFFJN7Fa6sMBiUefR6xXO8XG5dKETTaO0qkromZCfkZMjWL9eXJXkabWqh6K2VlmfQoDNprwzUgqam8U1jdRcLsGaNYKGBoGuL86TEwrB0JAqqcrNzcz8DFCW+FLltOTkbGT79q+ybl0IXb98clet+kVqah7GarXOVaGUln6RD33ok9x7r4EQEYLB13A6obT0MQoLfx4p7fz+7+8nNzcfm03pYlRXP0pR0SGsVoHDoZS+y8q+yKOPfpwHH1R5Mg7HorsdZ8ks/Hl5orSuLrNmx0DgB5w48SJCbOGrX/1TXK4y3njjVxgcfJ2OjgYaGx/mvvue4uxZk1/+5W/R1LSJiYl92O3f5qmnzvOf/tOPKSoqxO1evPOst/frDA39Kw6HWonfrDcgVbjdasF04QJMTEAsJhedDtDRYdLUpLFqlUZuriAavTz5RCLQ2Snp7pbcc48+p6p99qxa+L63uKKwULB+vYbDoTxH+/cbVFUJ6uo0Ghs1olE1l9x7r47Pl7oIg9Oprv/4uARlwDuBBZf3zTeNCMBqs2XGTaXc6Fd/JoSa3O32a28oIZhXYlzT1OdLEeaIxyXBoLr5vN70Dz9dDyGWLrtc05y43c5rZIvtdh92++U4cn//P9DZeZxQKIjLJYhG47z5ZgeNjaOsXp2PxaIMi6Kipqv2Y7N5sdmuFiuxWguxWguX5gdkyTSKgYL8fGGtr8+AF9kVtLUdor//LIZhp7f379F1F6FQP+fOTeHxxFmzxovHo5IyCwqqyM1dhWl24/W60TQdv78Bn694ScYyNtbG5GQXNhsZWTnn9QrKytTCcmjIJBJZvJva6VRekoIC5SG/MlFzYkIpUrvdqqw9kbfh8wlGRq51Ynq9Klxisag56623lCSDYSTmMLXY83hIaWGG06nGeVYVHxYBLhZpaGRZJIk4HSivgK5n3gOaKmy2MgzjJ4yO7md0FEzTit+/mdtv/xzV1emngbAQLJYCdN0DDFlJJqM1y2LIB9weD2nZ/Ov96O8fY2JiCpcL+vtfBpiL36+0wvD4eIipqQh2u6CwUGRc6MTpVKFyKZXHYCmaZiYWpPN5e4NBlUvhdl8dorHZ5l/42mzMLUSdTrW4Nwx5jcc91djtItFgDaAepaex4DL9rKGRJa0oLPwoq1aN4fUWEwyCrtupqdlFQcEDGeud8Hi24nQeANqdqATFLMuPH/Dk5AgqKjJrdtT1hKe2lMrKO+Y+X70ayspWtk/L0JBkbExis6lVeaYZGiovQnk0xsaUrtFyVpfbbOraRaOqkiRhjMRiKmwzn7GRCdjtKg3gEmUoBfEFkzU0sqQdJSWfo6Tkc6kexpKRn/8gHs8+4Dk7SkQqy/JTDRR6vTqVlZkVu6ytLaK3Nx8hmmhq+pO5HC9dB5stn9HRE9dso2kOLBYvQphMTXXgckWx2Xzo+uJarA4MSEZGVOKjy5UZQl1X4nRCfr4adzDIoktcb0R+vgqRdHVJAgF5yZuimmvOziaXr6dp6prH46o6xeVShksqroHNpoouhAApcZBksUjW0MiSJcsti8XixuEoSfUwkmLt2t/lwgWTF1/8e/r6trBhg46mqQmzsfG3cDrvu2Ybt7uF4uKPYLE8w7PPPszWrTtZtep38fk+tKixhMMq3JCXd3VZZiahaWqinJiQCxbVullcLkF5ucbQkMELL8RpatKYnlaGhqqMXPg5dDgEeXmC0VHVHK6pSXXNTUVxgc2mdDwu0UKSC6asoZElyzIzNfUOweBZgBhJSvdmuWl8zLl303uC9HiKaGm5jaKiQ+TkgM3m5557vkBtbQ49PX9JMGhgtwtKSv4DPt/DCOFm7do7KSg4RF6e+m267qWpaQt/+Iefo6/v39B11aQti/IilJZq9PaaizI0LBYoLtZwOORVTTJtNsGGDTp+vxJnLCsTOJ06fX2SSERSX68xM6O6hid0ftxuwapV2lUNPDUNmps1Skq0udyN6mqNu+7iqsqWVGCzqcTam+WWNjSU6IlkaEiycaN23SqaQEBZnDk5Shs/S3owOHiW11//a+6+exd+/73z5mhMTR3kxIk9CFHIjh2/loJR3pipqX3Mzp4GZWT0png4HxR8QI7Hs5ny8i+neizvS07OGpqa/gu1tUM4nRUIYSU/vw6X6xcpK2smHE5UHtTjctUDksbGP6G6egiPpxEAIXQ8nmo2bfoNamp24XLlkZOzetFj6+lR+g6lpZmVUHslQigDwDQX1+tK15VXp7Dw6upEmw3Wr9dwuy+rQCdUlaNRld9y7pw6cEGBuGRoKAmGK3M2hIA1a5TAYyLXI/G9aFSV5a5UC433IsTipA4yytCIx9WNkohd3YiEodHaarJ+/fUNjYTymt/Pkhsa8TiY5vImIGUCphkiHp/ENEOX9CxufD5GRwO8+OKPWLPGQn7+xnkNjdnZkxw79gxCrElbQyMa7SceHwPl0ZhO8XA+KDgBq81Wjtd7xw2/nEqs1gLy8q4W1tI0G05nPU5n/bzb5ObuvOYzXXeRk7OOnJylSxidmFAuf0+2VgpNS5SYims+v7IaaGREMjAg5+aocBhGR5XmU1mZ+p7Fwpw3KkGiDPa9+1bnPq3mDztLkKNhAqFQSDoMI71+3fCwJBhUVuV79RjmwzRVjHF6Wr6vJRuNqrKkSGRpfq7FomRkAaanZUob4qQLQ0OtDA29iccDdXW/OdeZ9f0Ih6GvzyAcDmCa85/EeHycsbFZsm7iLFmWB6t1afSFPihEIqoFfOK9H4spY6GyUrvGkMgkhFDJteEwBaaZnAz5fG/7qGkyEAjIqkgkfTweoRCcOmUyPCy54w4dv5+5hmnxeMLbIdF1lSxzpfci0eAmFFI1yrquXFzv5woyTWWAJLKUrVYWLLzlcinPiBCqq99S1G6ngnhc/X5dZ1GN4UKhAO+880MOHvxb1q+vweN5mNzcAiwWO7FYmHB4Zu66OJ0erFYvmnb5ZJtmjJmZfiIRB0II7HYbTmfRdY0VKeOEwyNEIqFLPXCs5OSUXPr+yj/osZhBPG6AsoaywfMsWW5hyssFhYX6XCNKl0v1J8nU5poJVI6KoK9Plkejiy9vjQIDkQjlppk+hsbhwwYdHSbRqOTttyUOh+Chh3SiUejqkvT3S6JRic8n2LBBuzJDFtOE8XHJmTMm4+OSvDylGV9dPf+kI6UqhTp1ymRoSCXwVFUJWloyN055M/T1SSYnVclWbe3N//YDB77CW2/9kHPnDLq7L3Lo0B185jNfoKJiAxcvvs077/yIvj5JSYngvvt+iYaGXyEnZz0AUhpEIhd58cXPcfFiEKdTsHnzenbseAKHo3qeo0kikT4OH/59Dh9+jfFxSUNDPZ/4xFM4HNVXGTArRV/fMKOjkwBxssmgWbLc8tjtV1fpZFpZ8Hyo0JFAiOTXSfPNHvLSHzMzS6OkthTU1Gj4/Up8pb5ep6VFJdKEQsqD0NioUV+vMTUlefddk9HRK/XnJYcOmRQUqExfw1CGS1vbta2DpVQSsC+9FCcYlFRXC3Jzlb79qVPmgsMgCRn04WGTUCgzF7CJboM2m8DjufknpaFhJ42NGygv19iwwcVjj91OefkOYrFh7PY+Nm6s5aGHNuP3G/zf//tvnDx5em7bcNjghz/swuWyc++9zRQXV7F79wmefPJXmZ0dueZYhhHnySf/H44ceYuKilI2b65neLiDb3zjFxgd7b7p37AYgkGTSESCys+4kJJBZMmSZUVJtHC4FYyMBDf7e+bzWISA88DG6Wns4bBMi/ic3y/welX73JISMacPn5+fKLsRTE/D5KTgwgVJRYWcKx2yWAQ1NUoh0GIRWK0mFy5AZ6dJdfXVOS0qL0AlbyZazk9OCqJRk3PnTGprVRe+G2GxKMngwcHlr91eLiYnJeGwJD9fLCq2WFR0HyUlx/H5jlBd7WP9+t8nJ2ctsVg9bncLhjFLNDqGywV79hyjs/NF1q5V3gqLRbJ6dYyWli9QUrKV0tJ+4EVefvkVHn20H9OMzB0nHp9ibOx1WlvfZceOz7B1631oWhyncx/f+Mbf8uEPHyM/vwCLJX+xpyYpJiZUnhAQAcZX9OBZMhrTjBAMniUWG8blWoPdXjHv98LhLkKhNqzWItzuNQiR4X76W4R4nDmhrvl6bIEKT0ciKqzvdqdvjzHDUHOCYRBGeWcXzHyGRgToAeLT0+nj0XA4VIxL15UH43IyqGBsTLXaVUmdMDlpEo1evlpWK9TWarhcyv1TVKS60LW2mkj5XkNDcvGi8kL09alJIhxWoZehoWs9INdD11XNdSBgMDurDJjr3Wjpyvi4Sr6tqLDj99982rndXonTWYzdDm63k7y8HWiaHcMIMjw8zYULbUxPDxGPB5mcNJmaaiMUageqsVgsrF9fR0XFA3g82/B4xpmYsPDd7z7H6OgbOJ2XvRqRyAjnz3+LgYEJWlsnCAbPY5oRhocnGB42GRs7QDTasuKGxsiIarSEMuKHyOZoZFkgsdgUbW1P0Nc3xLp1v0F19fyGRl/faVpbv0NFRSVr1/5XrJmeEHALYJowMwNnzxqUl2tUVc2/WAsGVZXKzAw0N6dGkGshGIbKOTQMhoBgMtvOZ2jEgGHAnJxMdCFNvUdjPgwDurpMenvlXL1yLHZtrXQijJGwFHVdoGmCSOTa78bjiQlWXXyr9fJvLy0VCyqrVccAn08da3JSMjOTHp6hZJiclIRCEre7DL9/85Lvv6PjDY4c+RY9PT1YLJvIzfUTj3dc9R0hdFyuVWiasix13YPNVoqUJqHQOWy2y4Z1LDZNX9+rhMMx2ttPEQgMz/3bHXc8hNt9dXfXlaK/XzIyImPAJBBIySA+oEgZwzBm0PWkcteWBdMMEwwOMjjYTlXVndhsN27HGYvN0N7+NMePz+L3f5Tq+dKSgP7+bg4ceJ7Nm/2sWvVHWK1Lc6/b7er9eSn094FGTbRKb+m9BQfzocLwknPnTGw2qKqaf/IIhdQ7IhCQNDaKtO2HonIXJVISIInOrfD+oZPY6KiystKFRGwoYRwEg3D6tEluruDuu3WcTkFPj0oMvZ+N3lgAACAASURBVGIrQCmrWSyqEiQaVeEMr/faJkG6rkqR8vI0Nm9WeSGJ75jmjW+uK/eTaCM8M6PcZ4UZ1hNseFgSCoHXu4Giol9Y1L6uPIcJXnttH6Ojx3jkkYfZtu1HRKNDHD36iau2k1ISDocxjChgEg6PMD19DrvdQl7eTiyWU3Pf1XUL+fnFlJYO8ZnPfInt2x/HYvEAJqYZQdPszJ+WtHzE41N0dEQYHJRTJNHtMMuiiQLxWGyY2dnTeL23pXQwUpqEw120t/+AH/zg//A7v7Mbv78RTXOgaXakNDHNWaSMoWk5101aNs0wphlCCOulPibvPymZZgTTDCKE5dL3k7v/fT61uBofz2xDI5FvtpjtZ2YkBw6YrF0rKCnRcDovzweJykYhrj9HJL4DC9OBuvL7mpbZuR7znZIQ0MYlQ+NSbDkt0HUuGQrq/+Pxq9vpRqPQ1mYSuRy2R9PUxTpxwmR2VonPDAxIBgZM6uuv9VC4XIKmJp3ubuUpmb1UI2AYylhYaPtem01Vttjtygq+5DrPKIaHVTMlvz8fh6N2UfuyWtXfJYsYUKukxLWMRod4990HmJm5umFULBbjwIG9BAKtxOPTdHS8wv79X6GlxUZh4Q6s1oK577pctWzd+q8Eg6UcO/ZHdHX9EwCGMcv4+KsYxsoWfEhp0N//9wn58RGgf0UH8MGmDRiamTnOwMA/pnosxOPjBAKvcPz437J/f4S2tv9Nb+/XmZk5PvfvAwPf5sKF/8Ls7PHr7mdyci8XL/45gcAPrqstcyXT04e4ePG/Mjj4PeLx5FeNBQUqAT+TtYAMQ3lmF2NohMPK69DWZtDbq7zdibkxESIZHpZMT3Opp8m1JPQ1FhqCj0bV3DE4KK+7z0xhPo+GAUwAQwMD0j8xQdpEjCoqNKamTF5/PU5Zmca2bRq1tSr585ln4uTmCkpLNTqu8L5brUqBzTThlVcMgkHlDqyoEKxdq11jaNhsqg5640ZlbLS2KsvC6xWsXq1KYhfi1bBY1HitViVxfmUVTLojJUxNyUteGEFpqY4Qi/MENDVtZHDwAX72s73s3r2Lr3zln9i5U+fVV+GJJ/bh832CNWv6KSkxyc+/bLpbLBpr1hTzk5/8JT0938A0x6ipKeeLX/wzPJ5iZmcvf1fXHXi9a/niFz/LW2/9kL/+678nHP4pOTkmO3bMsGvX0+TmrqTEoaSrazczM/2QNTRWGhMwpTQWNCEvN6FQB+3tJzlwIEgsJnnppTdpaDjCbbcVYLGEeO65PyEaDWCaYSYn97N9+6M89NAnAdel7SXPP/8/2bvXSjA4RjD4AkVFT/LpT//tvK3jx8f3sHv3Tzl9eh+6PsLMjJO1a3/Erl1fo6zs9gWPO5NX0QkSCtHl5QKn8+b2MTkpOXvWJB6Hnh6TiQlJU5N6J547p2TaVZdVid8vWLPmanGuCxck09MqXy8alQgBmzbpc0qhVxKPq0KFzk7VK8U0EzLn6vsLDd8vJbOzkt7euVX2CJBU9uZ8hoZE5WlciESonZyU9pkZyEl9iJPiYoHFojE+rpRBXS7lNcjPl3PJlgUFqqFNaam6qaqqBHl5Gi6XoKBAraAT38vJURe5vFzg9epzrjCnE5qaBAUFGqGQsljVNgtzecFl6ViPR9DXl1mGhmGoHgehkKShQaO8fPFvm8LCjdxxx+/h9X6MWAxyc33k5f0iLtft9PUpz0l5uUZzs6SwsJDc3NVYLDn83u/9HZs25VJcPMvoaAyLBUpLC6mruxeLxYHP9yEee6wW8AMaFoub9es/hcu1noGBccJhZVjW1Gg4HAU3GuaSIqXk9OkRxscjAANkS1tXkggQn50NMzQ0ypo1qR2Mw1FJRcVW1q49xMmT57jttt+mpqaYoqLNSGlny5aPznnnDhz4Dj09T3P6tJW1az8LqMVKWZmHTZvuwWqtYXi4mxdf/P84ceLPcTh++5rjHTjwDIHAszQ2NlBV9SUmJgZ5+eV/oKFhD/n5xTidC/NQFhYK8vMFoZBaiRcVXRtuTnek5NJ7/+YnaaVorNHRYVJSolFaqiofbTZBcbGaGwACARgfh/Z2k+3bLx/MNNVitaICYjHB6dMmnZ0mNtu1i91AQHkxLBZ1TFCaTgMDErf7WpnylcAwrhKeXJIcDVBejbPAtvFx6RsZkXOTcipxOpUnoqLi8lh8vmtLL6/8/4ICMadDX1w8/2/IzxfkX1GIIITygrxXiz4ZEk1oiosFvb2SsTHlaluMHsVKEY/DhQsmoRBUVLiprFyA3vsNsNmKqa4uprr6nis+3cn69TtZv37+bZxOeOSRzwFQWjr/d9zu9WzefOUOBC7XatavX33d/a4UpgnHjpkJhcAhoCu1I/pAMQJMh0JRRkZSn2hms5VSWrqGpqYyNK2NjRs/TlWVaohmGNNs3PgAY2MHGB6WaJrB0FAXHR0nWbs2sT2sWnUvd975eez2asbHz3H69D/T3v48NTUPzR1HSoNwuItDh97Fbg/Q3FxHUVEYtzvC5KTkwoUXqa1du2BDw+dTOkKTk8rtf2XOWiYQDivvrBDKWLjZxmBut6CqSr3X/X5BTY2G262MmNJSMZeHZ7HIefWnfD4lseDzibkw/MWL6t3g9199Qnt7lcfE57usX2SxKK9MQYHAl1SD9qUhFlPhoUvhp2GW0NA4AUyOjChLtqYmg+6uNKKqSnD+vLJyBwYyw9AwDOXqU6WtLVRVpXjGzkCkjBGJ9HPmTJSJCTkLDKIe0CwrwwAwMTursvnTFcOYZWTkAufPv8zw8F8wPJxLb+8sMzOS2dnL4y4t1SgqWovTqYwTl6uAlhadM2dU5+kEUsaYnNxLb+8o+fmSwcGDDA4exDDA7zeIxToJhYYWPL68POX5jcVU/sFi8hxSwcyMmr+EUIvOhWggJUM0qjwQQ0PqfTk1pRaUiV5XCfLzLy+AhVCt5M+fVxUn72VkRBVhuFxqwZfYxjAksVhqqkDDYWXoXCLAEpS3wmVDY3xkRMrBQVNIqWWUJZsuVFZqeDxK+ryvT9LUlOoRvT/Kzai0REwTSks/SVHRZ1I9rIwjFhtncPDfGBiYIhymHbhIknHNLItiFJgZGZGcOrVA8ZsUEAy28c473+IHP/hnfu7nirj99p3k5R3lzJnOq7733hbnUqpVZqKj9eXP48zMnMQ0p9F1KzabG01TeR533QVVVVvw+ebvCDsfpaV2/H4r4XCYoSETKdNUTeo6KI8Gl1qzL21+g5QwNGTy2msGhYWqTYPPpxGPm/PqT0l5dfWduqbXGg7RqLqumna5P0pJiWo7f2WX2JUkEpFMTs7laAyxRB4NE+gAugYH5XRXl/RGo6StkEg6U1kp8HigvV1N3kl2111xIhHleRkbg40bNaqqMuvFki6EQgFOnPhfRCIToJ6lbCLoyjIKzMzOqtVmutLT8wp9fd9nzZp6PvGJ3VitNoaHv4zNdrWhMT6uVHoTxGIqbt/QoFFcrNHbqz7XNAfFxb9EXl4H5eUFbN36ixQX/8e57XTdgqYtPCPS691ETs5hwuHjDA0trnIjFUQiquJP06CmRlxq8740zM7C0JDyStxzj47DIRgZkfT0iKuulRqH+nM4lMExPGySl8dVPbkS5OcLrFZJWZmgvv7y+/f9SmeXm1BI/dZLXACmktn+/SJWBtBmmgxNTkpvb6+kvj7r0kiWvDyVNNTWphJ8pqZU+CRdvUOzs0oxNRaTbNt2/cZzWd6f6WmDV16ZYnbWBDiJ8mhkWTlMoHd2lu6BgVBVKNSGw1GTUmlup7Mev//DOJ17eOONL7BhwxYsllns9mpOn77I7t3KIDh16iyBgKS4+PK2Xi/s3ftX9Pf/K7m50N0dYXh4ikcf/UOKiu6mt3c3kBC4q+fhh70cOHCOp576FuvXv4DDodSQ77zzzygrW7imSGHhY+TltREOH2NgIPMMjakpVZaqaVBWpi1KNFG1ldDo6zMRQilMu93K+3D4sElenhJnDATkVYtyj0fpO8ViBj6fIByG1lbJqlVqbnhv6XBjo8bp06q31tSUCqHEYup4BQUiJQrTMzOSnh4zjsp9Gkfp1CyYG6XGnAJ6JyZo7Ow0qa9P79V4OmKxqIqH8+clExNw8aKkpSV9DY2pKcnx46qMa82aeykubkj1kDIOFXcf4JVXDGZn5QRKAG8w1eP6ADJkGPRNTw9UXbz4Nerr/zs2W/GNt1omLJYCKivv5LOf/TmkfJuZGQuVlY+wZcsaIpF/YXz8bXw+H+vWbaaubgS/X8NisVFW1sKdd0bQ9UpMc4iJicM4nTl85CO/TUPDx3E6qygsFLS0eCgtbcFi8bBp029iseyhu/ttxsbexmoVOJ0+dD05LRmbrYSSkkKKilSrh0hEufPT9f31XmZmJMPDqphhMcmgoKpWtm/XCARU2amUgpISwdatOrOzl7uH6/pl8S6HQ1BZqd73VqtgdlaJRTY2atTUqPyX2dnL21ksgsJCaGjQGBxUx4nHE+NOzbwRCqlk4FCIKNCOys9IyuS80Wl/F+gYG5N3tbaalvvu0+dEs7IsnJoajfJyc85KXbNGS8vGOdEojI6q0tbKSo36+kfJzW1O9bAyjsnJdlpbf0xHhymBc0AvSSZPZVkS+oGeYHDijmPH/p2Kij/GNr/g5oqgaTYKCmp47LEv0dOzFq/XT37+vfj9ufh8TgKBc+Tn+8jL20osNoJpRrFavTQ0fJ76+jgORzVTUwOMjm7C6fRQU/Or2O2lCGGlrKwZh+OLuN1rsVicFBQ8wvbt9dTWNjM8fAohBD6fD6+3Kulxl5SoKotTp0yGhyV2u0jpeVwo4XCiV5WkulrDZlvc3GW1KgMgJ0d5dtxuyMkRrFsnCARMrFZBbq4gHldVJyovRPXZcjiUltPEhERKid+vXSGnICgvV9UsVqsyKiorVVmxamKmznluriAVLWzGx2UiETSCyt1MOtfsRobGBeDc1JQc7ugwS0dHJYWFqREMyWRKSlQX2MOHJWfOqIZtqt9Kqkd2NZOTkp4ek3hccu+9Fioq1mGzXaeuNMt16es7w969T4Jy37+NSp7KsvL0AhcS0tG7dkk8K6nXNg+67sXnewif76GrPq+s/BKVlfNvc2WORV4eVFVdm5ydm7uT3NydV33mcq2iunrVdfujLJSiIo3aWo1jx0w6OkwKC7Ulr95YDsbHJaOjqt9UZaVYlDcDLksWXCmvAJeNiSu+OfdfDgdXhWtUTsbV29tsXJPkabGoa60kFlJ7rsfGlBIqKgH0MEkmgsLChO9PA0dDISXjfaW8d5aF4XKp+JrXq9rGd3fLtJT0HRpSDYDsdo377svF51vkk/kBRMooXV1hXn3VkKhWyq+hSi2zrDx9wMXZWWkcOmQQChlkG+cmT1mZnVWr3MRiko6OzJkDhodVvoTTqYSvdD39jaN0ZGxMMjRkwjIbGmeAozMzkjffNC51c82SLFVVgnXrNMJhyVtvGWnX+yQWUyGT8+dNfD4v27d/ndzc1akeVsYxPv4q7e0/paPDjACtl/5Srxj1wSQCDIZCXDx92mByso14fDrVY8o4/P5Hqar6HaJROHnSJJghQcDhYcnwsInbrdpNpCLscCswOioZGJAxYAwVCk7a1FyIoTEInIxGOd/VZdLVJTPmRksnioq0uVKlEyeU8ttCGuusFAMDKmzicAjuusuJ378ViyU31cPKOE6cOMH+/QeJxxkHnkZlaC+wFV+WJUYCI1JyNhqNcfLknzMxceKGG2W5GputnNLS1axdqzE+LpmYSE+P7JXEYtDbq0IneXlKSj3dQtWZgDLWJJEIEyi18Bg34RZcyKmPAJ2myf5QCI4fNzK+ZXAqcLmUGlxNjSozO3t2Tpo6LTh3zuT8eUlxcRGPP/4YLlchQmSTcZIhGDzHwYNnOXBg1EDlZfwYyC6hU0s/cMA0TfbtO8Hw8Hiqx5NxaJqN4mIXd9yhY5rQ3Z3+3aj7+5V+is2mRBMzqVImnejpMQkEJKbJMCpsclMs1MbrBl6VkpkTJ0xzaCjz29auNJqmsoq3bNGREo4eNenrkwtuO7+cjIyokMnMjGTNmgp27PglbLYUFGtnOGfOvMThw8fp6ZGjwDHUCiDN1363PEPAUdNkZu9ew+zvn8I0sy7ZZCks9HHnnVvQdZ3WVjPtm0R2dppzvVmamrIWxs3S1TUn4R8A3uEmk5wWamgMAwek5N3eXhm5cEG5/rMkR26uYMMGjbw8QUeHyYULJtPTqT+PJ06okFh5uZW77y7F670tpcJGmYckFhvlpZde5sSJMwlV3edSPaosAMwCXaZJ+8mTZuzixcPMzHSkekwZR25uLevX/woej5WODlXmmk6h3ysxTWVoTEwoQ6OhIRszuRmCQeW9Gh2VIaAHpat1UyRzBUaAJ4Dx48dN2dFhZpxKXKqxWpVXY9s2VR525oxJe3tqT6JhwMGDBgMDJs3NBezatchauA8gUsYJBJ7ntdd6OX/eDKIeyJdSPa4sc0yhqn9CZ89+k56eF1I9nozDZiumuPgB1q+3EgqpVe6VTd/SBSnVBNnZqcTF/P7U9QfJZKSE8+dVa/pwmE6Uh/amXYHJGBoTwM+AzrY2M3zypMngYPrdaOmO0ynYtctCXp7Ki2htNVOWWBWJwJEjBgMDkooKjS1bHqW6+k9TM5gMJhaL8tRTf0dXVzuoB/INsgJd6cQE8Cwwu3u3wfHjaRCvzEA8HsEv/7IVv1/j/HmlqZFuxGJw5IjJ1JSkvFxco3mRZWEkDI1LuTitLCI/A5IzNEzUyuDHsRjd589LTp1Kvxst3dF1JeC1caNGTo7gwgWTM2dW/jyaphLo2rPHYGxM8sADa7n//s1Yrb4VH0smE40O0d39j/zkJxfp74+EUXHMt8hWmqQTIZSiYXt7uzl77twBxsZeTvWYMg6HI5+dO/+c4uIKuroknZ1KTjudiEYl+/YZTE5CQ0M2bHIzGIZSMD1+3GR8XE6inp1FlWslexVMVOz5xOCgOX3qlElPT9arkQxCKCW4227TqahQzXYOHTIIBlnRUNT0tOT0aZO2NklDg8bOnQ/Q0HD3yg3gFmFkZJgf/OBJzp+fJhTiCHCAbKfWdMMAJoFXg0GGTp06yrvvvpnqMWUcuu6mrOxjbNhQiNWqykfTyasdjcLgoOqS7fFAdbWWDZvcBOGwqooMBCTRKGdQSe2Ti9lnsoaGRDWIem12lvb2dpMDBwzi8ZWdJG8F6uo0Vq/W0HU4c8bkxAljxSp54nGlm/HWWwbRqOTDH76TzZsfwuVatTIDuEWYmeng1Kmf8P3vn5IzM9GEe/4oqtY8S3phAM8DXSdODBlvvnmacLg71WPKKITQsdmK2LVrM9XVRfT2ypR4Y69HoiHkzIykqUmjoiIzerKkE1KqBmr79hmJVvcHUaGTRXGzfqWXgTcDATm5b5/B4GC23DVZrFZYt06nuVljYgJeeslgdHRlzuPEhGoFf/q0SW2txmOP/Tr19duW/8C3EFJG6ezcw/PP/w/OnjWNWIwjwB5Uf6As6YeJijOf7ew0J/fv7+TChWdTPaaM5P77P83atc2Mj0vefVdN7KleaMbjqoXC/v2qFKa5WaOkJOvNSJZwGPr6JMeOmYTDTABHgIuL3e/NGhodwAumyd6xMclLL8WZmkr9zZZpNDYK1q/XcLuhrc1k797lLxuWUnlQ3njDIC9P47d+K4e6ujoslrxlPe6tRijUz/793XznOzGJ6mb4j6jnIkt68wZwsqOjlR/96NtImaY1mmlMXt49bN1aS02NRn+/ybFjZsoXmhMTkvZ2FcovLhbU1qreUlmSY3DQ5PBhg0gEU0peQfU6W7To4GIyZQ4CzwWDzL7xhsrknpzMWhrJsnq1xgMPWIhEYPfuOF1dqsXwctHaanL0qEkoBDt3lvPzP/86Pt+65TvgLcoLLzzF00//E7OzjABPAftYZBwzy4rwOnC4u9sMPffcGCMjPyYez162ZNm5s4jt2wsYGZG89pqR8qTQixclhw6Z2GywY4d+qetplmRI9Ls6fNgAFWr8V6BzKfa9GI3pGBCSEjMW4/bxcUR5uYbfn9WUTwa7XWC1qvhid7fK4vb7BYWFS/+gjI1Jdu82OXHCZNWqSv7wD3+JNWs+hsWSVQFNhqNH/4KnnnqK11/vC4VCnAC+hgqZZHMz0p8wkGuaVEgZq/Z621m16hFcrvxUjyujcLtLmZyc5dy5o/T3SyorlRBhKnIixsYkR46YHD9uUlQk+NjHrBQWCvRsB4Wk6OqSHDxocPasnJaSvcB3Ucq6i/YgLOZSSFRXynFg9dSULLRYsObnZwVSkkHTwOEAj0ejs9O8pM8v8PmWzvUnpYphvvaaSt4tLBR86lPr+djH/gC7vRiRbQKwIEwzyvj4br7znX/ghRfO0t8vT6MexhfJSo1nChLVv8ljmvHN/f1D9ttuc1NYWInVWpDqsWUMVmshNpvBzEwPe/d2EwxK6uo0vF6x4j1FDh822bdP6RHdc4/O5s16Ngk0ScJhOHzY4MAB05icpBv4OiqxfUn864u1+WKo+M20adIyOUmu1Sr04mJBTk528looNpsgP18QCikX4NiY+qy0VGC3L/48RqNw9qzJs8+qypYPf7iZz372cUpLP5I1MhaIlHGCwX6eeeb/5Xvfe5f29mCvYfBT4DtkQyaZxjSgxWI0DQzImvLyDmprb8fna0r1uDIKr9eJrsfZv/9V2tpMKio0CgsFTufKvVOGh5UW0LlzkupqwUc+YkmJsZPpdHSYvP22wblzcsw02Qt8A6WbtST5EEvhXAqjxDxWhUJUBoPSq+uIqirVMS/LwtB1qKgQ9PVJOjpMpqchN1dlTmvazXcejEahr8/k6afjDAxI7rmnhE9/+kts2/afl/YH3OLMzo5w7NiLfOUrT9DaOj4djfIzVAxz0aVfWVYcE+XVMIF7+vpmLS0tm0RtbR1Wa06Kh5Y5WCy5WCwC09zLO+9MEgqZFBVpFBWtTPg8Hoe33lLJqFYrbN+us22bnjUykkBK5c14+eU4x49LY2aGE8C/AIdYIiMDlsbQSHACWD05ScP0NFafD8rKtGy+xgIRAhwOQUmJRiAAp06p7oNNTUpB9GbPY0+P8mQcOmRSV6fzW7/1n3nwwf+IxeJd2h9wSyM5efIwX/7yL3D2bIholNdRfX+yqk+ZyzSqf9PW8XGK8/LesFVWOikruxvIzlQLJScnl8rKZn7yk2doawvj8ynZb5drec+hYcD4uORHP4rT12eyfbvOhz9sweHIXrtkME1Vhbh7t0lfn5xA9Wj6JkscCl5KQyOEShzJn52Va/v7obpa4PEILJYlPMotjtstsNkEMzOqXKujQ7Jhg4bTmbw7sK9Psm+fyd69BnY7fO1rX+S++x7H46lDiGym1EI5dOhHfPObv8drr40ZsRidwF+iZMaXsT4oywoQB7qB+wcHZV5BQQEbNlRgt1emelwZgxBWHA4rVVVP8u67Qbq6TJxOaGxc3hXmzIzk+9+Pc+6cyg254w6durrswjYZTBOmp+Hb347R3W0Sj/NT4NuoxPYlLSFdytnGRCWGhkwTTzAoG4eGJCUlKqkxa2wsDF0Hjwc0TRAIKI/EzAwUFWl4PAv3bPT0SN580+DAAYOcHBdf+cpdPPzwb+D3r0PTnMv7I24h3n7723z3u3/Hc8+dNcbHGQb+FNUJdJQlfhizrDgGMAyUhsOURyITuTk5NtavfzDV48oYhBBYLA5KSpppaztBZ+cwU1OQkwOlpcsz609OKkGp3bsNdB3uvVdn61Z92b0otxpjY5KXXzY4csQgFOIQ8H2UzkxkqY+11MvaCDAGzJgmRSMjsjIaRXg8gtxckc3ZWCAOh0qmtdkEgYDk4kVJPC7xegV5eTc2Nvr6lJHxzjsGmgaf+EQJv/ZrX8Hvvz0bMkmC/fu/x5NPPsELLxwxentlF/Ak8D3U5JQ+2stZbpaE2NqoaVI/PT1bGYtN2BoaBMXFmxAiuzxeCEJYcLmacDpDdHT00do6TDSq2iw4HEubmBmJQHu7miC7uyW3365z5536shk1tyrT00o+/vnnDTkxwbRp8l3gBWBgOY63HP7zWSCAMjZaBgZkjmli8XqVsZH1bCwMt1vMaZL090u6uiSGAfn5qoRsPmMjHoeREWVkvPWWMjJ+7ucq+dVf/Th1dV9G110r/0MykFgsxOnTL/HEE1/l+effNXp65AXgp8Dfoe7trJFxa9EPuEMhKqanR0oN45S2efNqHI5iNM2e6rFlDBUV1UxNnaG19RQXL0qcTqisVEUBS2FsmOb/396ZB8d1XXf6e69fozcsjX0nAIIgSIoUKZKSrJWssWKXrDCRHceSUy6XnalyklLVePJHqmYmU1M1ySy2Y08qcdVkPNFYk7Icy6a2mBIpCeK+QAspECQBYiO2xtYNsLH13v3enT9OQ6Q8FgVKJDa+r+pWU1QVeHH6vXvPPfec35FI7TvviHplZaXO7/6uQUODbu8rN0EqBVeuKI4ft+jstDJZBdB/Qpqn3Za17XZd1EeRu0+fZbFubEzlJRI4yssXdyK3ETwejYYGnURCmqANDCjicUVNjY7P99GTQiYDV69Ko7RDh0yUgq98pYw//dOvsX3739ins0WSTEYZHPyAH/3oj/j1r0esiQk1DuwHfow80/Z1ydpkCPDNzbF1YCCWt3nze1RWPojHU2bnMy0Sw8ijvLyLZLKH1tZ5urstNm3SP8zT+6zOxsyM9DI5ccLE5ZJS1m3bZC20WRxKycH19GmLkyfNtGkyAvw7oJ3bmHN2O9+gOJKVX2RZ1E1MqKJQSNHUJFUUdgnS4tB1qK/XSaflAenrs5iagnvucXzk5Z2aEifjhRcyJBLwJ3/i5Dvf+bds2/afbSfjJujtPcn3v7+PF16IMjenokg9+f8GAss8NZvbSxw5IHniBuamlgAAFrdJREFUceu+w4fDPPJIJZWVdTidRcs9t1VDQcGDuN0eZmbe4tw5iytXLOrrpV37Zz1gHjlicuyYSSoFDzzgYN8+w87LuElSKWngeeSISTxOAPgfSKXJZ+5nciNut6uukHDMjFIUzcyo2q4uhc8HRUWSg2BzYzRNEkSrqzWcTo2pKRFXaW+3qKqSqp6RERGtefttk0QC/uIvnHzjG/+NjRu/hdOZt9y/wqogmRyjtfVZfvKT/8Krr06qaFRFgf8KvIg4GXb3rbXPLDCrFIWpFE2jo716TU0FtbV1OBy2vsZi0DSN4uIGSkqauXz5NYaHFcmkrPefpa3CsWMmx49bhMPSmfXJJ21hrk/DSy9lOHPGZHpaDSnFy8A/cAuFuT6OpYgJRoEJ4Gomg2tuTjUFg/JA5ufbCqKLYUFjo7BQnLPJSRgcFJ2NYFBx/rzFxYsWeXk+/vIvH+YP/uDP2bDh9/F4qpZ76quCZHKMV199jp/+9HmOH++Jh0KqF3kBX0FaJNvy4ncGGcTZmFCKpnA4WhQOjzn9/kKamu5Z7rmtGpxOL35/EVVVHjo7LxAIJIlGwevVKCu7ufU+lYKeHotDh0yGhy2am3W+8AWD+nq7lPVmSKXg1Clx1sbHVdg0aQH+D9Jx+rZfBy/V5eMc4myELQtfOKyqZmcx0mk0t5uPTW60+Sg+n+S4uFwa09OSszE+rggELEpKCvnjP/4c3/72n1Fb+3u4XKXLPd0Vj2nOMzn5S/bvf43nn3+F06e7Y6GQugg8C7yERDJsJ+POIoEk/MYTCRqDwVChUrNGdbWPqqotyz23VYPL5aGmphalLtDRMcngYBKQtgqLPVzGYtDXZ/HGGyY9PRaNjTp79jjYts3uZXIzzM9LOfBbb5kEAlY0meQtpILuHZYoUruUWU5RYBQYAQqnp1Xe1JTyJBI4vF4NrxecTjsU9kk4ndKVcGhIohlzc+Ktbt5cyNNP76Kp6Ws4nYV2AtsnEI0G6e5+jddf/x5///cttLUFJ2Mx3gd+BfxfRCfDvi65M0kDPUBePE7Z7GygMJkcMurqGigqqkW3T0WfiKY5yMnJo6FBZ2YmyMDANBMTCXQdysrksHQjM8ZickV87JhU0NXUaHzxiwY7djjw2sVzi2ZuTtHRYXHwoElvr5VJpXgHOUi1sISHqKXejZLIKfEDwB+NUhwIKN/oqDIKCjR8Pg3D+Gy9PdYqSkE8LgJe779vcfKkqVIp5hDdknQ8HnWGw0G9sdGD212A05mHw2G7/b+Jac4zNzfFhQsHee65Z/je9yatyUkzbFm8iZSv/hK73fudjkKegTbANz2takdGxgvn5o46tm9/DK+3AIfDrqf8JDTNIDd3O1u3asRiQdragvT0pHG7xdnIyfntzkYqJZGMo0dNTp40yc/XePJJgx07dAoK7I1hscTjcOGCxaFDprp82cpYFv3A3yCCg5GlnMtyHHsXFERbgahpUhkOq+q2NotYDEpLb04B804hlYLTp01efjlDa6tFOo2JnLz/OzARj7OhtzdScODASXJyfsG6ddvw+zct86xXHqHQL/nZz/4Tf/3XP6WlJWVlMswD30NyMtqwy1dtrpEGLgLpSIS7ensjhdPT/8y2bY9RWFiz3HNbNfh8d7FpkweXa5xjx4Zpb7fw+0Un6LdVjXR3S05Ga6s4GU8/bXD//eJk2AfQxdPaKlIH3d2WqRRjwDNIJejMUs9lueLrCgnbDAAdSjGfybAlFMLZ12dp6TT4/ZpdH400D+rrU7z4YoZTp0wmJlQsneYC8FfAC0A3cAnosCyMeNza0tGRorOzDV0fpLa2EJerell/h5XC669/mx/84J/Zv7+PkZH4TDrNaeA/IGHEMSQZ0MbmetLIdW8olVJ3DQ6mCzo6WrWiIo1162rtapRFoGk6Hk811dXFVFRMcerUEP39iqtXFXl516pRlJIGX6+/bnLxokVpqcYTT4jy52dpLHkncuSIlLAODFjpdJp24D8Cp5Ey1iUXHFzOi3wFxBA55wGgN5kkf25OFYZCyhUMKhIJKYu6E3M3EgnJwzh6VARqOjoU4bDqvq7xzWEk5yWBPDwTwKBlMTg/T3EwOJ3X3T3qHBrqwOW6RGlpAw5H7h2XuzE3d462tr/ixz9+lf37D/Luu+PJYDB1yTT5FZJ13YrkY9hOhs1vY2GdCipFKBajORi8mhsOjxhu9zy1tUXk5JQv9xxXPLruITe3lMrKEkpKgpw7F2J0NEM8Di6XRk4OnD5tceSISV+forZW47HHDHbvdlBUZDsZi8GyYG4OWloynDxpMTRkReJxTiE5GW8hFVXLomq8EnadFOJsdAPTpkl0dhZ3KKTyJidxzs5COq3weOROb607HMkkjIxYnD9v0dpq8t57ltXfr8YTCY5n655fBc4gD831Yf4EcirvAa7G4yRGR+e8/f39ecFgt2NsLIbLdZnc3CJcrpKl/8WWmJmZ41y48CZvvPEKL730PC++eJ6enthwNMpRRBvjX4CzSN6QfV1icyMUcqc9BKSTSUpDoVBBKDSWo+sR6uu95ORU3nFO/M3icPjIz6+ksbGITGaCUGiakZEkoRAEg6JW2d9vsX69zt69DnbtEqEvm08mmRT16HfeMTl82CQQUNPJJC1Ib6YWJJdv2da5lfJmLDQ3uoTU9UZSKRxTU8rV3W35ZmfRLEvTrKwvtlB5sVawrGsPSk+PRWurxcmTZubiRWsmGqVLKQ4hUYyDSPTn46ohLCS60YYk3cYjEYyurrjnzJn3fanUCS2TcWOaFg5HGLc7H13PAdbGy2yaUebn36e7u5vTp/+B/fuf44UX3kudOGFNxuN0KsXrSF5LCxINsrFZLApRD70A6PE4/qGhsL+/v89dWBgiL8+Dz1eGYdidkW+ERDaa2bLFIJMZoLd3ivPn0/T2WkxNKaqrNb70JYOdOx3k56+Ndel2E4lI483WVovDh00zGFQTpslxRNG4hdus+rkYVuJ2PYmEs9sBlKJsYkI5Ll2yjEDA0jMZNCmFBZAIx2qNcmQyckUyO6sYHlYcOmTy2mum2dFhxebnGUMiFz9GHpg+bq597xhSJ31JKXypFBUffGBx7FirY2Dgl7phXCQvbwO67kTXQdeNVSlVrlSGdHqGSOQqY2OXOHv2Gf72b3/CP/5jh3XmTDw2Pc0g8AbwA6SipB9bG8Pm05MG3gOilkXpxES8vKWl2+n1vqqVlW0nL68Gw3CuyndpqdA0HV0vx+u9RG/vIB0dccuyMDUNfe9eg61bdQoL19Zh8nawUInY2aloaclw4oSZmZ8nBLwM/Ag5cK6ItW4lb9EOwAOUAU8DTzkcNDscuAoKNHbv1tm500FTk8hwr0aGhhTnzpmcO2cxOGiRyYBpElSKA0ii5zvIg5Lh04e9DMAH1ALf1jS+bBg0eL0G1dUevvxlF3/4h8/Q1PQUHk/TLfm9lpJ4vJ+enr/j17/+Fb/4RZKRkRjJpEUmo6aU4k3g58BxxI4m9jWJza0hB9gKfF3T+I7LRd699+Zp3/3uv+GJJ/41Llftcs9vxZLJxDhw4PP88IcdnDuXIJVSM8gBs8nphN27Rf3z7rttZ+3jUEoOqQcPSpHA2Jgik6Efycf4X4hI5orRAVrpO7SGbJSlwDrgIeAxh4PdublaSW4uFBdrrF+vc9ddOhs2aCs63JZMwsSEorNTEp7GxiTzOhJRyWSSUcQTfRvoRV68WxXy0pCFsRxoBB7QNB7LyeG+4mLNW1JSpa1fX8aDD/r4/Oe3sGnTn+N2N6zYO+dotJPOzu/y7rsmZ85E6esbYXx8kslJFUul6ESkw99HrplCyEtnY3Or8SDr0h7gz3JztY0NDZXeffuq+eY372Xjxr9b5umtLJLJYbq73+TZZ3/G8ePn6e9PxKNRdQJZ9zqBR4Dv5OZSU1OjG7t26TzyiIPS0pW7pi8H1yumDgxYTE+rmXSao8AvkMqSCZYp6fPjWE3foBOoRDbKJuBBYJPTSbPfr/nLykRHv6xMo7xco6pKPpfb8RgbEwXP8XGL8XHF5CSEQtIcKBZTV0yT88i9b2d2DCB3wbcLN2LHjcAm4G7gvvx8GqqrdV9jYykVFQ/R3FzEli0GjY0NVFQ8TH7+fbdxSh+PUmnm59sYG3uLgYEgPT0WXV0TBAKvEwgoRkZUcn5e9WcynAPOIU5aJzDObWx7bGOTxQmUIJvkPqeTPbW1Wu0DD1TywANf5sknv0RZ2b0YRuEyT3N56el5hcOHX+LNN7s5e7bdmpxUg+k0ryGdQ9uQyq9q4GHgSZeLB0tKtIqNG3XuuUcOknd6q4pEAgYGLC5csOjqsujttUgm6bYsDiD5e+1I0ueKYzU5GtfjBbYhDsf27Gedw0Fdfr5WWFoKlZU6ZWUaxcUaBQUafj/k5mq43dLcx+2+tROKRCAaVUQiikhEEnRmZsg6FxYTE4qpKRVLJAggdfkBRAyoHehi6ZMTHUAuYrtdQHP2z42GQVl9vV7Y3KzrDQ11VFV9joqK3VRUiD3Ly3PJz1+Hx9N0yzU6pqffJhweYno6yeSkYnw8xcREO2NjRxkaCtHXZ5mDg1YkmfzQhlcQx+I80IFU49jYLCUa4ALuA74I7PV62bJ+fY7/iSe+wN69u9m27VHKyrZjGPnLO9MlxLKSDA+/QHv7PCdPHuDo0WNmW5s1g6x5byGbYx8fPVi5EaftC8CjLhc7Ghv1nK1bdTZv1qmr0+4odVClREtpZERx5Yo0z+zqsjKTk+oqcrA6AhxCDlgrVtF4LXxjfmSDvDc7GoAiIB/I93rxVVXpOVVVokRXUKBRWAgFBVK77XCAYWg4nSzaW06lIJNRmCak0zKuXlVMTV0bk5PKGh1VMSRsvzBGkZLK84gXP8XKeTjyEeftIcTp2AAUAwVOJ/nFxZpv82bd0dCgs3FjKRUVu/D791BQsO3DF19KkFl0ElckorK2FCfNNCEQ+CHDw2cZGorQ329x+bKlJifVnGV9aMMwUmbYxjU7Tt9aU9jYfGqqgUeB3wfuByoef9xwPf7472m7dz9JXV0jZWWb0XXfmk0YTaVCzMz0MzgY4ujRZ3j55RCXL1tzkQjDyOb4CnJFHL3Bj6kFfgf4OrDR6aRyxw7duXu3g8ZGjaIibc23iU+lYHpaMTqqaGszOX/eIhhUM6ZJP7KP/Bxp57GkcuKfhrX2NenIKf1hYCewA7keKEdO8EZ26G43jtJSzfB4JNrh92u43Yszx9SUxdwcRCJKTU+jZmdVBkm8sZDEzQwi8tODbIbt2c8r2b9f6TiACuBzSLRjB+J85HHNhgZg5OVp2s6dugFQV6dTUbH4aFFXl5VtDKe4csWy5ufJKIUJH44FO15vwwU72tisZKqAbwFfBercbvJ27NCdTz/dzL59P6K4uBmPx49heNA05zJP9daQSk2TSKQYGzvA6dPf57nnApw9a6ZTKWJIpc7zSFfkGzkY1+NEHLdvAU8B1W437vXrdeeePaKz4fFcOySuBadDKTm4plKKiQnFu+9aHDyYIZkkqRQx4CSijfEGq8DBWGANfDX/HxrygDqRzTAXqEGiHk3ISb1c06jQde6Caw/pYh9Uy5IHQinSlkVYKfqQnIAJxLm4CAwimvKZ68ZqqnrQ+agdvcjiuWDDbUC9plFkGDSCRDJ0ffGnjExGLdgyY5rMZO3Yi0R+hpArpUtI1Oc37Whjs5LRkWTREuApTePrhsEOr9dBWVke3/ymh8cf/wbNzV/H59u2zFO9NbS2fo2XXmrl7bdjDAxESSTMTCZDm1L8HNFz6OfmBfIcyHVKHfAVTeOrDgfbXS6NkhLYu9fBPfc4qKjQspIHq5tEAj74wOT0aZPubkUsJlHfrJbS88ApIIhU0a2WvWRNOhq/iY48qF7kxfci96k5iBMC4jX7kU11MUwj1x7zXDt1J5EvP4p4mnHW1oaoI3bzZkcuYldn9r9Brq0KbuJnziJ2nEOciRhit0R2LNjSxma1YiAR1SbgIU3jS4bBg5WVGiUllezcWcWePX527apn06b/yWpakhOJAQKBN2lt/ReOHs1w+XI7gcAMMzNqKh7nHHAAqf4KIFeeN6MD9Ju4kOrDuxE7PmQYPFxYqDkKCzXq6zW2btXZulWacq6m6EY8DqOjigsXTHp7JZ8vHFZEo4wrxXFExbgLseMsq7Bdwir6Om4rBYgTsth6zhiyCa4IMZQVRBFix8USR+z4WRYgG5vVgAuJCN4FbEYSR3eUl2vVDQ26p66uiObmr7J5s4Nt2zZQV/foiot0WFaSSOQ8V660cOHCFJcvTzEw0MXQ0CV6ey3m51VnJsNZJG/qIpKkHeLWHrjyEDs2Ile6j+g6W/PztfKKCs1ZVSWVh3V1OjU1krzuct3Cf/0WoBTMzKhs1ZzFxIRIsI+NWVy9qhKpFF1K8QHX8vkuIevkiipZvRlsR8PGxsZm6Vi4Urkf2Si3AhsdDuoLC7XqLVt07r67ifXrH6Wqajs1NVKmX1KyHZ9vI4ZxMwHDz878/HtMTfUwPh5neDhOINBGX18L7e1T9PVZ8XBYLTTFHEQSPd9Dro9vd4K2jkShH0Ly8ZqBDbpOY0GB5l+3TtNra/VspZwk/y8Ml2vxif+3AtOEaFQSO8NhxeysSB4MD1sEAoqpKRXJ6iiNIJGLC4gtu1kjEV3b0bCxsbFZPuqQ6MaD2U8/4M/JwV9drXnvvdeRFSN8isrK38Hvr8XnkxJ9nw8cDhdudz1O56dtlKhIJIYxzTni8TjRaJpkUhGNQiymGB19lt7eFi5enObsWVMNDqqYZXEVcSRGkdP2qexYLjVKF1CPJK//K+Saqgjwe73kl5VpnpoajepqnepqnaIi8HohJ0fDMMDjAYdDcjwM49NPIpGQCrp0WvIqkklJ6ozFyDoWioEBi9FRpSIRNWNZzCNXIVeAd5EKklOsjoKBm8J2NGxsbGyWHx25FnjkurGJ6yq8Sko0R0ODpm3apGubNztobtbIy6umru7fU1y8D00j27fok5d1y5JycqUsAoEfMj//Dv39V7h8OUwgIIJQXV2WGY9/WP2VQa46exCRraPAZVZeaflCxdxDiA3vRxyPBTs6/H7NUVmp6eXlGoWFGuvXSxuL4mKN/KzMyWKS2qUgQKGyKZlDQ4rZWQiHrwk0jo0pZmaUmU5/mMSeQfLPTiCORStyzXT11pphZWE7GjY2NjYrAx1JUndlRxkiSLgD2K7rbDQMyg0Dt9Mpp3FNc2AYeei6G5dLFJGrqj65IVkwqOjulit/04xgWUkyGZNMxsI0Fek0ZDJcUepDUcHzSM7FDOJwJJFNcyXmDTi4ZsdcJKdjB5JIulHXuUvXqZIqOdFRuuakScPO8nIp07+R0xaPK6anRaARJJqhlFQlmqY4cuLM0aEU7Yhj1sG1HlYLI83KtOMtw3Y0bGxsbFYmTiRRPT87coFCxAEpRfIScpGqlnxdx+N2U+12a15Nu/HankoxPz+vJpAwfQwpzw8iJ+sgkh8QRSrr5pAQf4TVV/Gw4Lwt2NGHRI5KkWrDYkQcrDT7Z5+u48nJYaPDAdoNwhpZh2wuk2Eg+1dhxH4TSPfsKaRSZAax4Txiw5UWBbrt2I6GjY2NzephoSw/D7kicCEbqDv7//zZz09a2xOI87Bwqp5FNsNo9nPiNsx9JeFGbJWL5HPkZkcO4uBVLPLnxBGHAsR2UcSWs4hjMc0aj1bY2NjY2NjY2NjY2NjY2NjY2NjY2NjY2NjY2NjY2NjY2NisDP4fuG5Kba6ip3AAAAAASUVORK5CYII=)"
      ],
      "metadata": {
        "id": "KWQUpm6CucLm"
      }
    },
    {
      "cell_type": "markdown",
      "source": [
        "###**Criação dos DataFrames**\n",
        "Antes de entrar nos joins, vamos construir alguns datasets para serem usados de exemplos. Vamos supor que você trabalhe numa companhia que vende eletrodomésticos. Você possui as informações de clientes que foram até a loja A e realizaram o cadastro em algum momento, também possui informações de clientes que se cadastraram na loja B e possui uma terceira base com todas informações de compras já feitas em qualquer uma das duas lojas:"
      ],
      "metadata": {
        "id": "0s_2N4i5uvQM"
      }
    },
    {
      "cell_type": "markdown",
      "source": [
        "####**Cadastro da Loja A**"
      ],
      "metadata": {
        "id": "7QgQpYRovGLG"
      }
    },
    {
      "cell_type": "code",
      "source": [
        "# Cadastro da loja A\n",
        "cadastro_a = {'Id': ['AA2930','BB4563','CC2139','DE2521','GT3462','HH1158'],\n",
        "'Nome': ['Andre', 'Amanda', 'Bruna', 'Carlos', 'Jose', 'Maria'],\n",
        "'Idade': [20,35,40,54,29,25],\n",
        "'CEP': ['00092-029','11111-111','22222-888','00000-999','99999-111','55555-666']\n",
        "}\n",
        "\n",
        "cadastro_a = pd.DataFrame(cadastro_a, columns = ['Id','Nome','Idade','CEP'])\n",
        "print(cadastro_a)"
      ],
      "metadata": {
        "id": "hrdpcEkSu8GF",
        "colab": {
          "base_uri": "https://localhost:8080/"
        },
        "outputId": "8f4b8616-bb69-4ee1-b3cf-a7ed38ca2d58"
      },
      "execution_count": 13,
      "outputs": [
        {
          "output_type": "stream",
          "name": "stdout",
          "text": [
            "       Id    Nome  Idade        CEP\n",
            "0  AA2930   Andre     20  00092-029\n",
            "1  BB4563  Amanda     35  11111-111\n",
            "2  CC2139   Bruna     40  22222-888\n",
            "3  DE2521  Carlos     54  00000-999\n",
            "4  GT3462    Jose     29  99999-111\n",
            "5  HH1158   Maria     25  55555-666\n"
          ]
        }
      ]
    },
    {
      "cell_type": "markdown",
      "source": [
        "####**Criação da Loja B**"
      ],
      "metadata": {
        "id": "Ud-hyAgAvRbT"
      }
    },
    {
      "cell_type": "code",
      "source": [
        "# Cadastro da loja B\n",
        "cadastro_b = {'Id': ['CC9999','EF4488','DD9999','GT3462','HH1158'],\n",
        "'Nome': ['Marcos', 'Patricia', 'Rafaela', 'Jose', 'Maria'],\n",
        "'Idade': [19,30,22,29,25],\n",
        "'CEP': ['00092-029','11111-111','22222-888','99999-111','55555-666']\n",
        "}\n",
        "\n",
        "cadastro_b = pd.DataFrame(cadastro_b, columns = ['Id','Nome','Idade','CEP'])\n",
        "print(cadastro_b)"
      ],
      "metadata": {
        "id": "f3KeZPbNvQnw",
        "colab": {
          "base_uri": "https://localhost:8080/"
        },
        "outputId": "b313a5c3-5ef1-431e-dc3d-9cf6c510553f"
      },
      "execution_count": 14,
      "outputs": [
        {
          "output_type": "stream",
          "name": "stdout",
          "text": [
            "       Id      Nome  Idade        CEP\n",
            "0  CC9999    Marcos     19  00092-029\n",
            "1  EF4488  Patricia     30  11111-111\n",
            "2  DD9999   Rafaela     22  22222-888\n",
            "3  GT3462      Jose     29  99999-111\n",
            "4  HH1158     Maria     25  55555-666\n"
          ]
        }
      ]
    },
    {
      "cell_type": "markdown",
      "source": [
        "####**Criação dos Registros de Compras de Todas as Unidades**"
      ],
      "metadata": {
        "id": "3wjYB6flvWST"
      }
    },
    {
      "cell_type": "code",
      "source": [
        "# Registro de compras de todas unidades\n",
        "compras = {'Id': ['AA2930','EF4488','CC2139','EF4488','CC9999','AA2930','HH1158','HH1158'],\n",
        "'Data': ['2019-01-01','2019-01-30','2019-01-30','2019-02-01','2019-02-20','2019-03-15','2019-04-01','2019-04-10'],\n",
        "'Valor': [200,100,40,150,300,25,50,500]\n",
        "}\n",
        "\n",
        "compras = pd.DataFrame(compras, columns = ['Id','Data','Valor'])\n",
        "print(compras)"
      ],
      "metadata": {
        "id": "iR6A7EgrvZcT",
        "colab": {
          "base_uri": "https://localhost:8080/"
        },
        "outputId": "af36e894-1790-4744-8a0c-628f655d89f6"
      },
      "execution_count": 15,
      "outputs": [
        {
          "output_type": "stream",
          "name": "stdout",
          "text": [
            "       Id        Data  Valor\n",
            "0  AA2930  2019-01-01    200\n",
            "1  EF4488  2019-01-30    100\n",
            "2  CC2139  2019-01-30     40\n",
            "3  EF4488  2019-02-01    150\n",
            "4  CC9999  2019-02-20    300\n",
            "5  AA2930  2019-03-15     25\n",
            "6  HH1158  2019-04-01     50\n",
            "7  HH1158  2019-04-10    500\n"
          ]
        }
      ]
    },
    {
      "cell_type": "markdown",
      "source": [
        "As informações podem ser vistas abaixo:\n",
        "\n",
        "\n",
        "![image.png](data:image/png;base64,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)"
      ],
      "metadata": {
        "id": "3h3a62KMviSm"
      }
    },
    {
      "cell_type": "markdown",
      "source": [
        "Você vai ver que este tipo de arranjo é comum em qualquer empresa. A primeira tabela no canto superior esquerdo possui as informações cadastrais dos clientes que em algum momento foram até a loja A e fizeram seu cadastro; enquanto a segunda tabela, no canto superior direito, possui as informações de todos os clientes que já foram até a loja B e realizaram seu cadastro; já a terceira tabela, na parte inferior, é uma base com o histórico de todas as compras feitas em qualquer loja que faça parte da rede da companhia. Seja para fazer um modelo ou uma análise exploratória em que se busque entender como gastam os clientes de acordo com a localização ou a idade, unir as tabelas será essencial."
      ],
      "metadata": {
        "id": "qYD75Z7Zwb20"
      }
    },
    {
      "cell_type": "markdown",
      "source": [
        "###**Sintaxe do Merge**\n",
        "\n",
        "O merge da biblioteca Pandas é bem intuitivo. Em suma, você precisa fornecer as duas bases, indicar qual coluna deve ser utilizada para unir – i.e., qual coluna as duas tabelas possuem em comum – e qual o tipo de join a ser feito:"
      ],
      "metadata": {
        "id": "WQsiuZoMvp2M"
      }
    },
    {
      "cell_type": "code",
      "source": [
        "#SINTAXE\n",
        "#pd.merge(tabela_da_esquerda, tabela_da_direita, on=\"coluna_coincidente\", how=\"left|right|inner|outer)"
      ],
      "metadata": {
        "id": "POEzQ8xfvzkE"
      },
      "execution_count": null,
      "outputs": []
    },
    {
      "cell_type": "markdown",
      "source": [
        "Havendo mais de uma coluna que você queira utilizar para unir as tabelas (veremos exemplos mais abaixo):"
      ],
      "metadata": {
        "id": "eaxWeBLJv7kM"
      }
    },
    {
      "cell_type": "code",
      "source": [
        "#pd.merge(tabela_da_esquerda, tabela_da_direita, on=[\"coluna_1\",\"coluna_2\"], how=\"left|right|inner|outer\")"
      ],
      "metadata": {
        "id": "8tEWYZTtv-Mw"
      },
      "execution_count": null,
      "outputs": []
    },
    {
      "cell_type": "markdown",
      "source": [
        "Caso os nomes das colunas utilizadas para a união sejam diferentes, você pode indicar o nome que a coluna coincidente possui na tabela da esquerda com o LEFT_ON e o nome que ela possui na tabela da direita com o RIGHT_ON, ao invés de utilizar somente o ON."
      ],
      "metadata": {
        "id": "yBc6DjeZwDus"
      }
    },
    {
      "cell_type": "code",
      "source": [
        "#pd.merge(tabela_da_esquerda, tabela_da_direita, right_on=[\"coluna_direita_1\",\"coluna_direita_2\"], left_on=[\"coluna_esquerda_1\",\"coluna_esquerda_2\"],how=\"left|right|inner|outer\")"
      ],
      "metadata": {
        "id": "UR4kahEGwHXb"
      },
      "execution_count": null,
      "outputs": []
    },
    {
      "cell_type": "markdown",
      "source": [
        "##**Prática II**"
      ],
      "metadata": {
        "id": "Phbuxp40wmt8"
      }
    },
    {
      "cell_type": "markdown",
      "source": [
        "###**Exercício 1**\n",
        "Suponha que a loja A e B sejam marcas diferentes dentro da rede de marcas da companhia. Você quer saber quais clientes frequentam tanto a loja A quanto a loja B. Ou seja, você quer a intersecção das duas tabelas de cadastro. Neste caso, você deve utilizar a função pd.merge() com o argumento how=’inner’. Como aqui não importa qual tabela recebe a informação, vamos colocar a tabela da direita como sendo o cadastro da loja A."
      ],
      "metadata": {
        "id": "kRunsirdxG6c"
      }
    },
    {
      "cell_type": "code",
      "source": [
        "##Substitua os valores de X, Y e W pelos campos e condições corretas e rode o código. \n",
        "#pd.merge(cadastro_a, XXXXXXXXXX, on=[\"YY\"], how=\"WWWWWW\")\n",
        "\n",
        "pd.merge(cadastro_a, cadastro_b, on= 'Id', how=\"inner\")"
      ],
      "metadata": {
        "id": "YxJx20-ow0sC",
        "colab": {
          "base_uri": "https://localhost:8080/",
          "height": 112
        },
        "outputId": "ddc4e9d3-1ed9-4f51-c8d4-4ccf64b7248d"
      },
      "execution_count": 21,
      "outputs": [
        {
          "output_type": "execute_result",
          "data": {
            "text/plain": [
              "       Id Nome_x  Idade_x      CEP_x Nome_y  Idade_y      CEP_y\n",
              "0  GT3462   Jose       29  99999-111   Jose       29  99999-111\n",
              "1  HH1158  Maria       25  55555-666  Maria       25  55555-666"
            ],
            "text/html": [
              "\n",
              "  <div id=\"df-6dcdc000-0cdf-4471-b22a-f958eed096a6\">\n",
              "    <div class=\"colab-df-container\">\n",
              "      <div>\n",
              "<style scoped>\n",
              "    .dataframe tbody tr th:only-of-type {\n",
              "        vertical-align: middle;\n",
              "    }\n",
              "\n",
              "    .dataframe tbody tr th {\n",
              "        vertical-align: top;\n",
              "    }\n",
              "\n",
              "    .dataframe thead th {\n",
              "        text-align: right;\n",
              "    }\n",
              "</style>\n",
              "<table border=\"1\" class=\"dataframe\">\n",
              "  <thead>\n",
              "    <tr style=\"text-align: right;\">\n",
              "      <th></th>\n",
              "      <th>Id</th>\n",
              "      <th>Nome_x</th>\n",
              "      <th>Idade_x</th>\n",
              "      <th>CEP_x</th>\n",
              "      <th>Nome_y</th>\n",
              "      <th>Idade_y</th>\n",
              "      <th>CEP_y</th>\n",
              "    </tr>\n",
              "  </thead>\n",
              "  <tbody>\n",
              "    <tr>\n",
              "      <th>0</th>\n",
              "      <td>GT3462</td>\n",
              "      <td>Jose</td>\n",
              "      <td>29</td>\n",
              "      <td>99999-111</td>\n",
              "      <td>Jose</td>\n",
              "      <td>29</td>\n",
              "      <td>99999-111</td>\n",
              "    </tr>\n",
              "    <tr>\n",
              "      <th>1</th>\n",
              "      <td>HH1158</td>\n",
              "      <td>Maria</td>\n",
              "      <td>25</td>\n",
              "      <td>55555-666</td>\n",
              "      <td>Maria</td>\n",
              "      <td>25</td>\n",
              "      <td>55555-666</td>\n",
              "    </tr>\n",
              "  </tbody>\n",
              "</table>\n",
              "</div>\n",
              "      <button class=\"colab-df-convert\" onclick=\"convertToInteractive('df-6dcdc000-0cdf-4471-b22a-f958eed096a6')\"\n",
              "              title=\"Convert this dataframe to an interactive table.\"\n",
              "              style=\"display:none;\">\n",
              "        \n",
              "  <svg xmlns=\"http://www.w3.org/2000/svg\" height=\"24px\"viewBox=\"0 0 24 24\"\n",
              "       width=\"24px\">\n",
              "    <path d=\"M0 0h24v24H0V0z\" fill=\"none\"/>\n",
              "    <path d=\"M18.56 5.44l.94 2.06.94-2.06 2.06-.94-2.06-.94-.94-2.06-.94 2.06-2.06.94zm-11 1L8.5 8.5l.94-2.06 2.06-.94-2.06-.94L8.5 2.5l-.94 2.06-2.06.94zm10 10l.94 2.06.94-2.06 2.06-.94-2.06-.94-.94-2.06-.94 2.06-2.06.94z\"/><path d=\"M17.41 7.96l-1.37-1.37c-.4-.4-.92-.59-1.43-.59-.52 0-1.04.2-1.43.59L10.3 9.45l-7.72 7.72c-.78.78-.78 2.05 0 2.83L4 21.41c.39.39.9.59 1.41.59.51 0 1.02-.2 1.41-.59l7.78-7.78 2.81-2.81c.8-.78.8-2.07 0-2.86zM5.41 20L4 18.59l7.72-7.72 1.47 1.35L5.41 20z\"/>\n",
              "  </svg>\n",
              "      </button>\n",
              "      \n",
              "  <style>\n",
              "    .colab-df-container {\n",
              "      display:flex;\n",
              "      flex-wrap:wrap;\n",
              "      gap: 12px;\n",
              "    }\n",
              "\n",
              "    .colab-df-convert {\n",
              "      background-color: #E8F0FE;\n",
              "      border: none;\n",
              "      border-radius: 50%;\n",
              "      cursor: pointer;\n",
              "      display: none;\n",
              "      fill: #1967D2;\n",
              "      height: 32px;\n",
              "      padding: 0 0 0 0;\n",
              "      width: 32px;\n",
              "    }\n",
              "\n",
              "    .colab-df-convert:hover {\n",
              "      background-color: #E2EBFA;\n",
              "      box-shadow: 0px 1px 2px rgba(60, 64, 67, 0.3), 0px 1px 3px 1px rgba(60, 64, 67, 0.15);\n",
              "      fill: #174EA6;\n",
              "    }\n",
              "\n",
              "    [theme=dark] .colab-df-convert {\n",
              "      background-color: #3B4455;\n",
              "      fill: #D2E3FC;\n",
              "    }\n",
              "\n",
              "    [theme=dark] .colab-df-convert:hover {\n",
              "      background-color: #434B5C;\n",
              "      box-shadow: 0px 1px 3px 1px rgba(0, 0, 0, 0.15);\n",
              "      filter: drop-shadow(0px 1px 2px rgba(0, 0, 0, 0.3));\n",
              "      fill: #FFFFFF;\n",
              "    }\n",
              "  </style>\n",
              "\n",
              "      <script>\n",
              "        const buttonEl =\n",
              "          document.querySelector('#df-6dcdc000-0cdf-4471-b22a-f958eed096a6 button.colab-df-convert');\n",
              "        buttonEl.style.display =\n",
              "          google.colab.kernel.accessAllowed ? 'block' : 'none';\n",
              "\n",
              "        async function convertToInteractive(key) {\n",
              "          const element = document.querySelector('#df-6dcdc000-0cdf-4471-b22a-f958eed096a6');\n",
              "          const dataTable =\n",
              "            await google.colab.kernel.invokeFunction('convertToInteractive',\n",
              "                                                     [key], {});\n",
              "          if (!dataTable) return;\n",
              "\n",
              "          const docLinkHtml = 'Like what you see? Visit the ' +\n",
              "            '<a target=\"_blank\" href=https://colab.research.google.com/notebooks/data_table.ipynb>data table notebook</a>'\n",
              "            + ' to learn more about interactive tables.';\n",
              "          element.innerHTML = '';\n",
              "          dataTable['output_type'] = 'display_data';\n",
              "          await google.colab.output.renderOutput(dataTable, element);\n",
              "          const docLink = document.createElement('div');\n",
              "          docLink.innerHTML = docLinkHtml;\n",
              "          element.appendChild(docLink);\n",
              "        }\n",
              "      </script>\n",
              "    </div>\n",
              "  </div>\n",
              "  "
            ]
          },
          "metadata": {},
          "execution_count": 21
        }
      ]
    },
    {
      "cell_type": "markdown",
      "source": [
        "###**Exercício 2**\n",
        "\n",
        "Vamos supor que você só estivesse fazendo isso para verificar se o cadastro dos dois estava igual. Ou seja, você quisesse trazer somente as informações de idade e CEP do cadastro da loja B. Neste caso, faça o join com a base de cadastro da loja B filtrada com as colunas que você quer:"
      ],
      "metadata": {
        "id": "GoOZ957-zID1"
      }
    },
    {
      "cell_type": "code",
      "source": [
        "##Substitua os valores de X e Y pelos campos corretos e rode o código.\n",
        "pd.merge(cadastro_a, cadastro_b[['Id','Idade','CEP']], on=[\"Id\"], how=\"inner\")"
      ],
      "metadata": {
        "id": "pSpjhvCozRSU",
        "colab": {
          "base_uri": "https://localhost:8080/",
          "height": 112
        },
        "outputId": "2c79eb98-0c1f-4727-844b-2a16e2590e45"
      },
      "execution_count": 28,
      "outputs": [
        {
          "output_type": "execute_result",
          "data": {
            "text/plain": [
              "       Id   Nome  Idade_x      CEP_x  Idade_y      CEP_y\n",
              "0  GT3462   Jose       29  99999-111       29  99999-111\n",
              "1  HH1158  Maria       25  55555-666       25  55555-666"
            ],
            "text/html": [
              "\n",
              "  <div id=\"df-4f77d8c8-1a33-4e34-b0be-68663d149939\">\n",
              "    <div class=\"colab-df-container\">\n",
              "      <div>\n",
              "<style scoped>\n",
              "    .dataframe tbody tr th:only-of-type {\n",
              "        vertical-align: middle;\n",
              "    }\n",
              "\n",
              "    .dataframe tbody tr th {\n",
              "        vertical-align: top;\n",
              "    }\n",
              "\n",
              "    .dataframe thead th {\n",
              "        text-align: right;\n",
              "    }\n",
              "</style>\n",
              "<table border=\"1\" class=\"dataframe\">\n",
              "  <thead>\n",
              "    <tr style=\"text-align: right;\">\n",
              "      <th></th>\n",
              "      <th>Id</th>\n",
              "      <th>Nome</th>\n",
              "      <th>Idade_x</th>\n",
              "      <th>CEP_x</th>\n",
              "      <th>Idade_y</th>\n",
              "      <th>CEP_y</th>\n",
              "    </tr>\n",
              "  </thead>\n",
              "  <tbody>\n",
              "    <tr>\n",
              "      <th>0</th>\n",
              "      <td>GT3462</td>\n",
              "      <td>Jose</td>\n",
              "      <td>29</td>\n",
              "      <td>99999-111</td>\n",
              "      <td>29</td>\n",
              "      <td>99999-111</td>\n",
              "    </tr>\n",
              "    <tr>\n",
              "      <th>1</th>\n",
              "      <td>HH1158</td>\n",
              "      <td>Maria</td>\n",
              "      <td>25</td>\n",
              "      <td>55555-666</td>\n",
              "      <td>25</td>\n",
              "      <td>55555-666</td>\n",
              "    </tr>\n",
              "  </tbody>\n",
              "</table>\n",
              "</div>\n",
              "      <button class=\"colab-df-convert\" onclick=\"convertToInteractive('df-4f77d8c8-1a33-4e34-b0be-68663d149939')\"\n",
              "              title=\"Convert this dataframe to an interactive table.\"\n",
              "              style=\"display:none;\">\n",
              "        \n",
              "  <svg xmlns=\"http://www.w3.org/2000/svg\" height=\"24px\"viewBox=\"0 0 24 24\"\n",
              "       width=\"24px\">\n",
              "    <path d=\"M0 0h24v24H0V0z\" fill=\"none\"/>\n",
              "    <path d=\"M18.56 5.44l.94 2.06.94-2.06 2.06-.94-2.06-.94-.94-2.06-.94 2.06-2.06.94zm-11 1L8.5 8.5l.94-2.06 2.06-.94-2.06-.94L8.5 2.5l-.94 2.06-2.06.94zm10 10l.94 2.06.94-2.06 2.06-.94-2.06-.94-.94-2.06-.94 2.06-2.06.94z\"/><path d=\"M17.41 7.96l-1.37-1.37c-.4-.4-.92-.59-1.43-.59-.52 0-1.04.2-1.43.59L10.3 9.45l-7.72 7.72c-.78.78-.78 2.05 0 2.83L4 21.41c.39.39.9.59 1.41.59.51 0 1.02-.2 1.41-.59l7.78-7.78 2.81-2.81c.8-.78.8-2.07 0-2.86zM5.41 20L4 18.59l7.72-7.72 1.47 1.35L5.41 20z\"/>\n",
              "  </svg>\n",
              "      </button>\n",
              "      \n",
              "  <style>\n",
              "    .colab-df-container {\n",
              "      display:flex;\n",
              "      flex-wrap:wrap;\n",
              "      gap: 12px;\n",
              "    }\n",
              "\n",
              "    .colab-df-convert {\n",
              "      background-color: #E8F0FE;\n",
              "      border: none;\n",
              "      border-radius: 50%;\n",
              "      cursor: pointer;\n",
              "      display: none;\n",
              "      fill: #1967D2;\n",
              "      height: 32px;\n",
              "      padding: 0 0 0 0;\n",
              "      width: 32px;\n",
              "    }\n",
              "\n",
              "    .colab-df-convert:hover {\n",
              "      background-color: #E2EBFA;\n",
              "      box-shadow: 0px 1px 2px rgba(60, 64, 67, 0.3), 0px 1px 3px 1px rgba(60, 64, 67, 0.15);\n",
              "      fill: #174EA6;\n",
              "    }\n",
              "\n",
              "    [theme=dark] .colab-df-convert {\n",
              "      background-color: #3B4455;\n",
              "      fill: #D2E3FC;\n",
              "    }\n",
              "\n",
              "    [theme=dark] .colab-df-convert:hover {\n",
              "      background-color: #434B5C;\n",
              "      box-shadow: 0px 1px 3px 1px rgba(0, 0, 0, 0.15);\n",
              "      filter: drop-shadow(0px 1px 2px rgba(0, 0, 0, 0.3));\n",
              "      fill: #FFFFFF;\n",
              "    }\n",
              "  </style>\n",
              "\n",
              "      <script>\n",
              "        const buttonEl =\n",
              "          document.querySelector('#df-4f77d8c8-1a33-4e34-b0be-68663d149939 button.colab-df-convert');\n",
              "        buttonEl.style.display =\n",
              "          google.colab.kernel.accessAllowed ? 'block' : 'none';\n",
              "\n",
              "        async function convertToInteractive(key) {\n",
              "          const element = document.querySelector('#df-4f77d8c8-1a33-4e34-b0be-68663d149939');\n",
              "          const dataTable =\n",
              "            await google.colab.kernel.invokeFunction('convertToInteractive',\n",
              "                                                     [key], {});\n",
              "          if (!dataTable) return;\n",
              "\n",
              "          const docLinkHtml = 'Like what you see? Visit the ' +\n",
              "            '<a target=\"_blank\" href=https://colab.research.google.com/notebooks/data_table.ipynb>data table notebook</a>'\n",
              "            + ' to learn more about interactive tables.';\n",
              "          element.innerHTML = '';\n",
              "          dataTable['output_type'] = 'display_data';\n",
              "          await google.colab.output.renderOutput(dataTable, element);\n",
              "          const docLink = document.createElement('div');\n",
              "          docLink.innerHTML = docLinkHtml;\n",
              "          element.appendChild(docLink);\n",
              "        }\n",
              "      </script>\n",
              "    </div>\n",
              "  </div>\n",
              "  "
            ]
          },
          "metadata": {},
          "execution_count": 28
        }
      ]
    },
    {
      "cell_type": "markdown",
      "source": [
        "###**Exercício 3**\n",
        "O gerente da loja A quer saber quais os clientes que fizeram compras na loja e o valor gasto. Para isso, você precisa trazer as informações da terceira tabela do nosso exemplo para a primeira, utilizando o left join:\n"
      ],
      "metadata": {
        "id": "tcMZunubzlps"
      }
    },
    {
      "cell_type": "code",
      "source": [
        "pd.merge(cadastro_a, compras[['Id', 'Valor']], on='Id', how='left')\n"
      ],
      "metadata": {
        "id": "xJWsFWJU0Mdv",
        "colab": {
          "base_uri": "https://localhost:8080/",
          "height": 300
        },
        "outputId": "f3acec01-2e68-4055-af1a-a7584e239137"
      },
      "execution_count": 36,
      "outputs": [
        {
          "output_type": "execute_result",
          "data": {
            "text/plain": [
              "       Id    Nome  Idade        CEP  Valor\n",
              "0  AA2930   Andre     20  00092-029  200.0\n",
              "1  AA2930   Andre     20  00092-029   25.0\n",
              "2  BB4563  Amanda     35  11111-111    NaN\n",
              "3  CC2139   Bruna     40  22222-888   40.0\n",
              "4  DE2521  Carlos     54  00000-999    NaN\n",
              "5  GT3462    Jose     29  99999-111    NaN\n",
              "6  HH1158   Maria     25  55555-666   50.0\n",
              "7  HH1158   Maria     25  55555-666  500.0"
            ],
            "text/html": [
              "\n",
              "  <div id=\"df-4201c9cb-bf5d-4c36-a889-1353d18afeae\">\n",
              "    <div class=\"colab-df-container\">\n",
              "      <div>\n",
              "<style scoped>\n",
              "    .dataframe tbody tr th:only-of-type {\n",
              "        vertical-align: middle;\n",
              "    }\n",
              "\n",
              "    .dataframe tbody tr th {\n",
              "        vertical-align: top;\n",
              "    }\n",
              "\n",
              "    .dataframe thead th {\n",
              "        text-align: right;\n",
              "    }\n",
              "</style>\n",
              "<table border=\"1\" class=\"dataframe\">\n",
              "  <thead>\n",
              "    <tr style=\"text-align: right;\">\n",
              "      <th></th>\n",
              "      <th>Id</th>\n",
              "      <th>Nome</th>\n",
              "      <th>Idade</th>\n",
              "      <th>CEP</th>\n",
              "      <th>Valor</th>\n",
              "    </tr>\n",
              "  </thead>\n",
              "  <tbody>\n",
              "    <tr>\n",
              "      <th>0</th>\n",
              "      <td>AA2930</td>\n",
              "      <td>Andre</td>\n",
              "      <td>20</td>\n",
              "      <td>00092-029</td>\n",
              "      <td>200.0</td>\n",
              "    </tr>\n",
              "    <tr>\n",
              "      <th>1</th>\n",
              "      <td>AA2930</td>\n",
              "      <td>Andre</td>\n",
              "      <td>20</td>\n",
              "      <td>00092-029</td>\n",
              "      <td>25.0</td>\n",
              "    </tr>\n",
              "    <tr>\n",
              "      <th>2</th>\n",
              "      <td>BB4563</td>\n",
              "      <td>Amanda</td>\n",
              "      <td>35</td>\n",
              "      <td>11111-111</td>\n",
              "      <td>NaN</td>\n",
              "    </tr>\n",
              "    <tr>\n",
              "      <th>3</th>\n",
              "      <td>CC2139</td>\n",
              "      <td>Bruna</td>\n",
              "      <td>40</td>\n",
              "      <td>22222-888</td>\n",
              "      <td>40.0</td>\n",
              "    </tr>\n",
              "    <tr>\n",
              "      <th>4</th>\n",
              "      <td>DE2521</td>\n",
              "      <td>Carlos</td>\n",
              "      <td>54</td>\n",
              "      <td>00000-999</td>\n",
              "      <td>NaN</td>\n",
              "    </tr>\n",
              "    <tr>\n",
              "      <th>5</th>\n",
              "      <td>GT3462</td>\n",
              "      <td>Jose</td>\n",
              "      <td>29</td>\n",
              "      <td>99999-111</td>\n",
              "      <td>NaN</td>\n",
              "    </tr>\n",
              "    <tr>\n",
              "      <th>6</th>\n",
              "      <td>HH1158</td>\n",
              "      <td>Maria</td>\n",
              "      <td>25</td>\n",
              "      <td>55555-666</td>\n",
              "      <td>50.0</td>\n",
              "    </tr>\n",
              "    <tr>\n",
              "      <th>7</th>\n",
              "      <td>HH1158</td>\n",
              "      <td>Maria</td>\n",
              "      <td>25</td>\n",
              "      <td>55555-666</td>\n",
              "      <td>500.0</td>\n",
              "    </tr>\n",
              "  </tbody>\n",
              "</table>\n",
              "</div>\n",
              "      <button class=\"colab-df-convert\" onclick=\"convertToInteractive('df-4201c9cb-bf5d-4c36-a889-1353d18afeae')\"\n",
              "              title=\"Convert this dataframe to an interactive table.\"\n",
              "              style=\"display:none;\">\n",
              "        \n",
              "  <svg xmlns=\"http://www.w3.org/2000/svg\" height=\"24px\"viewBox=\"0 0 24 24\"\n",
              "       width=\"24px\">\n",
              "    <path d=\"M0 0h24v24H0V0z\" fill=\"none\"/>\n",
              "    <path d=\"M18.56 5.44l.94 2.06.94-2.06 2.06-.94-2.06-.94-.94-2.06-.94 2.06-2.06.94zm-11 1L8.5 8.5l.94-2.06 2.06-.94-2.06-.94L8.5 2.5l-.94 2.06-2.06.94zm10 10l.94 2.06.94-2.06 2.06-.94-2.06-.94-.94-2.06-.94 2.06-2.06.94z\"/><path d=\"M17.41 7.96l-1.37-1.37c-.4-.4-.92-.59-1.43-.59-.52 0-1.04.2-1.43.59L10.3 9.45l-7.72 7.72c-.78.78-.78 2.05 0 2.83L4 21.41c.39.39.9.59 1.41.59.51 0 1.02-.2 1.41-.59l7.78-7.78 2.81-2.81c.8-.78.8-2.07 0-2.86zM5.41 20L4 18.59l7.72-7.72 1.47 1.35L5.41 20z\"/>\n",
              "  </svg>\n",
              "      </button>\n",
              "      \n",
              "  <style>\n",
              "    .colab-df-container {\n",
              "      display:flex;\n",
              "      flex-wrap:wrap;\n",
              "      gap: 12px;\n",
              "    }\n",
              "\n",
              "    .colab-df-convert {\n",
              "      background-color: #E8F0FE;\n",
              "      border: none;\n",
              "      border-radius: 50%;\n",
              "      cursor: pointer;\n",
              "      display: none;\n",
              "      fill: #1967D2;\n",
              "      height: 32px;\n",
              "      padding: 0 0 0 0;\n",
              "      width: 32px;\n",
              "    }\n",
              "\n",
              "    .colab-df-convert:hover {\n",
              "      background-color: #E2EBFA;\n",
              "      box-shadow: 0px 1px 2px rgba(60, 64, 67, 0.3), 0px 1px 3px 1px rgba(60, 64, 67, 0.15);\n",
              "      fill: #174EA6;\n",
              "    }\n",
              "\n",
              "    [theme=dark] .colab-df-convert {\n",
              "      background-color: #3B4455;\n",
              "      fill: #D2E3FC;\n",
              "    }\n",
              "\n",
              "    [theme=dark] .colab-df-convert:hover {\n",
              "      background-color: #434B5C;\n",
              "      box-shadow: 0px 1px 3px 1px rgba(0, 0, 0, 0.15);\n",
              "      filter: drop-shadow(0px 1px 2px rgba(0, 0, 0, 0.3));\n",
              "      fill: #FFFFFF;\n",
              "    }\n",
              "  </style>\n",
              "\n",
              "      <script>\n",
              "        const buttonEl =\n",
              "          document.querySelector('#df-4201c9cb-bf5d-4c36-a889-1353d18afeae button.colab-df-convert');\n",
              "        buttonEl.style.display =\n",
              "          google.colab.kernel.accessAllowed ? 'block' : 'none';\n",
              "\n",
              "        async function convertToInteractive(key) {\n",
              "          const element = document.querySelector('#df-4201c9cb-bf5d-4c36-a889-1353d18afeae');\n",
              "          const dataTable =\n",
              "            await google.colab.kernel.invokeFunction('convertToInteractive',\n",
              "                                                     [key], {});\n",
              "          if (!dataTable) return;\n",
              "\n",
              "          const docLinkHtml = 'Like what you see? Visit the ' +\n",
              "            '<a target=\"_blank\" href=https://colab.research.google.com/notebooks/data_table.ipynb>data table notebook</a>'\n",
              "            + ' to learn more about interactive tables.';\n",
              "          element.innerHTML = '';\n",
              "          dataTable['output_type'] = 'display_data';\n",
              "          await google.colab.output.renderOutput(dataTable, element);\n",
              "          const docLink = document.createElement('div');\n",
              "          docLink.innerHTML = docLinkHtml;\n",
              "          element.appendChild(docLink);\n",
              "        }\n",
              "      </script>\n",
              "    </div>\n",
              "  </div>\n",
              "  "
            ]
          },
          "metadata": {},
          "execution_count": 36
        }
      ]
    },
    {
      "cell_type": "markdown",
      "source": [
        "##**Prática III**\n",
        "\n",
        "Para os próximos exercícios, vamos usar o arquivo [Salaries.csv](https://drive.google.com/file/d/1RhFHIATizCxuSOT6XTcS3Q9y7STASjRr/view?usp=sharing).\n",
        "\n",
        "Para ler o arquivo, primeiro salve-o na sua máquina e faça upload do mesmo para a pasta principal (pasta raiz) do seu Google Drive. Em seguida, rode os seguintes comandos para importar o arquivo e ler as primeiras linhas de dados:"
      ],
      "metadata": {
        "id": "oW58Tlpn_xMn"
      }
    },
    {
      "cell_type": "code",
      "source": [
        "# Carrega biblioteca necessária para leitura de arquivos do Google Drive\n",
        "from google.colab import drive\n",
        "\n",
        "# Montagem do drive\n",
        "drive.mount('/content/drive', force_remount=True)\n",
        "\n",
        "# Leitura do arquivo Salaries.csv\n",
        "import pandas as pd\n",
        "df = pd.read_csv('/content/drive/My Drive/Salaries.csv')\n",
        "df.head()"
      ],
      "metadata": {
        "id": "FNZ14viKBPag"
      },
      "execution_count": null,
      "outputs": []
    },
    {
      "cell_type": "markdown",
      "source": [
        "A partir daqui, usando Pandas, responda as questões a seguir:"
      ],
      "metadata": {
        "id": "Wt0LWjib9Nfv"
      }
    },
    {
      "cell_type": "markdown",
      "source": [
        "###**Exercício 1**\n",
        "\n",
        "\n",
        "Quais colunas tem nesta base?"
      ],
      "metadata": {
        "id": "PX2AikOLA0Kx"
      }
    },
    {
      "cell_type": "code",
      "source": [],
      "metadata": {
        "id": "s2jVsTD8A9kV"
      },
      "execution_count": null,
      "outputs": []
    },
    {
      "cell_type": "markdown",
      "source": [
        "###**Exercício 2**\n",
        "Qual é a coluna de salário base?"
      ],
      "metadata": {
        "id": "UxbPMXDrA97e"
      }
    },
    {
      "cell_type": "markdown",
      "source": [
        "###**Exercício 3**\n",
        "Qual é o salário médio?"
      ],
      "metadata": {
        "id": "N2BCkG4hBCE2"
      }
    },
    {
      "cell_type": "markdown",
      "source": [
        "###**Exercício 4**\n",
        "Qual é o salário máximo?"
      ],
      "metadata": {
        "id": "zktelLKkBI0f"
      }
    },
    {
      "cell_type": "markdown",
      "source": [
        "###**Exercício 5**\n",
        "Qual é o emprego do JOSEPH DRISCOLL?"
      ],
      "metadata": {
        "id": "dE4c43GJBLSn"
      }
    },
    {
      "cell_type": "markdown",
      "source": [
        "###**Exercício 6**\n",
        "Qual o nome da pessoa que tem o maior salário de todos?"
      ],
      "metadata": {
        "id": "Xfvreo6AB6bn"
      }
    },
    {
      "cell_type": "markdown",
      "source": [
        "###**Exercício 7**\n",
        "Qual é o salário médio por ano?"
      ],
      "metadata": {
        "id": "O2CPYCsKB9qV"
      }
    },
    {
      "cell_type": "markdown",
      "source": [
        "---\n",
        "\n",
        "Notebook utilizado para fins educacionais da **Awari**.\n",
        "\n",
        "**© AWARI. Todos os direitos reservados.**"
      ],
      "metadata": {
        "id": "KGzG56wGbO6E"
      }
    }
  ]
}